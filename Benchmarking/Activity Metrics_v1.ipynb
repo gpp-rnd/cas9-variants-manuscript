{
 "cells": [
  {
   "cell_type": "markdown",
   "metadata": {},
   "source": [
    "# Goal\n",
    "The goal of this notebook is to calculate the 3 activity metrics that we are using for the PanPAM data. Here, we have already filtered the data based on pDNA abundance and off-targets (the orginial library was designed such that any sgRNA with >5 off-targets was filtered out, so we are including all sgRNAs). We are calculating fraction active, precision recall, and ROC-AUC by PAM for each variant, including both all sgRNAs, as well as only G19 sgRNAs\n",
    "\n",
    "Updated 2021-07-07"
   ]
  },
  {
   "cell_type": "code",
   "execution_count": 1,
   "metadata": {},
   "outputs": [],
   "source": [
    "import pandas as pd \n",
    "import numpy as np \n",
    "import seaborn as sns\n",
    "import matplotlib.pyplot as plt\n",
    "import matplotlib as mpl\n",
    "from scipy.stats import pearsonr, gaussian_kde, spearmanr, ttest_ind, ks_2samp, fisher_exact\n",
    "from math import log, floor, ceil\n",
    "from statsmodels.distributions.empirical_distribution import ECDF\n",
    "from sklearn.metrics import auc\n",
    "from scipy.stats import rankdata\n",
    "import argparse, os, csv\n",
    "from scipy import percentile\n",
    "import requests\n",
    "import warnings\n",
    "warnings.filterwarnings('ignore')\n",
    "\n",
    "sns.set_style('ticks')\n",
    "sns.set_context('talk')\n",
    "mpl.rc('pdf', fonttype=42)\n",
    "mpl.rcParams['font.sans-serif'] = \"Arial\"\n",
    "mpl.rcParams['font.family'] = \"sans-serif\""
   ]
  },
  {
   "cell_type": "markdown",
   "metadata": {},
   "source": [
    "To begin, we will import the file of average lfcs that was generated in the \"Data processing\" notebook."
   ]
  },
  {
   "cell_type": "code",
   "execution_count": 2,
   "metadata": {},
   "outputs": [],
   "source": [
    "all_variants = pd.read_table('../../data_v3/Fig 1_3_PanPAM on-target/processed/panpam_avglfc_v2.txt')"
   ]
  },
  {
   "cell_type": "code",
   "execution_count": 4,
   "metadata": {},
   "outputs": [
    {
     "data": {
      "text/plain": [
       "Essential                10187\n",
       "NonEssential              6215\n",
       "Non-targeting Control      989\n",
       "BRCA2                      647\n",
       "BRCA1                      613\n",
       "Name: Construct IDs, dtype: int64"
      ]
     },
     "execution_count": 4,
     "metadata": {},
     "output_type": "execute_result"
    }
   ],
   "source": [
    "all_variants['Construct IDs'].value_counts()"
   ]
  },
  {
   "cell_type": "code",
   "execution_count": 5,
   "metadata": {},
   "outputs": [],
   "source": [
    "#Drop BRCA1 and BRCA2\n",
    "all_variants = all_variants[~all_variants['Construct IDs'].str.contains('BRCA')]"
   ]
  },
  {
   "cell_type": "markdown",
   "metadata": {},
   "source": [
    "To capture all 256 PAMs in a list, we'll create a df that excludes the controls (which have the guide sequence listed as PAM)"
   ]
  },
  {
   "cell_type": "code",
   "execution_count": 19,
   "metadata": {},
   "outputs": [],
   "source": [
    "c = all_variants.copy()\n",
    "c = c[c['Construct IDs'] != 'Non-targeting Control']"
   ]
  },
  {
   "cell_type": "code",
   "execution_count": 20,
   "metadata": {},
   "outputs": [
    {
     "name": "stdout",
     "output_type": "stream",
     "text": [
      "256\n"
     ]
    }
   ],
   "source": [
    "pams = set(list(c.PAM))\n",
    "print(len(pams))"
   ]
  },
  {
   "cell_type": "code",
   "execution_count": 21,
   "metadata": {},
   "outputs": [
    {
     "data": {
      "text/plain": [
       "['WTCas9_AVGLFC_frompDNA',\n",
       " 'Cas9-HF1_AVGLFC_frompDNA',\n",
       " 'eCas9-1.1_AVGLFC_frompDNA',\n",
       " 'evoCas9_AVGLFC_frompDNA',\n",
       " 'HypaCas9_AVGLFC_frompDNA',\n",
       " 'xCas9-3.7_AVGLFC_frompDNA',\n",
       " 'Cas9-VQR_AVGLFC_frompDNA',\n",
       " 'Cas9-VRER_AVGLFC_frompDNA',\n",
       " 'Cas9-NG_AVGLFC_frompDNA',\n",
       " 'SpG_AVGLFC_frompDNA']"
      ]
     },
     "execution_count": 21,
     "metadata": {},
     "output_type": "execute_result"
    }
   ],
   "source": [
    "cols = list(all_variants.columns)\n",
    "conditions = cols[30:]\n",
    "conditions"
   ]
  },
  {
   "cell_type": "markdown",
   "metadata": {},
   "source": [
    "## Fraction Active "
   ]
  },
  {
   "cell_type": "markdown",
   "metadata": {},
   "source": [
    "For this metric, we will calculate the fraction of essential guides (in the essential df) that are more depleted than the 5th percentile of the most active nonessential and control guides (in the nonessential_control df)"
   ]
  },
  {
   "cell_type": "code",
   "execution_count": 22,
   "metadata": {},
   "outputs": [],
   "source": [
    "essential = all_variants[all_variants['Construct IDs'] == 'Essential']"
   ]
  },
  {
   "cell_type": "code",
   "execution_count": 23,
   "metadata": {},
   "outputs": [],
   "source": [
    "nonessential_control = all_variants[all_variants['Construct IDs'] !='Essential']"
   ]
  },
  {
   "cell_type": "code",
   "execution_count": 28,
   "metadata": {},
   "outputs": [
    {
     "name": "stdout",
     "output_type": "stream",
     "text": [
      "-0.8380376718165281\n",
      "-0.5912156002714206\n",
      "-0.7922092182991427\n",
      "-0.889809944675945\n",
      "-0.524698676543734\n",
      "-0.560145405952358\n",
      "-0.5306231611644332\n",
      "-0.5222552503126222\n",
      "-0.6140252937189129\n",
      "-0.5787280416277137\n"
     ]
    }
   ],
   "source": [
    "colnames = ['PAM']\n",
    "colnames.extend(pams)\n",
    "fraction_active_df = pd.DataFrame(columns=colnames)\n",
    "\n",
    "for i,c in enumerate(conditions):\n",
    "    nonessential_control = nonessential_control.sort_values(by=c, ascending=True)\n",
    "    cutoff = percentile(list(nonessential_control[c]), 5)\n",
    "    print(cutoff)\n",
    "    row = [c]\n",
    "    for j,p in enumerate(pams):\n",
    "        p_df = essential[essential['PAM'] ==p]\n",
    "        active = p_df[p_df[c] <= cutoff]\n",
    "        fraction_active = len(active)/len(p_df)\n",
    "        #percent_active_df.iloc[i,p] = percent_active\n",
    "        row.append(fraction_active)\n",
    "    fraction_active_df = fraction_active_df.append(pd.Series(row, index=colnames), ignore_index=True)\n"
   ]
  },
  {
   "cell_type": "code",
   "execution_count": 29,
   "metadata": {},
   "outputs": [
    {
     "data": {
      "text/html": [
       "<div>\n",
       "<style scoped>\n",
       "    .dataframe tbody tr th:only-of-type {\n",
       "        vertical-align: middle;\n",
       "    }\n",
       "\n",
       "    .dataframe tbody tr th {\n",
       "        vertical-align: top;\n",
       "    }\n",
       "\n",
       "    .dataframe thead th {\n",
       "        text-align: right;\n",
       "    }\n",
       "</style>\n",
       "<table border=\"1\" class=\"dataframe\">\n",
       "  <thead>\n",
       "    <tr style=\"text-align: right;\">\n",
       "      <th></th>\n",
       "      <th>PAM</th>\n",
       "      <th>WTCas9 fraction active</th>\n",
       "      <th>Cas9-HF1 fraction active</th>\n",
       "      <th>eCas9-1.1 fraction active</th>\n",
       "      <th>evoCas9 fraction active</th>\n",
       "      <th>HypaCas9 fraction active</th>\n",
       "      <th>xCas9-3.7 fraction active</th>\n",
       "      <th>Cas9-VQR fraction active</th>\n",
       "      <th>Cas9-VRER fraction active</th>\n",
       "      <th>Cas9-NG fraction active</th>\n",
       "      <th>SpG fraction active</th>\n",
       "    </tr>\n",
       "  </thead>\n",
       "  <tbody>\n",
       "    <tr>\n",
       "      <th>1</th>\n",
       "      <td>CGCC</td>\n",
       "      <td>0.0416667</td>\n",
       "      <td>0.0625</td>\n",
       "      <td>0.0208333</td>\n",
       "      <td>0.0416667</td>\n",
       "      <td>0.0833333</td>\n",
       "      <td>0.104167</td>\n",
       "      <td>0.0208333</td>\n",
       "      <td>0.0625</td>\n",
       "      <td>0.125</td>\n",
       "      <td>0.4375</td>\n",
       "    </tr>\n",
       "    <tr>\n",
       "      <th>2</th>\n",
       "      <td>TGGC</td>\n",
       "      <td>1</td>\n",
       "      <td>0.311111</td>\n",
       "      <td>0.466667</td>\n",
       "      <td>0.111111</td>\n",
       "      <td>0.377778</td>\n",
       "      <td>0.711111</td>\n",
       "      <td>0.111111</td>\n",
       "      <td>0.0888889</td>\n",
       "      <td>0.466667</td>\n",
       "      <td>0.511111</td>\n",
       "    </tr>\n",
       "    <tr>\n",
       "      <th>3</th>\n",
       "      <td>GGCC</td>\n",
       "      <td>0.0697674</td>\n",
       "      <td>0.0232558</td>\n",
       "      <td>0.0232558</td>\n",
       "      <td>0.0465116</td>\n",
       "      <td>0</td>\n",
       "      <td>0.0465116</td>\n",
       "      <td>0.0232558</td>\n",
       "      <td>0.0465116</td>\n",
       "      <td>0.139535</td>\n",
       "      <td>0.674419</td>\n",
       "    </tr>\n",
       "    <tr>\n",
       "      <th>4</th>\n",
       "      <td>GTGG</td>\n",
       "      <td>0.0434783</td>\n",
       "      <td>0.0652174</td>\n",
       "      <td>0.0434783</td>\n",
       "      <td>0.0652174</td>\n",
       "      <td>0</td>\n",
       "      <td>0.0652174</td>\n",
       "      <td>0.0434783</td>\n",
       "      <td>0.0217391</td>\n",
       "      <td>0.173913</td>\n",
       "      <td>0.0652174</td>\n",
       "    </tr>\n",
       "    <tr>\n",
       "      <th>5</th>\n",
       "      <td>TTAT</td>\n",
       "      <td>0</td>\n",
       "      <td>0.0714286</td>\n",
       "      <td>0.0714286</td>\n",
       "      <td>0.0357143</td>\n",
       "      <td>0.0357143</td>\n",
       "      <td>0.0714286</td>\n",
       "      <td>0.0357143</td>\n",
       "      <td>0.107143</td>\n",
       "      <td>0.0714286</td>\n",
       "      <td>0</td>\n",
       "    </tr>\n",
       "  </tbody>\n",
       "</table>\n",
       "</div>"
      ],
      "text/plain": [
       "    PAM WTCas9 fraction active Cas9-HF1 fraction active  \\\n",
       "1  CGCC              0.0416667                   0.0625   \n",
       "2  TGGC                      1                 0.311111   \n",
       "3  GGCC              0.0697674                0.0232558   \n",
       "4  GTGG              0.0434783                0.0652174   \n",
       "5  TTAT                      0                0.0714286   \n",
       "\n",
       "  eCas9-1.1 fraction active evoCas9 fraction active HypaCas9 fraction active  \\\n",
       "1                 0.0208333               0.0416667                0.0833333   \n",
       "2                  0.466667                0.111111                 0.377778   \n",
       "3                 0.0232558               0.0465116                        0   \n",
       "4                 0.0434783               0.0652174                        0   \n",
       "5                 0.0714286               0.0357143                0.0357143   \n",
       "\n",
       "  xCas9-3.7 fraction active Cas9-VQR fraction active  \\\n",
       "1                  0.104167                0.0208333   \n",
       "2                  0.711111                 0.111111   \n",
       "3                 0.0465116                0.0232558   \n",
       "4                 0.0652174                0.0434783   \n",
       "5                 0.0714286                0.0357143   \n",
       "\n",
       "  Cas9-VRER fraction active Cas9-NG fraction active SpG fraction active  \n",
       "1                    0.0625                   0.125              0.4375  \n",
       "2                 0.0888889                0.466667            0.511111  \n",
       "3                 0.0465116                0.139535            0.674419  \n",
       "4                 0.0217391                0.173913           0.0652174  \n",
       "5                  0.107143               0.0714286                   0  "
      ]
     },
     "execution_count": 29,
     "metadata": {},
     "output_type": "execute_result"
    }
   ],
   "source": [
    "#transpose dataframe\n",
    "fraction_active_df = fraction_active_df.T\n",
    "fraction_active_df.insert(0,'PAM',fraction_active_df.index)\n",
    "fraction_active_df.index = list(range(0,len(fraction_active_df)))\n",
    "fraction_active_df.columns = list(fraction_active_df.iloc[0,:])\n",
    "fraction_active_df_t = fraction_active_df.drop(0)\n",
    "fraction_active_df_t = fraction_active_df_t.rename(columns={'WTCas9_AVGLFC_frompDNA': 'WTCas9 fraction active',\n",
    "                                                            'Cas9-HF1_AVGLFC_frompDNA': 'Cas9-HF1 fraction active',\n",
    "                                                            'eCas9-1.1_AVGLFC_frompDNA': 'eCas9-1.1 fraction active',\n",
    "                                                            'evoCas9_AVGLFC_frompDNA': 'evoCas9 fraction active',\n",
    "                                                            'HypaCas9_AVGLFC_frompDNA': 'HypaCas9 fraction active', \n",
    "                                                             'xCas9-3.7_AVGLFC_frompDNA': 'xCas9-3.7 fraction active',\n",
    "                                                             'Cas9-VQR_AVGLFC_frompDNA': 'Cas9-VQR fraction active',\n",
    "                                                             'Cas9-VRER_AVGLFC_frompDNA': 'Cas9-VRER fraction active',\n",
    "                                                             'Cas9-NG_AVGLFC_frompDNA': 'Cas9-NG fraction active',\n",
    "                                                             'SpG_AVGLFC_frompDNA': 'SpG fraction active'\n",
    "                                                            })\n",
    "fraction_active_df_t.head()\n"
   ]
  },
  {
   "cell_type": "markdown",
   "metadata": {},
   "source": [
    "Add a column that contains \"N_PAM\". This reduces a PAM from the form \"NGGC\" to \"NGGN\""
   ]
  },
  {
   "cell_type": "code",
   "execution_count": 30,
   "metadata": {},
   "outputs": [
    {
     "data": {
      "text/html": [
       "<div>\n",
       "<style scoped>\n",
       "    .dataframe tbody tr th:only-of-type {\n",
       "        vertical-align: middle;\n",
       "    }\n",
       "\n",
       "    .dataframe tbody tr th {\n",
       "        vertical-align: top;\n",
       "    }\n",
       "\n",
       "    .dataframe thead th {\n",
       "        text-align: right;\n",
       "    }\n",
       "</style>\n",
       "<table border=\"1\" class=\"dataframe\">\n",
       "  <thead>\n",
       "    <tr style=\"text-align: right;\">\n",
       "      <th></th>\n",
       "      <th>PAM</th>\n",
       "      <th>WTCas9 fraction active</th>\n",
       "      <th>Cas9-HF1 fraction active</th>\n",
       "      <th>eCas9-1.1 fraction active</th>\n",
       "      <th>evoCas9 fraction active</th>\n",
       "      <th>HypaCas9 fraction active</th>\n",
       "      <th>xCas9-3.7 fraction active</th>\n",
       "      <th>Cas9-VQR fraction active</th>\n",
       "      <th>Cas9-VRER fraction active</th>\n",
       "      <th>Cas9-NG fraction active</th>\n",
       "      <th>SpG fraction active</th>\n",
       "      <th>N_PAM</th>\n",
       "    </tr>\n",
       "  </thead>\n",
       "  <tbody>\n",
       "    <tr>\n",
       "      <th>1</th>\n",
       "      <td>CGCC</td>\n",
       "      <td>0.0416667</td>\n",
       "      <td>0.0625</td>\n",
       "      <td>0.0208333</td>\n",
       "      <td>0.0416667</td>\n",
       "      <td>0.0833333</td>\n",
       "      <td>0.104167</td>\n",
       "      <td>0.0208333</td>\n",
       "      <td>0.0625</td>\n",
       "      <td>0.125</td>\n",
       "      <td>0.4375</td>\n",
       "      <td>NGCN</td>\n",
       "    </tr>\n",
       "    <tr>\n",
       "      <th>2</th>\n",
       "      <td>TGGC</td>\n",
       "      <td>1</td>\n",
       "      <td>0.311111</td>\n",
       "      <td>0.466667</td>\n",
       "      <td>0.111111</td>\n",
       "      <td>0.377778</td>\n",
       "      <td>0.711111</td>\n",
       "      <td>0.111111</td>\n",
       "      <td>0.0888889</td>\n",
       "      <td>0.466667</td>\n",
       "      <td>0.511111</td>\n",
       "      <td>NGGN</td>\n",
       "    </tr>\n",
       "    <tr>\n",
       "      <th>3</th>\n",
       "      <td>GGCC</td>\n",
       "      <td>0.0697674</td>\n",
       "      <td>0.0232558</td>\n",
       "      <td>0.0232558</td>\n",
       "      <td>0.0465116</td>\n",
       "      <td>0</td>\n",
       "      <td>0.0465116</td>\n",
       "      <td>0.0232558</td>\n",
       "      <td>0.0465116</td>\n",
       "      <td>0.139535</td>\n",
       "      <td>0.674419</td>\n",
       "      <td>NGCN</td>\n",
       "    </tr>\n",
       "    <tr>\n",
       "      <th>4</th>\n",
       "      <td>GTGG</td>\n",
       "      <td>0.0434783</td>\n",
       "      <td>0.0652174</td>\n",
       "      <td>0.0434783</td>\n",
       "      <td>0.0652174</td>\n",
       "      <td>0</td>\n",
       "      <td>0.0652174</td>\n",
       "      <td>0.0434783</td>\n",
       "      <td>0.0217391</td>\n",
       "      <td>0.173913</td>\n",
       "      <td>0.0652174</td>\n",
       "      <td>NTGN</td>\n",
       "    </tr>\n",
       "    <tr>\n",
       "      <th>5</th>\n",
       "      <td>TTAT</td>\n",
       "      <td>0</td>\n",
       "      <td>0.0714286</td>\n",
       "      <td>0.0714286</td>\n",
       "      <td>0.0357143</td>\n",
       "      <td>0.0357143</td>\n",
       "      <td>0.0714286</td>\n",
       "      <td>0.0357143</td>\n",
       "      <td>0.107143</td>\n",
       "      <td>0.0714286</td>\n",
       "      <td>0</td>\n",
       "      <td>NTAN</td>\n",
       "    </tr>\n",
       "  </tbody>\n",
       "</table>\n",
       "</div>"
      ],
      "text/plain": [
       "    PAM WTCas9 fraction active Cas9-HF1 fraction active  \\\n",
       "1  CGCC              0.0416667                   0.0625   \n",
       "2  TGGC                      1                 0.311111   \n",
       "3  GGCC              0.0697674                0.0232558   \n",
       "4  GTGG              0.0434783                0.0652174   \n",
       "5  TTAT                      0                0.0714286   \n",
       "\n",
       "  eCas9-1.1 fraction active evoCas9 fraction active HypaCas9 fraction active  \\\n",
       "1                 0.0208333               0.0416667                0.0833333   \n",
       "2                  0.466667                0.111111                 0.377778   \n",
       "3                 0.0232558               0.0465116                        0   \n",
       "4                 0.0434783               0.0652174                        0   \n",
       "5                 0.0714286               0.0357143                0.0357143   \n",
       "\n",
       "  xCas9-3.7 fraction active Cas9-VQR fraction active  \\\n",
       "1                  0.104167                0.0208333   \n",
       "2                  0.711111                 0.111111   \n",
       "3                 0.0465116                0.0232558   \n",
       "4                 0.0652174                0.0434783   \n",
       "5                 0.0714286                0.0357143   \n",
       "\n",
       "  Cas9-VRER fraction active Cas9-NG fraction active SpG fraction active N_PAM  \n",
       "1                    0.0625                   0.125              0.4375  NGCN  \n",
       "2                 0.0888889                0.466667            0.511111  NGGN  \n",
       "3                 0.0465116                0.139535            0.674419  NGCN  \n",
       "4                 0.0217391                0.173913           0.0652174  NTGN  \n",
       "5                  0.107143               0.0714286                   0  NTAN  "
      ]
     },
     "execution_count": 30,
     "metadata": {},
     "output_type": "execute_result"
    }
   ],
   "source": [
    "fraction_active_df_t['N_PAM'] = ['N'+p[1:3]+'N'  for p in fraction_active_df_t.PAM]\n",
    "fraction_active_df_t.head()"
   ]
  },
  {
   "cell_type": "markdown",
   "metadata": {},
   "source": [
    "Add a column with \"Best\". This will be used to sort PAMs by activity"
   ]
  },
  {
   "cell_type": "code",
   "execution_count": 31,
   "metadata": {},
   "outputs": [
    {
     "data": {
      "text/html": [
       "<div>\n",
       "<style scoped>\n",
       "    .dataframe tbody tr th:only-of-type {\n",
       "        vertical-align: middle;\n",
       "    }\n",
       "\n",
       "    .dataframe tbody tr th {\n",
       "        vertical-align: top;\n",
       "    }\n",
       "\n",
       "    .dataframe thead th {\n",
       "        text-align: right;\n",
       "    }\n",
       "</style>\n",
       "<table border=\"1\" class=\"dataframe\">\n",
       "  <thead>\n",
       "    <tr style=\"text-align: right;\">\n",
       "      <th></th>\n",
       "      <th>PAM</th>\n",
       "      <th>WTCas9 fraction active</th>\n",
       "      <th>Cas9-HF1 fraction active</th>\n",
       "      <th>eCas9-1.1 fraction active</th>\n",
       "      <th>evoCas9 fraction active</th>\n",
       "      <th>HypaCas9 fraction active</th>\n",
       "      <th>xCas9-3.7 fraction active</th>\n",
       "      <th>Cas9-VQR fraction active</th>\n",
       "      <th>Cas9-VRER fraction active</th>\n",
       "      <th>Cas9-NG fraction active</th>\n",
       "      <th>SpG fraction active</th>\n",
       "      <th>N_PAM</th>\n",
       "      <th>Best</th>\n",
       "    </tr>\n",
       "  </thead>\n",
       "  <tbody>\n",
       "    <tr>\n",
       "      <th>197</th>\n",
       "      <td>CGGA</td>\n",
       "      <td>1</td>\n",
       "      <td>0.326087</td>\n",
       "      <td>0.5</td>\n",
       "      <td>0.108696</td>\n",
       "      <td>0.413043</td>\n",
       "      <td>0.347826</td>\n",
       "      <td>0.0652174</td>\n",
       "      <td>0.0217391</td>\n",
       "      <td>0.456522</td>\n",
       "      <td>0.413043</td>\n",
       "      <td>NGGN</td>\n",
       "      <td>1.000000</td>\n",
       "    </tr>\n",
       "    <tr>\n",
       "      <th>2</th>\n",
       "      <td>TGGC</td>\n",
       "      <td>1</td>\n",
       "      <td>0.311111</td>\n",
       "      <td>0.466667</td>\n",
       "      <td>0.111111</td>\n",
       "      <td>0.377778</td>\n",
       "      <td>0.711111</td>\n",
       "      <td>0.111111</td>\n",
       "      <td>0.0888889</td>\n",
       "      <td>0.466667</td>\n",
       "      <td>0.511111</td>\n",
       "      <td>NGGN</td>\n",
       "      <td>1.000000</td>\n",
       "    </tr>\n",
       "    <tr>\n",
       "      <th>173</th>\n",
       "      <td>TGGT</td>\n",
       "      <td>1</td>\n",
       "      <td>0.422222</td>\n",
       "      <td>0.622222</td>\n",
       "      <td>0.177778</td>\n",
       "      <td>0.4</td>\n",
       "      <td>0.4</td>\n",
       "      <td>0.0888889</td>\n",
       "      <td>0.0222222</td>\n",
       "      <td>0.688889</td>\n",
       "      <td>0.822222</td>\n",
       "      <td>NGGN</td>\n",
       "      <td>1.000000</td>\n",
       "    </tr>\n",
       "    <tr>\n",
       "      <th>88</th>\n",
       "      <td>CGGC</td>\n",
       "      <td>0.979592</td>\n",
       "      <td>0.306122</td>\n",
       "      <td>0.571429</td>\n",
       "      <td>0.0816327</td>\n",
       "      <td>0.428571</td>\n",
       "      <td>0.734694</td>\n",
       "      <td>0.0612245</td>\n",
       "      <td>0.0816327</td>\n",
       "      <td>0.285714</td>\n",
       "      <td>0.285714</td>\n",
       "      <td>NGGN</td>\n",
       "      <td>0.979592</td>\n",
       "    </tr>\n",
       "    <tr>\n",
       "      <th>209</th>\n",
       "      <td>GGGA</td>\n",
       "      <td>0.978261</td>\n",
       "      <td>0.369565</td>\n",
       "      <td>0.608696</td>\n",
       "      <td>0.108696</td>\n",
       "      <td>0.565217</td>\n",
       "      <td>0.478261</td>\n",
       "      <td>0.0434783</td>\n",
       "      <td>0.0217391</td>\n",
       "      <td>0.76087</td>\n",
       "      <td>0.76087</td>\n",
       "      <td>NGGN</td>\n",
       "      <td>0.978261</td>\n",
       "    </tr>\n",
       "  </tbody>\n",
       "</table>\n",
       "</div>"
      ],
      "text/plain": [
       "      PAM WTCas9 fraction active Cas9-HF1 fraction active  \\\n",
       "197  CGGA                      1                 0.326087   \n",
       "2    TGGC                      1                 0.311111   \n",
       "173  TGGT                      1                 0.422222   \n",
       "88   CGGC               0.979592                 0.306122   \n",
       "209  GGGA               0.978261                 0.369565   \n",
       "\n",
       "    eCas9-1.1 fraction active evoCas9 fraction active  \\\n",
       "197                       0.5                0.108696   \n",
       "2                    0.466667                0.111111   \n",
       "173                  0.622222                0.177778   \n",
       "88                   0.571429               0.0816327   \n",
       "209                  0.608696                0.108696   \n",
       "\n",
       "    HypaCas9 fraction active xCas9-3.7 fraction active  \\\n",
       "197                 0.413043                  0.347826   \n",
       "2                   0.377778                  0.711111   \n",
       "173                      0.4                       0.4   \n",
       "88                  0.428571                  0.734694   \n",
       "209                 0.565217                  0.478261   \n",
       "\n",
       "    Cas9-VQR fraction active Cas9-VRER fraction active  \\\n",
       "197                0.0652174                 0.0217391   \n",
       "2                   0.111111                 0.0888889   \n",
       "173                0.0888889                 0.0222222   \n",
       "88                 0.0612245                 0.0816327   \n",
       "209                0.0434783                 0.0217391   \n",
       "\n",
       "    Cas9-NG fraction active SpG fraction active N_PAM      Best  \n",
       "197                0.456522            0.413043  NGGN  1.000000  \n",
       "2                  0.466667            0.511111  NGGN  1.000000  \n",
       "173                0.688889            0.822222  NGGN  1.000000  \n",
       "88                 0.285714            0.285714  NGGN  0.979592  \n",
       "209                 0.76087             0.76087  NGGN  0.978261  "
      ]
     },
     "execution_count": 31,
     "metadata": {},
     "output_type": "execute_result"
    }
   ],
   "source": [
    "fraction_active_df_t['Best'] = fraction_active_df_t.iloc[:,1:-1].max(axis=1)\n",
    "fraction_active_df_t.sort_values(by='Best', ascending=False).head()"
   ]
  },
  {
   "cell_type": "code",
   "execution_count": 32,
   "metadata": {},
   "outputs": [],
   "source": [
    "fraction_active_df_t.to_csv('../../data_v3/Fig 1_3_PanPAM on-target/processed/fractionactive_allsgRNA_v2.txt', sep='\\t')"
   ]
  },
  {
   "cell_type": "markdown",
   "metadata": {},
   "source": [
    "## Precision Recall\n"
   ]
  },
  {
   "cell_type": "code",
   "execution_count": 33,
   "metadata": {},
   "outputs": [],
   "source": [
    "def get_pre_recall(df, col):\n",
    "    df = df.sort_values(by=col)\n",
    "    #print(df.head())\n",
    "    df['ess_cumsum'] = np.cumsum(df['ess-val'])\n",
    "    df['non_ess_cumsum'] = np.cumsum(df['non-ess-val'])\n",
    "    df['precision'] = df['ess_cumsum']/(df['ess_cumsum']+df['non_ess_cumsum'])\n",
    "    df['recall'] = df['ess_cumsum']/(df['ess_cumsum'].iloc[-1])\n",
    "    pre_rec_df = pd.DataFrame({'Precision':list(df.precision), 'Recall':list(df.recall)})\n",
    "    pre_95 = df.loc[df['precision']>=0.95,'recall'].values\n",
    "    if len(pre_95) > 0:\n",
    "        rec = max(pre_95)\n",
    "    else:\n",
    "        rec = 0.0\n",
    "    #return pre_rec_df\n",
    "    return rec"
   ]
  },
  {
   "cell_type": "markdown",
   "metadata": {},
   "source": [
    "For this precision recall calculation, we'll designate guides targeting essential genes as true positives, and those targeting nonessentials/controls as false positives"
   ]
  },
  {
   "cell_type": "code",
   "execution_count": 40,
   "metadata": {},
   "outputs": [],
   "source": [
    "allPAMs = pd.read_table('../../data_v3/pam_lists/All_PAMS.txt')\n",
    "\n",
    "all_variants['ess-val'] = [1 if r['Construct IDs'] == 'Essential' else 0 for i,r in all_variants.iterrows()]\n",
    "all_variants['non-ess-val'] = [0 if r['Construct IDs'] == 'Essential' else 1 for i,r in all_variants.iterrows()]\n",
    "\n",
    "outputfile = ('../../data_v3/Fig 1_3_PanPAM on-target/processed/precision_recall_allsgRNA_v2.txt')\n"
   ]
  },
  {
   "cell_type": "code",
   "execution_count": 41,
   "metadata": {},
   "outputs": [],
   "source": [
    "with open(outputfile,'w') as o:\n",
    "    w = csv.writer(o,delimiter='\\t')\n",
    "    new_colnames = ['PAM']\n",
    "    new_colnames.extend(conditions)\n",
    "    w.writerow((new_colnames))\n",
    "    for i,p in allPAMs.iterrows():\n",
    "        pam = p['All_PAMs']\n",
    "        #print(pam)\n",
    "        p_df = all_variants[all_variants['PAM'] == pam]\n",
    "        row = [pam]\n",
    "        for c in conditions:\n",
    "            #print(c)\n",
    "            c_df = p_df.loc[:,[c,'ess-val','non-ess-val']]\n",
    "            #print(p_df.head())\n",
    "            recall = get_pre_recall(c_df,c)\n",
    "            row.append(recall)\n",
    "        w.writerow((row))"
   ]
  },
  {
   "cell_type": "markdown",
   "metadata": {},
   "source": [
    "## ROC-AUC "
   ]
  },
  {
   "cell_type": "code",
   "execution_count": 42,
   "metadata": {},
   "outputs": [],
   "source": [
    "from sklearn.metrics import auc\n",
    "import csv\n",
    "\n",
    "def get_roc_auc(df,c):\n",
    "    df = df.sort_values(by=c)\n",
    "    df['tp_cumsum'] = np.cumsum(df['tp-val'])\n",
    "    df['fp_cumsum'] = np.cumsum(df['fp-val'])\n",
    "    df['fpr'] = df['fp_cumsum']/(df['fp_cumsum'].iloc[-1])\n",
    "    df['tpr'] = df['tp_cumsum']/(df['tp_cumsum'].iloc[-1])\n",
    "    roc_auc = auc(df['fpr'],df['tpr'])\n",
    "    #df.to_csv(roc_outputfile,sep='\\t',index=False)\n",
    "    return roc_auc"
   ]
  },
  {
   "cell_type": "code",
   "execution_count": 43,
   "metadata": {},
   "outputs": [],
   "source": [
    "all_variants['tp-val'] = [1 if r['Construct IDs'] == 'Essential' else 0 for i,r in all_variants.iterrows()]\n",
    "all_variants['fp-val'] = [0 if r['Construct IDs'] == 'Essential' else 1 for i,r in all_variants.iterrows()]\n",
    "\n",
    "outputfile =('../../data_v3/Fig 1_3_PanPAM on-target/processed/ROC_AUC_allsgRNA_v2.txt')\n"
   ]
  },
  {
   "cell_type": "code",
   "execution_count": 44,
   "metadata": {},
   "outputs": [],
   "source": [
    "with open(outputfile,'w') as o:\n",
    "    w = csv.writer(o,delimiter='\\t')\n",
    "    new_colnames = ['PAM']\n",
    "    new_colnames.extend(conditions)\n",
    "    w.writerow((new_colnames))\n",
    "    for i,p in allPAMs.iterrows():\n",
    "        pam = p['All_PAMs']\n",
    "        #print(pam)\n",
    "        p_df = all_variants[all_variants['PAM'] == pam]\n",
    "        row = [pam]\n",
    "        for c in conditions:\n",
    "            #print(c)\n",
    "            c_df = p_df.loc[:,[c,'tp-val','fp-val']]\n",
    "            #print(p_df.head())\n",
    "            roc_auc = get_roc_auc(c_df,c)\n",
    "            #print(roc_auc)\n",
    "            row.append(roc_auc)\n",
    "        w.writerow((row))"
   ]
  },
  {
   "cell_type": "code",
   "execution_count": null,
   "metadata": {},
   "outputs": [],
   "source": []
  }
 ],
 "metadata": {
  "hide_input": false,
  "kernelspec": {
   "display_name": "Python 3",
   "language": "python",
   "name": "python3"
  },
  "language_info": {
   "codemirror_mode": {
    "name": "ipython",
    "version": 3
   },
   "file_extension": ".py",
   "mimetype": "text/x-python",
   "name": "python",
   "nbconvert_exporter": "python",
   "pygments_lexer": "ipython3",
   "version": "3.7.3"
  },
  "toc": {
   "base_numbering": 1,
   "nav_menu": {},
   "number_sections": true,
   "sideBar": true,
   "skip_h1_title": false,
   "title_cell": "Table of Contents",
   "title_sidebar": "Contents",
   "toc_cell": false,
   "toc_position": {},
   "toc_section_display": true,
   "toc_window_display": false
  },
  "varInspector": {
   "cols": {
    "lenName": 16,
    "lenType": 16,
    "lenVar": 40
   },
   "kernels_config": {
    "python": {
     "delete_cmd_postfix": "",
     "delete_cmd_prefix": "del ",
     "library": "var_list.py",
     "varRefreshCmd": "print(var_dic_list())"
    },
    "r": {
     "delete_cmd_postfix": ") ",
     "delete_cmd_prefix": "rm(",
     "library": "var_list.r",
     "varRefreshCmd": "cat(var_dic_list()) "
    }
   },
   "types_to_exclude": [
    "module",
    "function",
    "builtin_function_or_method",
    "instance",
    "_Feature"
   ],
   "window_display": false
  }
 },
 "nbformat": 4,
 "nbformat_minor": 2
}
