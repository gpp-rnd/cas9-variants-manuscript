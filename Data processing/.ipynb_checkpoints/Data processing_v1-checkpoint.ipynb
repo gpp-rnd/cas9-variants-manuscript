{
 "cells": [
  {
   "cell_type": "markdown",
   "metadata": {},
   "source": [
    "The purpose of this notebook is to process the raw reads from Supplementary Data 1 to log2-fold changes for each variant screened with the PAM-mapping library"
   ]
  },
  {
   "cell_type": "code",
   "execution_count": 1,
   "metadata": {},
   "outputs": [],
   "source": [
    "import pandas as pd\n",
    "from poola import core as pool\n",
    "from scipy.stats import pearsonr"
   ]
  },
  {
   "cell_type": "markdown",
   "metadata": {},
   "source": [
    "Read in Supplementary Table 1\n",
    "\n",
    "One tab contains the reads, another the library annotation"
   ]
  },
  {
   "cell_type": "code",
   "execution_count": 2,
   "metadata": {},
   "outputs": [],
   "source": [
    "panpam_reads = pd.read_excel('../../Supplementary Data/Supplementary_Data1_v3.xlsx', 'PanPAM counts', \n",
    "                             skiprows=2, names = ['sgRNA Sequence', 'pDNA', 'WTCas9_RepA', 'WTCas9_RepB',\n",
    "                                                 'Cas9-HF1_RepA', 'Cas9-HF1_RepB', 'eCas9-1.1_RepA', 'eCas9-1.1_RepB',\n",
    "                                                 'evoCas9_RepA', 'evoCas9_RepB', 'HypaCas9_RepA', 'HypaCas9_RepB',\n",
    "                                                 'xCas9-3.7_RepA', 'xCas9-3.7_RepB', 'Cas9-VQR_RepA', 'Cas9-VQR_RepB',\n",
    "                                                 'Cas9-VRER_RepA', 'Cas9-VRER_RepB', 'Cas9-NG_RepA', 'Cas9-NG_RepB',\n",
    "                                                 'SpG_RepA', 'SpG_RepB'])\n",
    "annotation = pd.read_excel('../../Supplementary Data/Supplementary_Data1_v3.xlsx', 'Library annotation')\n"
   ]
  },
  {
   "cell_type": "code",
   "execution_count": 7,
   "metadata": {},
   "outputs": [
    {
     "name": "stdout",
     "output_type": "stream",
     "text": [
      "(18768, 22)\n"
     ]
    },
    {
     "data": {
      "text/html": [
       "<div>\n",
       "<style scoped>\n",
       "    .dataframe tbody tr th:only-of-type {\n",
       "        vertical-align: middle;\n",
       "    }\n",
       "\n",
       "    .dataframe tbody tr th {\n",
       "        vertical-align: top;\n",
       "    }\n",
       "\n",
       "    .dataframe thead th {\n",
       "        text-align: right;\n",
       "    }\n",
       "</style>\n",
       "<table border=\"1\" class=\"dataframe\">\n",
       "  <thead>\n",
       "    <tr style=\"text-align: right;\">\n",
       "      <th></th>\n",
       "      <th>sgRNA Sequence</th>\n",
       "      <th>pDNA</th>\n",
       "      <th>WTCas9_RepA</th>\n",
       "      <th>WTCas9_RepB</th>\n",
       "      <th>Cas9-HF1_RepA</th>\n",
       "      <th>Cas9-HF1_RepB</th>\n",
       "      <th>eCas9-1.1_RepA</th>\n",
       "      <th>eCas9-1.1_RepB</th>\n",
       "      <th>evoCas9_RepA</th>\n",
       "      <th>evoCas9_RepB</th>\n",
       "      <th>...</th>\n",
       "      <th>xCas9-3.7_RepA</th>\n",
       "      <th>xCas9-3.7_RepB</th>\n",
       "      <th>Cas9-VQR_RepA</th>\n",
       "      <th>Cas9-VQR_RepB</th>\n",
       "      <th>Cas9-VRER_RepA</th>\n",
       "      <th>Cas9-VRER_RepB</th>\n",
       "      <th>Cas9-NG_RepA</th>\n",
       "      <th>Cas9-NG_RepB</th>\n",
       "      <th>SpG_RepA</th>\n",
       "      <th>SpG_RepB</th>\n",
       "    </tr>\n",
       "  </thead>\n",
       "  <tbody>\n",
       "    <tr>\n",
       "      <th>0</th>\n",
       "      <td>AAAAAAAGAATCCTTACCGC</td>\n",
       "      <td>2110</td>\n",
       "      <td>608</td>\n",
       "      <td>408</td>\n",
       "      <td>1327</td>\n",
       "      <td>983</td>\n",
       "      <td>345</td>\n",
       "      <td>227</td>\n",
       "      <td>77</td>\n",
       "      <td>309</td>\n",
       "      <td>...</td>\n",
       "      <td>891</td>\n",
       "      <td>796</td>\n",
       "      <td>391</td>\n",
       "      <td>747</td>\n",
       "      <td>424</td>\n",
       "      <td>440</td>\n",
       "      <td>1241</td>\n",
       "      <td>1187</td>\n",
       "      <td>1441</td>\n",
       "      <td>720</td>\n",
       "    </tr>\n",
       "    <tr>\n",
       "      <th>1</th>\n",
       "      <td>AAAAAAATACCGAAAGACCA</td>\n",
       "      <td>811</td>\n",
       "      <td>217</td>\n",
       "      <td>86</td>\n",
       "      <td>188</td>\n",
       "      <td>251</td>\n",
       "      <td>110</td>\n",
       "      <td>237</td>\n",
       "      <td>40</td>\n",
       "      <td>161</td>\n",
       "      <td>...</td>\n",
       "      <td>336</td>\n",
       "      <td>264</td>\n",
       "      <td>306</td>\n",
       "      <td>528</td>\n",
       "      <td>194</td>\n",
       "      <td>175</td>\n",
       "      <td>920</td>\n",
       "      <td>663</td>\n",
       "      <td>613</td>\n",
       "      <td>386</td>\n",
       "    </tr>\n",
       "    <tr>\n",
       "      <th>2</th>\n",
       "      <td>AAAAAACGCTTACTTGGGAT</td>\n",
       "      <td>1349</td>\n",
       "      <td>323</td>\n",
       "      <td>367</td>\n",
       "      <td>485</td>\n",
       "      <td>650</td>\n",
       "      <td>224</td>\n",
       "      <td>326</td>\n",
       "      <td>49</td>\n",
       "      <td>132</td>\n",
       "      <td>...</td>\n",
       "      <td>282</td>\n",
       "      <td>346</td>\n",
       "      <td>278</td>\n",
       "      <td>597</td>\n",
       "      <td>724</td>\n",
       "      <td>179</td>\n",
       "      <td>1599</td>\n",
       "      <td>1034</td>\n",
       "      <td>1145</td>\n",
       "      <td>537</td>\n",
       "    </tr>\n",
       "    <tr>\n",
       "      <th>3</th>\n",
       "      <td>AAAAAACGGCTCTCTCAACG</td>\n",
       "      <td>2460</td>\n",
       "      <td>811</td>\n",
       "      <td>634</td>\n",
       "      <td>992</td>\n",
       "      <td>996</td>\n",
       "      <td>321</td>\n",
       "      <td>539</td>\n",
       "      <td>88</td>\n",
       "      <td>395</td>\n",
       "      <td>...</td>\n",
       "      <td>996</td>\n",
       "      <td>913</td>\n",
       "      <td>639</td>\n",
       "      <td>1053</td>\n",
       "      <td>438</td>\n",
       "      <td>384</td>\n",
       "      <td>1556</td>\n",
       "      <td>1749</td>\n",
       "      <td>1921</td>\n",
       "      <td>793</td>\n",
       "    </tr>\n",
       "    <tr>\n",
       "      <th>4</th>\n",
       "      <td>AAAAAAGAATCCTTACCGCT</td>\n",
       "      <td>848</td>\n",
       "      <td>246</td>\n",
       "      <td>194</td>\n",
       "      <td>164</td>\n",
       "      <td>363</td>\n",
       "      <td>76</td>\n",
       "      <td>219</td>\n",
       "      <td>52</td>\n",
       "      <td>65</td>\n",
       "      <td>...</td>\n",
       "      <td>227</td>\n",
       "      <td>510</td>\n",
       "      <td>159</td>\n",
       "      <td>261</td>\n",
       "      <td>186</td>\n",
       "      <td>145</td>\n",
       "      <td>613</td>\n",
       "      <td>1020</td>\n",
       "      <td>496</td>\n",
       "      <td>302</td>\n",
       "    </tr>\n",
       "  </tbody>\n",
       "</table>\n",
       "<p>5 rows × 22 columns</p>\n",
       "</div>"
      ],
      "text/plain": [
       "         sgRNA Sequence  pDNA  WTCas9_RepA  WTCas9_RepB  Cas9-HF1_RepA  \\\n",
       "0  AAAAAAAGAATCCTTACCGC  2110          608          408           1327   \n",
       "1  AAAAAAATACCGAAAGACCA   811          217           86            188   \n",
       "2  AAAAAACGCTTACTTGGGAT  1349          323          367            485   \n",
       "3  AAAAAACGGCTCTCTCAACG  2460          811          634            992   \n",
       "4  AAAAAAGAATCCTTACCGCT   848          246          194            164   \n",
       "\n",
       "   Cas9-HF1_RepB  eCas9-1.1_RepA  eCas9-1.1_RepB  evoCas9_RepA  evoCas9_RepB  \\\n",
       "0            983             345             227            77           309   \n",
       "1            251             110             237            40           161   \n",
       "2            650             224             326            49           132   \n",
       "3            996             321             539            88           395   \n",
       "4            363              76             219            52            65   \n",
       "\n",
       "   ...  xCas9-3.7_RepA  xCas9-3.7_RepB  Cas9-VQR_RepA  Cas9-VQR_RepB  \\\n",
       "0  ...             891             796            391            747   \n",
       "1  ...             336             264            306            528   \n",
       "2  ...             282             346            278            597   \n",
       "3  ...             996             913            639           1053   \n",
       "4  ...             227             510            159            261   \n",
       "\n",
       "   Cas9-VRER_RepA  Cas9-VRER_RepB  Cas9-NG_RepA  Cas9-NG_RepB  SpG_RepA  \\\n",
       "0             424             440          1241          1187      1441   \n",
       "1             194             175           920           663       613   \n",
       "2             724             179          1599          1034      1145   \n",
       "3             438             384          1556          1749      1921   \n",
       "4             186             145           613          1020       496   \n",
       "\n",
       "   SpG_RepB  \n",
       "0       720  \n",
       "1       386  \n",
       "2       537  \n",
       "3       793  \n",
       "4       302  \n",
       "\n",
       "[5 rows x 22 columns]"
      ]
     },
     "execution_count": 7,
     "metadata": {},
     "output_type": "execute_result"
    }
   ],
   "source": [
    "print(panpam_reads.shape)\n",
    "panpam_reads.head()"
   ]
  },
  {
   "cell_type": "markdown",
   "metadata": {},
   "source": [
    "Merge reads with annotation file"
   ]
  },
  {
   "cell_type": "code",
   "execution_count": 8,
   "metadata": {},
   "outputs": [],
   "source": [
    "panpam_annotated = pd.merge(panpam_reads, annotation, left_on='sgRNA Sequence', right_on='Construct Barcode')"
   ]
  },
  {
   "cell_type": "code",
   "execution_count": 9,
   "metadata": {},
   "outputs": [
    {
     "name": "stdout",
     "output_type": "stream",
     "text": [
      "(18768, 30)\n"
     ]
    },
    {
     "data": {
      "text/html": [
       "<div>\n",
       "<style scoped>\n",
       "    .dataframe tbody tr th:only-of-type {\n",
       "        vertical-align: middle;\n",
       "    }\n",
       "\n",
       "    .dataframe tbody tr th {\n",
       "        vertical-align: top;\n",
       "    }\n",
       "\n",
       "    .dataframe thead th {\n",
       "        text-align: right;\n",
       "    }\n",
       "</style>\n",
       "<table border=\"1\" class=\"dataframe\">\n",
       "  <thead>\n",
       "    <tr style=\"text-align: right;\">\n",
       "      <th></th>\n",
       "      <th>sgRNA Sequence</th>\n",
       "      <th>pDNA</th>\n",
       "      <th>WTCas9_RepA</th>\n",
       "      <th>WTCas9_RepB</th>\n",
       "      <th>Cas9-HF1_RepA</th>\n",
       "      <th>Cas9-HF1_RepB</th>\n",
       "      <th>eCas9-1.1_RepA</th>\n",
       "      <th>eCas9-1.1_RepB</th>\n",
       "      <th>evoCas9_RepA</th>\n",
       "      <th>evoCas9_RepB</th>\n",
       "      <th>...</th>\n",
       "      <th>SpG_RepA</th>\n",
       "      <th>SpG_RepB</th>\n",
       "      <th>Construct Barcode</th>\n",
       "      <th>Construct IDs</th>\n",
       "      <th>PAM</th>\n",
       "      <th>Gene</th>\n",
       "      <th>G19</th>\n",
       "      <th>g20</th>\n",
       "      <th>G20</th>\n",
       "      <th>Context Sequence</th>\n",
       "    </tr>\n",
       "  </thead>\n",
       "  <tbody>\n",
       "    <tr>\n",
       "      <th>0</th>\n",
       "      <td>AAAAAAAGAATCCTTACCGC</td>\n",
       "      <td>2110</td>\n",
       "      <td>608</td>\n",
       "      <td>408</td>\n",
       "      <td>1327</td>\n",
       "      <td>983</td>\n",
       "      <td>345</td>\n",
       "      <td>227</td>\n",
       "      <td>77</td>\n",
       "      <td>309</td>\n",
       "      <td>...</td>\n",
       "      <td>1441</td>\n",
       "      <td>720</td>\n",
       "      <td>AAAAAAAGAATCCTTACCGC</td>\n",
       "      <td>Essential</td>\n",
       "      <td>TGTA</td>\n",
       "      <td>GEMIN5</td>\n",
       "      <td>n</td>\n",
       "      <td>y</td>\n",
       "      <td>n</td>\n",
       "      <td>GCTCAAAAAAAGAATCCTTACCGCTGTAACC</td>\n",
       "    </tr>\n",
       "    <tr>\n",
       "      <th>1</th>\n",
       "      <td>AAAAAAATACCGAAAGACCA</td>\n",
       "      <td>811</td>\n",
       "      <td>217</td>\n",
       "      <td>86</td>\n",
       "      <td>188</td>\n",
       "      <td>251</td>\n",
       "      <td>110</td>\n",
       "      <td>237</td>\n",
       "      <td>40</td>\n",
       "      <td>161</td>\n",
       "      <td>...</td>\n",
       "      <td>613</td>\n",
       "      <td>386</td>\n",
       "      <td>AAAAAAATACCGAAAGACCA</td>\n",
       "      <td>BRCA2</td>\n",
       "      <td>AAAA</td>\n",
       "      <td>BRCA2</td>\n",
       "      <td>n</td>\n",
       "      <td>y</td>\n",
       "      <td>n</td>\n",
       "      <td>AGGAAAAAAAATACCGAAAGACCAAAAATCA</td>\n",
       "    </tr>\n",
       "    <tr>\n",
       "      <th>2</th>\n",
       "      <td>AAAAAACGCTTACTTGGGAT</td>\n",
       "      <td>1349</td>\n",
       "      <td>323</td>\n",
       "      <td>367</td>\n",
       "      <td>485</td>\n",
       "      <td>650</td>\n",
       "      <td>224</td>\n",
       "      <td>326</td>\n",
       "      <td>49</td>\n",
       "      <td>132</td>\n",
       "      <td>...</td>\n",
       "      <td>1145</td>\n",
       "      <td>537</td>\n",
       "      <td>AAAAAACGCTTACTTGGGAT</td>\n",
       "      <td>Essential</td>\n",
       "      <td>CAAC</td>\n",
       "      <td>SRSF11</td>\n",
       "      <td>n</td>\n",
       "      <td>n</td>\n",
       "      <td>y</td>\n",
       "      <td>AAAGAAAAAACGCTTACTTGGGATCAACAGT</td>\n",
       "    </tr>\n",
       "    <tr>\n",
       "      <th>3</th>\n",
       "      <td>AAAAAACGGCTCTCTCAACG</td>\n",
       "      <td>2460</td>\n",
       "      <td>811</td>\n",
       "      <td>634</td>\n",
       "      <td>992</td>\n",
       "      <td>996</td>\n",
       "      <td>321</td>\n",
       "      <td>539</td>\n",
       "      <td>88</td>\n",
       "      <td>395</td>\n",
       "      <td>...</td>\n",
       "      <td>1921</td>\n",
       "      <td>793</td>\n",
       "      <td>AAAAAACGGCTCTCTCAACG</td>\n",
       "      <td>Essential</td>\n",
       "      <td>CTAA</td>\n",
       "      <td>GEMIN5</td>\n",
       "      <td>y</td>\n",
       "      <td>y</td>\n",
       "      <td>n</td>\n",
       "      <td>TGGAGAAAAAACGGCTCTCTCAACCTAAGGC</td>\n",
       "    </tr>\n",
       "    <tr>\n",
       "      <th>4</th>\n",
       "      <td>AAAAAAGAATCCTTACCGCT</td>\n",
       "      <td>848</td>\n",
       "      <td>246</td>\n",
       "      <td>194</td>\n",
       "      <td>164</td>\n",
       "      <td>363</td>\n",
       "      <td>76</td>\n",
       "      <td>219</td>\n",
       "      <td>52</td>\n",
       "      <td>65</td>\n",
       "      <td>...</td>\n",
       "      <td>496</td>\n",
       "      <td>302</td>\n",
       "      <td>AAAAAAGAATCCTTACCGCT</td>\n",
       "      <td>Essential</td>\n",
       "      <td>GTAA</td>\n",
       "      <td>GEMIN5</td>\n",
       "      <td>n</td>\n",
       "      <td>y</td>\n",
       "      <td>n</td>\n",
       "      <td>CTCAAAAAAAGAATCCTTACCGCTGTAACCT</td>\n",
       "    </tr>\n",
       "  </tbody>\n",
       "</table>\n",
       "<p>5 rows × 30 columns</p>\n",
       "</div>"
      ],
      "text/plain": [
       "         sgRNA Sequence  pDNA  WTCas9_RepA  WTCas9_RepB  Cas9-HF1_RepA  \\\n",
       "0  AAAAAAAGAATCCTTACCGC  2110          608          408           1327   \n",
       "1  AAAAAAATACCGAAAGACCA   811          217           86            188   \n",
       "2  AAAAAACGCTTACTTGGGAT  1349          323          367            485   \n",
       "3  AAAAAACGGCTCTCTCAACG  2460          811          634            992   \n",
       "4  AAAAAAGAATCCTTACCGCT   848          246          194            164   \n",
       "\n",
       "   Cas9-HF1_RepB  eCas9-1.1_RepA  eCas9-1.1_RepB  evoCas9_RepA  evoCas9_RepB  \\\n",
       "0            983             345             227            77           309   \n",
       "1            251             110             237            40           161   \n",
       "2            650             224             326            49           132   \n",
       "3            996             321             539            88           395   \n",
       "4            363              76             219            52            65   \n",
       "\n",
       "   ...  SpG_RepA  SpG_RepB     Construct Barcode  Construct IDs   PAM    Gene  \\\n",
       "0  ...      1441       720  AAAAAAAGAATCCTTACCGC      Essential  TGTA  GEMIN5   \n",
       "1  ...       613       386  AAAAAAATACCGAAAGACCA          BRCA2  AAAA   BRCA2   \n",
       "2  ...      1145       537  AAAAAACGCTTACTTGGGAT      Essential  CAAC  SRSF11   \n",
       "3  ...      1921       793  AAAAAACGGCTCTCTCAACG      Essential  CTAA  GEMIN5   \n",
       "4  ...       496       302  AAAAAAGAATCCTTACCGCT      Essential  GTAA  GEMIN5   \n",
       "\n",
       "   G19  g20  G20                 Context Sequence  \n",
       "0    n    y    n  GCTCAAAAAAAGAATCCTTACCGCTGTAACC  \n",
       "1    n    y    n  AGGAAAAAAAATACCGAAAGACCAAAAATCA  \n",
       "2    n    n    y  AAAGAAAAAACGCTTACTTGGGATCAACAGT  \n",
       "3    y    y    n  TGGAGAAAAAACGGCTCTCTCAACCTAAGGC  \n",
       "4    n    y    n  CTCAAAAAAAGAATCCTTACCGCTGTAACCT  \n",
       "\n",
       "[5 rows x 30 columns]"
      ]
     },
     "execution_count": 9,
     "metadata": {},
     "output_type": "execute_result"
    }
   ],
   "source": [
    "print(panpam_annotated.shape)\n",
    "panpam_annotated.head()"
   ]
  },
  {
   "cell_type": "markdown",
   "metadata": {},
   "source": [
    "Subset columns for use in calculating lognorms "
   ]
  },
  {
   "cell_type": "code",
   "execution_count": 10,
   "metadata": {},
   "outputs": [
    {
     "data": {
      "text/plain": [
       "Index(['pDNA', 'WTCas9_RepA', 'WTCas9_RepB', 'Cas9-HF1_RepA', 'Cas9-HF1_RepB',\n",
       "       'eCas9-1.1_RepA', 'eCas9-1.1_RepB', 'evoCas9_RepA', 'evoCas9_RepB',\n",
       "       'HypaCas9_RepA', 'HypaCas9_RepB', 'xCas9-3.7_RepA', 'xCas9-3.7_RepB',\n",
       "       'Cas9-VQR_RepA', 'Cas9-VQR_RepB', 'Cas9-VRER_RepA', 'Cas9-VRER_RepB',\n",
       "       'Cas9-NG_RepA', 'Cas9-NG_RepB', 'SpG_RepA', 'SpG_RepB'],\n",
       "      dtype='object')"
      ]
     },
     "execution_count": 10,
     "metadata": {},
     "output_type": "execute_result"
    }
   ],
   "source": [
    "col = panpam_reads.columns\n",
    "cols = col[1:]\n",
    "cols"
   ]
  },
  {
   "cell_type": "markdown",
   "metadata": {},
   "source": [
    "Calculate lognorm from reads, and filter based on pDNA abundance"
   ]
  },
  {
   "cell_type": "code",
   "execution_count": 13,
   "metadata": {},
   "outputs": [
    {
     "name": "stdout",
     "output_type": "stream",
     "text": [
      "Filtered 117 columns due to low pDNA abundance\n"
     ]
    }
   ],
   "source": [
    "lognorms = pool.lognorm_columns(reads_df=panpam_annotated, columns=cols)\n",
    "filtered_lognorms = pool.filter_pdna(lognorm_df=lognorms, pdna_cols=['pDNA'], z_low=-3)\n",
    "print('Filtered ' + str(lognorms.shape[0] - filtered_lognorms.shape[0]) + ' columns due to low pDNA abundance')"
   ]
  },
  {
   "cell_type": "code",
   "execution_count": 15,
   "metadata": {},
   "outputs": [],
   "source": [
    "lfc_df = pool.calculate_lfcs(lognorm_df=filtered_lognorms, ref_col='pDNA', target_cols=cols)\n"
   ]
  },
  {
   "cell_type": "markdown",
   "metadata": {},
   "source": [
    "Calculate average LFC across replicates. "
   ]
  },
  {
   "cell_type": "code",
   "execution_count": 17,
   "metadata": {},
   "outputs": [],
   "source": [
    "lfc_df['WTCas9_AVGLFC_frompDNA'] = lfc_df[['WTCas9_RepA', 'WTCas9_RepB']].mean(axis =1)\n",
    "lfc_df['Cas9-HF1_AVGLFC_frompDNA'] = lfc_df[['Cas9-HF1_RepA', 'Cas9-HF1_RepB']].mean(axis =1)\n",
    "lfc_df['eCas9-1.1_AVGLFC_frompDNA'] = lfc_df[['eCas9-1.1_RepA', 'eCas9-1.1_RepB']].mean(axis =1)\n",
    "lfc_df['evoCas9_AVGLFC_frompDNA'] = lfc_df[['evoCas9_RepA', 'evoCas9_RepB']].mean(axis =1)\n",
    "lfc_df['HypaCas9_AVGLFC_frompDNA'] = lfc_df[['HypaCas9_RepA', 'HypaCas9_RepB']].mean(axis =1)\n",
    "lfc_df['xCas9-3.7_AVGLFC_frompDNA'] = lfc_df[['xCas9-3.7_RepA', 'xCas9-3.7_RepB']].mean(axis =1)\n",
    "lfc_df['Cas9-VQR_AVGLFC_frompDNA'] = lfc_df[['Cas9-VQR_RepA', 'Cas9-VQR_RepB']].mean(axis =1)\n",
    "lfc_df['Cas9-VRER_AVGLFC_frompDNA'] = lfc_df[['Cas9-VRER_RepA', 'Cas9-VRER_RepB']].mean(axis =1)\n",
    "lfc_df['Cas9-NG_AVGLFC_frompDNA'] = lfc_df[['Cas9-NG_RepA', 'Cas9-NG_RepB']].mean(axis =1)\n",
    "lfc_df['SpG_AVGLFC_frompDNA'] = lfc_df[['SpG_RepA', 'SpG_RepB']].mean(axis =1)\n"
   ]
  },
  {
   "cell_type": "markdown",
   "metadata": {},
   "source": [
    "Save this file (which includes single rep, and avg lfc) for each cell line screened with the PanPAM library. This will serve as the input for the \"Activity Metrics\" notebook"
   ]
  },
  {
   "cell_type": "code",
   "execution_count": 18,
   "metadata": {},
   "outputs": [],
   "source": [
    "lfc_df.to_csv('../../data_v3/Fig 1_3_PanPAM on-target/processed/panpam_avglfc_v2.txt', sep='\\t')"
   ]
  },
  {
   "cell_type": "code",
   "execution_count": null,
   "metadata": {},
   "outputs": [],
   "source": []
  }
 ],
 "metadata": {
  "hide_input": false,
  "kernelspec": {
   "display_name": "Python 3",
   "language": "python",
   "name": "python3"
  },
  "language_info": {
   "codemirror_mode": {
    "name": "ipython",
    "version": 3
   },
   "file_extension": ".py",
   "mimetype": "text/x-python",
   "name": "python",
   "nbconvert_exporter": "python",
   "pygments_lexer": "ipython3",
   "version": "3.7.3"
  },
  "toc": {
   "base_numbering": 1,
   "nav_menu": {},
   "number_sections": true,
   "sideBar": true,
   "skip_h1_title": false,
   "title_cell": "Table of Contents",
   "title_sidebar": "Contents",
   "toc_cell": false,
   "toc_position": {},
   "toc_section_display": true,
   "toc_window_display": false
  },
  "varInspector": {
   "cols": {
    "lenName": 16,
    "lenType": 16,
    "lenVar": 40
   },
   "kernels_config": {
    "python": {
     "delete_cmd_postfix": "",
     "delete_cmd_prefix": "del ",
     "library": "var_list.py",
     "varRefreshCmd": "print(var_dic_list())"
    },
    "r": {
     "delete_cmd_postfix": ") ",
     "delete_cmd_prefix": "rm(",
     "library": "var_list.r",
     "varRefreshCmd": "cat(var_dic_list()) "
    }
   },
   "types_to_exclude": [
    "module",
    "function",
    "builtin_function_or_method",
    "instance",
    "_Feature"
   ],
   "window_display": false
  }
 },
 "nbformat": 4,
 "nbformat_minor": 2
}
