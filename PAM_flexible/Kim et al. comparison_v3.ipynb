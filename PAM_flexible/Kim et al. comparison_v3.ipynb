{
 "cells": [
  {
   "cell_type": "markdown",
   "metadata": {},
   "source": [
    "Purpose \n",
    "\n",
    "The purpose of this notebook is to compare the fraction active data generated in this study to the indel frequencies published by Kim et al. These plots are shown in Supplementary Figure 4a-c. "
   ]
  },
  {
   "cell_type": "code",
   "execution_count": 1,
   "metadata": {},
   "outputs": [],
   "source": [
    "import pandas as pd\n",
    "import numpy as np\n",
    "import matplotlib.pyplot as plt\n",
    "import seaborn as sns\n",
    "import gpplot as gpp\n",
    "import csv, requests, warnings\n",
    "warnings.filterwarnings(\"ignore\")"
   ]
  },
  {
   "cell_type": "code",
   "execution_count": 2,
   "metadata": {},
   "outputs": [],
   "source": [
    "# Reading supplementary table 6 of Kim et al, 2020\n",
    "# Average indel frequencies at target sequences, grouped by four-nucleotide PAM sequences for xCas9, Cas9-NG and wtCas9\n",
    "def read_parse_Kim():\n",
    "    df_xcas9 = pd.read_excel('../data_files/Fig 1_3_PanPAM on-target/external/Kim2020/xCas9_Cas9-NG_wtCas9/41551_2019_505_MOESM8_ESM.xlsx',\n",
    "                             sheet_name='xCas9 (Day 3)',\n",
    "                             usecols=['four-nucleotide PAM','Number of protospacers','Average indel frequencies'])\n",
    "    df_xcas9 = df_xcas9.dropna(axis=0)\n",
    "    df_ng = pd.read_excel('../data_files/Fig 1_3_PanPAM on-target/external/Kim2020/xCas9_Cas9-NG_wtCas9/41551_2019_505_MOESM8_ESM.xlsx',\n",
    "                          sheet_name='SpCas9-NG (Day 3)',\n",
    "                          usecols=['four-nucleotide PAM','Number of protospacers','Average indel frequencies'])\n",
    "    df_ng = df_ng.dropna(axis=0)    \n",
    "    df_wt = pd.read_excel('../data_files/Fig 1_3_PanPAM on-target/external/Kim2020/xCas9_Cas9-NG_wtCas9/41551_2019_505_MOESM8_ESM.xlsx',\n",
    "                          sheet_name='SpCas9 (Day 3)',\n",
    "                          usecols=['four-nucleotide PAM','Number of protospacers','Average indel frequencies'])\n",
    "    df_wt = df_wt.dropna(axis=0)\n",
    "    return df_xcas9, df_ng, df_wt\n",
    "\n",
    "def read_parse_gpp():\n",
    "    df = pd.read_table('../data_files/Fig 1_3_PanPAM on-target/processed/fractionactive_allsgRNA_v2.txt',\n",
    "                    usecols=['PAM',\n",
    "                             'WTCas9 fraction active',\n",
    "                             'xCas9-3.7 fraction active',\n",
    "                             'Cas9-NG fraction active',\n",
    "                             'N_PAM'])\n",
    "    return df\n",
    "    "
   ]
  },
  {
   "cell_type": "code",
   "execution_count": 3,
   "metadata": {},
   "outputs": [],
   "source": [
    "kim_xcas9, kim_ng, kim_wt = read_parse_Kim()\n",
    "kim_data = pd.merge(kim_xcas9, kim_ng, on='four-nucleotide PAM',suffixes=['_xCas9','_NG'])\n",
    "kim_data = pd.merge(kim_data, kim_wt, on='four-nucleotide PAM')\n",
    "kim_data = kim_data.rename(columns={'four-nucleotide PAM':'PAM','Number of protospacers':'Number of protospacers_WT','Average indel frequencies':'Average indel frequencies_WT'})"
   ]
  },
  {
   "cell_type": "code",
   "execution_count": 4,
   "metadata": {},
   "outputs": [],
   "source": [
    "gpp_data = read_parse_gpp()"
   ]
  },
  {
   "cell_type": "code",
   "execution_count": 5,
   "metadata": {},
   "outputs": [],
   "source": [
    "gpp_kim = pd.merge(gpp_data, kim_data, on='PAM')"
   ]
  },
  {
   "cell_type": "code",
   "execution_count": 6,
   "metadata": {},
   "outputs": [],
   "source": [
    "#this loop creates \"n_pam_hue\", which will be used to color points in the following graphs\n",
    "pam_type = []\n",
    "for i in gpp_kim.N_PAM:\n",
    "    pam = ''\n",
    "    if i == 'NGGN':\n",
    "        pam = i\n",
    "    elif i == 'NGAN':\n",
    "        pam = i\n",
    "    elif i == 'NGCN':\n",
    "        pam = i\n",
    "    elif i == 'NGTN':\n",
    "        pam = i\n",
    "    else:\n",
    "        pam = 'other'\n",
    "    pam_type.append(pam)"
   ]
  },
  {
   "cell_type": "code",
   "execution_count": 7,
   "metadata": {},
   "outputs": [],
   "source": [
    "color_dict = {'NGGN': '#a6d854',\n",
    "             'NGAN': '#8da0cb',\n",
    "             'NGCN': '#fc8d62',\n",
    "             'NGTN': '#e78ac3',\n",
    "             'other': '#66c2a5'}"
   ]
  },
  {
   "cell_type": "code",
   "execution_count": 8,
   "metadata": {},
   "outputs": [],
   "source": [
    "gpp_kim['n_pam_hue'] = pam_type"
   ]
  },
  {
   "cell_type": "code",
   "execution_count": 9,
   "metadata": {},
   "outputs": [],
   "source": [
    "gpp.set_aesthetics(context='paper', palette='Set2')"
   ]
  },
  {
   "cell_type": "code",
   "execution_count": 10,
   "metadata": {},
   "outputs": [
    {
     "data": {
      "text/plain": [
       "(0.0, 70.0)"
      ]
     },
     "execution_count": 10,
     "metadata": {},
     "output_type": "execute_result"
    },
    {
     "data": {
      "image/png": "[encoded data removed]",
      "text/plain": [
       "<Figure size 122.4x122.4 with 1 Axes>"
      ]
     },
     "metadata": {},
     "output_type": "display_data"
    }
   ],
   "source": [
    "gpp.set_aesthetics(context='paper')\n",
    "fig, ax = plt.subplots(figsize=(1.7,1.7))\n",
    "g = sns.scatterplot(data=gpp_kim, x='WTCas9 fraction active',y='Average indel frequencies_WT', hue='n_pam_hue', palette=color_dict,\n",
    "                   linewidth = 0, legend=False)\n",
    "gpp.add_correlation(data=gpp_kim, x='WTCas9 fraction active',y='Average indel frequencies_WT')\n",
    "t = plt.title('WTCas9', fontsize=8)\n",
    "t = plt.xlabel('',fontsize=7)\n",
    "t = plt.ylabel('Indel Frequency - Kim et al.',fontsize=7)\n",
    "t = plt.tick_params(axis='both', labelsize=7)\n",
    "plt.ylim(0,70)"
   ]
  },
  {
   "cell_type": "code",
   "execution_count": 11,
   "metadata": {},
   "outputs": [
    {
     "data": {
      "text/plain": [
       "(0.0, 1.0)"
      ]
     },
     "execution_count": 11,
     "metadata": {},
     "output_type": "execute_result"
    },
    {
     "data": {
      "image/png": "[encoded data removed]",
      "text/plain": [
       "<Figure size 122.4x122.4 with 1 Axes>"
      ]
     },
     "metadata": {},
     "output_type": "display_data"
    }
   ],
   "source": [
    "gpp.set_aesthetics(context='paper', palette='Set2')\n",
    "fig, ax = plt.subplots(figsize=(1.7,1.7))\n",
    "g = sns.scatterplot(data=gpp_kim, x='xCas9-3.7 fraction active',y='Average indel frequencies_xCas9', hue='n_pam_hue', palette=color_dict, \n",
    "                    linewidth = 0,\n",
    "                   legend=False)\n",
    "gpp.add_correlation(data=gpp_kim, x='xCas9-3.7 fraction active',y='Average indel frequencies_xCas9')\n",
    "t = plt.title('xCas9-3.7', fontsize=8)\n",
    "t = plt.xlabel('Fraction Active - PanPAM',fontsize=7)\n",
    "t = plt.ylabel('',fontsize=7)\n",
    "t = plt.tick_params(axis='both', labelsize=7)\n",
    "t = plt.xticks([0, 0.5, 1])\n",
    "plt.ylim(0,70)\n",
    "plt.xlim(0,1)"
   ]
  },
  {
   "cell_type": "code",
   "execution_count": 12,
   "metadata": {},
   "outputs": [
    {
     "data": {
      "text/plain": [
       "(0.0, 70.0)"
      ]
     },
     "execution_count": 12,
     "metadata": {},
     "output_type": "execute_result"
    },
    {
     "data": {
      "image/png": "[encoded data removed]",
      "text/plain": [
       "<Figure size 122.4x122.4 with 1 Axes>"
      ]
     },
     "metadata": {},
     "output_type": "display_data"
    }
   ],
   "source": [
    "gpp.set_aesthetics(context='paper', palette='Set2')\n",
    "fig, ax = plt.subplots(figsize=(1.7,1.7))\n",
    "g = sns.scatterplot(data=gpp_kim, x='Cas9-NG fraction active',y='Average indel frequencies_NG', hue='n_pam_hue', palette=color_dict,\n",
    "                    linewidth = 0, \n",
    "                   legend=False)\n",
    "gpp.add_correlation(data=gpp_kim, x='Cas9-NG fraction active',y='Average indel frequencies_NG')\n",
    "t = plt.title('Cas9-NG', fontsize=8)\n",
    "t = plt.xlabel('',fontsize=7)\n",
    "t = plt.ylabel('',fontsize=7)\n",
    "t = plt.tick_params(axis='both', labelsize=7)\n",
    "plt.ylim(0,70)"
   ]
  },
  {
   "cell_type": "code",
   "execution_count": 13,
   "metadata": {},
   "outputs": [
    {
     "name": "stdout",
     "output_type": "stream",
     "text": [
      "148\n"
     ]
    }
   ],
   "source": [
    "#number of points plotted in the graphs shown in Supplementary Fig 4a-c\n",
    "print(len(gpp_kim))"
   ]
  },
  {
   "cell_type": "code",
   "execution_count": null,
   "metadata": {},
   "outputs": [],
   "source": []
  }
 ],
 "metadata": {
  "hide_input": false,
  "kernelspec": {
   "display_name": "Python 3",
   "language": "python",
   "name": "python3"
  },
  "language_info": {
   "codemirror_mode": {
    "name": "ipython",
    "version": 3
   },
   "file_extension": ".py",
   "mimetype": "text/x-python",
   "name": "python",
   "nbconvert_exporter": "python",
   "pygments_lexer": "ipython3",
   "version": "3.8.8"
  },
  "toc": {
   "base_numbering": 1,
   "nav_menu": {},
   "number_sections": true,
   "sideBar": true,
   "skip_h1_title": false,
   "title_cell": "Table of Contents",
   "title_sidebar": "Contents",
   "toc_cell": false,
   "toc_position": {},
   "toc_section_display": true,
   "toc_window_display": false
  },
  "varInspector": {
   "cols": {
    "lenName": 16,
    "lenType": 16,
    "lenVar": 40
   },
   "kernels_config": {
    "python": {
     "delete_cmd_postfix": "",
     "delete_cmd_prefix": "del ",
     "library": "var_list.py",
     "varRefreshCmd": "print(var_dic_list())"
    },
    "r": {
     "delete_cmd_postfix": ") ",
     "delete_cmd_prefix": "rm(",
     "library": "var_list.r",
     "varRefreshCmd": "cat(var_dic_list()) "
    }
   },
   "types_to_exclude": [
    "module",
    "function",
    "builtin_function_or_method",
    "instance",
    "_Feature"
   ],
   "window_display": false
  }
 },
 "nbformat": 4,
 "nbformat_minor": 4
}
