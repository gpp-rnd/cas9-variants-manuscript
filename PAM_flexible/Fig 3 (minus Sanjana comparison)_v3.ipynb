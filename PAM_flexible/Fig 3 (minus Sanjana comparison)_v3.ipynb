{
 "cells": [
  {
   "cell_type": "markdown",
   "metadata": {},
   "source": [
    "Purpose\n",
    "\n",
    "In this notebook, we will generate Fig 3d, perform the calculations that are shown in Figure 3b,e and the scatter plots shown in Supplementary Fig 4f,g. "
   ]
  },
  {
   "cell_type": "code",
   "execution_count": 34,
   "metadata": {},
   "outputs": [],
   "source": [
    "import pandas as pd \n",
    "import numpy as np \n",
    "import seaborn as sns\n",
    "import matplotlib.pyplot as plt\n",
    "import matplotlib as mpl\n",
    "import warnings\n",
    "from matplotlib import rc\n",
    "warnings.filterwarnings('ignore')\n",
    "import gpplot as gpp\n",
    "from sklearn.metrics import auc\n",
    "sns.set_style('ticks')\n",
    "sns.set_context('talk')\n",
    "mpl.rc('pdf', fonttype=42)\n",
    "mpl.rcParams['font.sans-serif'] = \"Arial\"\n",
    "mpl.rcParams['font.family'] = \"sans-serif\""
   ]
  },
  {
   "cell_type": "markdown",
   "metadata": {},
   "source": [
    "Read in a file containing the AvgLFCs of each variant (this was generated in the \"Data Processing\" notebook)"
   ]
  },
  {
   "cell_type": "code",
   "execution_count": 35,
   "metadata": {},
   "outputs": [],
   "source": [
    "variants = pd.read_table('../data_files/Fig 1_3_PanPAM on-target/processed/panpam_avglfc_v2.txt')"
   ]
  },
  {
   "cell_type": "markdown",
   "metadata": {},
   "source": [
    "Read in file containing fraction active values. This was generated in the \"Activity Metrics\" notebook"
   ]
  },
  {
   "cell_type": "code",
   "execution_count": 36,
   "metadata": {},
   "outputs": [],
   "source": [
    "fractionactive = pd.read_table('../data_files/Fig 1_3_PanPAM on-target/processed/fractionactive_allsgRNA_v3.txt')"
   ]
  },
  {
   "cell_type": "code",
   "execution_count": 37,
   "metadata": {},
   "outputs": [],
   "source": [
    "#this loop will create a new column, N_PAM, that is used to color points in the following scatterplot\n",
    "n_pam = []\n",
    "for i in fractionactive['N_PAM']:\n",
    "    if i == 'NGGN':\n",
    "        pam =i\n",
    "    elif i == 'NGAN':\n",
    "        pam = i\n",
    "    elif i == 'NGTN':\n",
    "        pam = i \n",
    "    elif i == 'NGCN':\n",
    "        pam = i\n",
    "    elif i == 'NAAN':\n",
    "        pam = i\n",
    "    elif i == 'NACN':\n",
    "        pam = i\n",
    "    elif i == 'NAGN':\n",
    "        pam = i\n",
    "    elif i == 'NATN':\n",
    "        pam = i\n",
    "    else:\n",
    "        pam = 'NYNN'\n",
    "    n_pam.append(pam) "
   ]
  },
  {
   "cell_type": "code",
   "execution_count": 38,
   "metadata": {},
   "outputs": [],
   "source": [
    "fractionactive['N_PAM_plot'] = n_pam"
   ]
  },
  {
   "cell_type": "code",
   "execution_count": 39,
   "metadata": {},
   "outputs": [],
   "source": [
    "fractionactive = fractionactive.sort_values(by='N_PAM_plot', ascending=True)"
   ]
  },
  {
   "cell_type": "markdown",
   "metadata": {},
   "source": [
    "Figure 3d"
   ]
  },
  {
   "cell_type": "code",
   "execution_count": 40,
   "metadata": {},
   "outputs": [],
   "source": [
    "gpp.set_aesthetics(context='paper')"
   ]
  },
  {
   "cell_type": "code",
   "execution_count": 41,
   "metadata": {},
   "outputs": [],
   "source": [
    "color_dictionary = dict({'NGGN':'#fc8d62',\n",
    "                  'NGAN':'#e78ac3',\n",
    "                  'NGTN': '#a6d854',\n",
    "                  'NGCN': '#8da0cb',\n",
    "                   'NAAN': '#ffd92f',\n",
    "                  'NACN' : '#a6cee3',\n",
    "                        'NAGN': '#fb9a99',\n",
    "                        'NATN': '#fdbf6f',\n",
    "                        'NYNN': '#b3b3b3'})"
   ]
  },
  {
   "cell_type": "code",
   "execution_count": 42,
   "metadata": {},
   "outputs": [
    {
     "data": {
      "text/plain": [
       "Text(0, 0.5, 'Cas9-NG \\n fraction active')"
      ]
     },
     "execution_count": 42,
     "metadata": {},
     "output_type": "execute_result"
    },
    {
     "data": {
      "image/png": "[encoded data removed]",
      "text/plain": [
       "<Figure size 216x216 with 1 Axes>"
      ]
     },
     "metadata": {},
     "output_type": "display_data"
    }
   ],
   "source": [
    "g, ax = plt.subplots(figsize=(3,3))\n",
    "g = sns.scatterplot(x='SpG fraction active', y='Cas9-NG fraction active',\n",
    "               data=fractionactive, hue= 'N_PAM_plot', palette=color_dictionary, linewidth=0)\n",
    "gpp.add_correlation(x='SpG fraction active', y='Cas9-NG fraction active',\n",
    "               data=fractionactive)\n",
    "g.legend(loc='center left', bbox_to_anchor=(1.25, 0.5), ncol=1)\n",
    "plt.axhline(0.3, linestyle = 'dashed', color = 'black')\n",
    "plt.axvline(0.3, linestyle = 'dashed', color = 'black')\n",
    "plt.xlabel('SpG \\n fraction active')\n",
    "plt.ylabel('Cas9-NG \\n fraction active')"
   ]
  },
  {
   "cell_type": "markdown",
   "metadata": {},
   "source": [
    "Panel 3e -- ROC-AUC calculations by 5-type for PAM flexible variants\n",
    "\n",
    "True positives: essential guides active PAMs\n",
    "\n",
    "False positives: nonessential guides with active PAMs\n",
    "\n",
    "Activity defined as fraction active >= 0.7\n"
   ]
  },
  {
   "cell_type": "code",
   "execution_count": 43,
   "metadata": {},
   "outputs": [],
   "source": [
    "def get_roc_auc(df, col):\n",
    "    df = df.sort_values(by=col)\n",
    "    df['ess_cumsum'] = np.cumsum(df['ess-val'])\n",
    "    df['non_ess_cumsum'] = np.cumsum(df['non-ess-val'])\n",
    "    df['fpr'] = df['non_ess_cumsum']/(df['non_ess_cumsum'].iloc[-1])\n",
    "    df['tpr'] = df['ess_cumsum']/(df['ess_cumsum'].iloc[-1])\n",
    "    df.head()\n",
    "    roc_auc = auc(df['fpr'],df['tpr'])\n",
    "    roc_df = pd.DataFrame({'False_Positive_Rate':list(df.fpr), 'True_Positive_Rate':list(df.tpr)})\n",
    "    return roc_auc"
   ]
  },
  {
   "cell_type": "markdown",
   "metadata": {},
   "source": [
    "WT (RDA_085)"
   ]
  },
  {
   "cell_type": "code",
   "execution_count": 44,
   "metadata": {},
   "outputs": [
    {
     "data": {
      "text/plain": [
       "Essential       10187\n",
       "NonEssential     6215\n",
       "Name: Construct IDs, dtype: int64"
      ]
     },
     "execution_count": 44,
     "metadata": {},
     "output_type": "execute_result"
    }
   ],
   "source": [
    "#Consider only essential and nonessential guides for this ROC-AUC analysis\n",
    "\n",
    "roc_auc_input = variants[variants['Construct IDs'].str.contains('ssential')]\n",
    "roc_auc_input['Construct IDs'].value_counts()"
   ]
  },
  {
   "cell_type": "code",
   "execution_count": 45,
   "metadata": {},
   "outputs": [],
   "source": [
    "#Define true positive and false positive sets\n",
    "roc_auc_input['ess-val'] = [1 if r['Construct IDs'] == 'Essential' else 0 for i,r in roc_auc_input.iterrows()]\n",
    "roc_auc_input['non-ess-val'] = [0 if r['Construct IDs'] == 'Essential' else 1 for i,r in roc_auc_input.iterrows()]"
   ]
  },
  {
   "cell_type": "markdown",
   "metadata": {},
   "source": [
    "WTCas9"
   ]
  },
  {
   "cell_type": "code",
   "execution_count": 46,
   "metadata": {},
   "outputs": [
    {
     "name": "stdout",
     "output_type": "stream",
     "text": [
      "24\n",
      "1. all sgRNA\n",
      "0.9495007032348804\n",
      "2. G19 sgRNA\n",
      "0.9491662183969876\n",
      "3. g20 sgRNA\n",
      "0.9485247959824231\n",
      "4. G20 sgRNA\n",
      "0.9574314574314574\n"
     ]
    }
   ],
   "source": [
    "#get PAMs active with WT-Cas9\n",
    "wt_active = (fractionactive[fractionactive['WTCas9 fraction active'] >=0.7])\n",
    "wt_active = wt_active[['PAM']]\n",
    "print(len(active))\n",
    "\n",
    "wt_roc_auc_input = pd.merge(wt_active, roc_auc_input, on = 'PAM', how='inner')\n",
    "\n",
    "print('1. all sgRNA')\n",
    "\n",
    "rda_085_auc = get_roc_auc(wt_roc_auc_input, 'WTCas9_AVGLFC_frompDNA')\n",
    "print(rda_085_auc)\n",
    "\n",
    "print('2. G19 sgRNA')\n",
    "\n",
    "wt_roc_auc_input_g19 = wt_roc_auc_input[wt_roc_auc_input.G19 =='y']\n",
    "\n",
    "rda_085_auc_g19 = get_roc_auc(wt_roc_auc_input_g19, 'WTCas9_AVGLFC_frompDNA')\n",
    "print(rda_085_auc_g19)\n",
    "\n",
    "print('3. g20 sgRNA')\n",
    "\n",
    "wt_roc_auc_input_g20 = wt_roc_auc_input[wt_roc_auc_input.g20 =='y']\n",
    "\n",
    "rda_085_auc_g20 = get_roc_auc(wt_roc_auc_input_g20, 'WTCas9_AVGLFC_frompDNA')\n",
    "print(rda_085_auc_g20)\n",
    "\n",
    "print('4. G20 sgRNA')\n",
    "\n",
    "wt_roc_auc_input_G20 = wt_roc_auc_input[(wt_roc_auc_input.g20 == 'n') & (wt_roc_auc_input.G19 == 'n')]\n",
    "\n",
    "rda_085_auc_G20 = get_roc_auc(wt_roc_auc_input_G20, 'WTCas9_AVGLFC_frompDNA')\n",
    "print(rda_085_auc_G20)"
   ]
  },
  {
   "cell_type": "markdown",
   "metadata": {},
   "source": [
    "xCas9-3.7 "
   ]
  },
  {
   "cell_type": "code",
   "execution_count": 47,
   "metadata": {},
   "outputs": [
    {
     "name": "stdout",
     "output_type": "stream",
     "text": [
      "2\n",
      "1. all sgRNA\n",
      "0.7859313938341295\n",
      "2. G19 sgRNA\n",
      "0.8\n",
      "3. g20 sgRNA\n",
      "0.8205705705705706\n",
      "4. G20 sgRNA\n",
      "0.7283950617283951\n"
     ]
    }
   ],
   "source": [
    "#get PAMs active with xCas9\n",
    "active = (fractionactive[fractionactive['xCas9-3.7 fraction active'] >=0.7])\n",
    "active = active[['PAM']]\n",
    "print(len(active))\n",
    "\n",
    "xcas_roc_auc_input = pd.merge(active, roc_auc_input, on = 'PAM', how='inner')\n",
    "\n",
    "print ('1. all sgRNA')\n",
    "rda_154_auc = get_roc_auc(xcas_roc_auc_input, 'xCas9-3.7_AVGLFC_frompDNA')\n",
    "print(rda_154_auc)\n",
    "\n",
    "print ('2. G19 sgRNA')\n",
    "xcas_roc_auc_inputg19 = xcas_roc_auc_input[xcas_roc_auc_input.G19 =='y']\n",
    "rda_154_auc_g19 = get_roc_auc(xcas_roc_auc_inputg19, 'xCas9-3.7_AVGLFC_frompDNA')\n",
    "print(rda_154_auc_g19)\n",
    "\n",
    "print ('3. g20 sgRNA')\n",
    "xcas_roc_auc_input_g20 = xcas_roc_auc_input[xcas_roc_auc_input.g20 =='y']\n",
    "\n",
    "rda_154_auc_g20 = get_roc_auc(xcas_roc_auc_input_g20, 'xCas9-3.7_AVGLFC_frompDNA')\n",
    "print(rda_154_auc_g20)\n",
    "\n",
    "print ('4. G20 sgRNA')\n",
    "xcas_roc_auc_input_G20 = xcas_roc_auc_input[(xcas_roc_auc_input.g20 == 'n') & (xcas_roc_auc_input.G19 == 'n')]\n",
    "\n",
    "rda_154_auc_G20 = get_roc_auc(xcas_roc_auc_input_G20, 'xCas9-3.7_AVGLFC_frompDNA')\n",
    "print(rda_154_auc_G20)\n",
    "\n"
   ]
  },
  {
   "cell_type": "markdown",
   "metadata": {},
   "source": [
    "Cas9-VQR"
   ]
  },
  {
   "cell_type": "code",
   "execution_count": 48,
   "metadata": {},
   "outputs": [
    {
     "name": "stdout",
     "output_type": "stream",
     "text": [
      "4\n",
      "1. all sgRNA\n",
      "0.9426163723916533\n",
      "2. G19 sgRNA\n",
      "0.9958448753462604\n",
      "3. g20 sgRNA\n",
      "0.938804457953394\n",
      "4. G20 sgRNA\n",
      "0.9473684210526316\n"
     ]
    }
   ],
   "source": [
    "#get PAMs active with Cas9-VQR\n",
    "active = (fractionactive[fractionactive['Cas9-VQR fraction active'] >=0.7])\n",
    "active = active[['PAM']]\n",
    "print(len(active))\n",
    "\n",
    "vqr_roc_auc_input = pd.merge(active, roc_auc_input, on = 'PAM', how='inner')\n",
    "\n",
    "print('1. all sgRNA')\n",
    "\n",
    "rda_155_auc = get_roc_auc(vqr_roc_auc_input, 'Cas9-VQR_AVGLFC_frompDNA')\n",
    "print(rda_155_auc)\n",
    "\n",
    "print('2. G19 sgRNA')\n",
    "\n",
    "vqr_roc_auc_inputg19 = vqr_roc_auc_input[vqr_roc_auc_input.G19 =='y']\n",
    "\n",
    "rda_155_auc_g19 = get_roc_auc(vqr_roc_auc_inputg19, 'Cas9-VQR_AVGLFC_frompDNA')\n",
    "print(rda_155_auc_g19)\n",
    "\n",
    "print('3. g20 sgRNA')\n",
    "\n",
    "vqr_roc_auc_input_g20 = vqr_roc_auc_input[vqr_roc_auc_input.g20 =='y']\n",
    "\n",
    "rda_155_auc_g20 = get_roc_auc(vqr_roc_auc_input_g20, 'Cas9-VQR_AVGLFC_frompDNA')\n",
    "print(rda_155_auc_g20)\n",
    "\n",
    "print('4. G20 sgRNA')\n",
    "\n",
    "vqr_roc_auc_input_G20 = vqr_roc_auc_input[(vqr_roc_auc_input.g20 == 'n') & (vqr_roc_auc_input.G19 == 'n')]\n",
    "\n",
    "rda_155_auc_G20 = get_roc_auc(vqr_roc_auc_input_G20, 'Cas9-VQR_AVGLFC_frompDNA')\n",
    "print(rda_155_auc_G20)"
   ]
  },
  {
   "cell_type": "markdown",
   "metadata": {},
   "source": [
    "Cas9-NG(RDA_275)"
   ]
  },
  {
   "cell_type": "code",
   "execution_count": 49,
   "metadata": {},
   "outputs": [
    {
     "name": "stdout",
     "output_type": "stream",
     "text": [
      "18\n",
      "1. all sgRNA\n",
      "0.8696305686345527\n",
      "2. G19 sgRNA\n",
      "0.8844642195031518\n",
      "3. g20 sgRNA\n",
      "0.8621661690087907\n",
      "4. G20 sgRNA\n",
      "0.8965721040189124\n"
     ]
    }
   ],
   "source": [
    "c = 'Cas9-NG fraction active'\n",
    "d = 'Cas9-NG_AVGLFC_frompDNA'\n",
    "\n",
    "#get PAMs active with Cas9-VQR\n",
    "active = (fractionactive[fractionactive[c] >=0.7])\n",
    "active = active[['PAM']]\n",
    "print(len(active))\n",
    "\n",
    "ng_roc_auc_input = pd.merge(active, roc_auc_input, on = 'PAM', how='inner')\n",
    "\n",
    "print('1. all sgRNA')\n",
    "\n",
    "rda_275_auc = get_roc_auc(ng_roc_auc_input, d)\n",
    "print(rda_275_auc)\n",
    "\n",
    "print('2. G19 sgRNA')\n",
    "\n",
    "ng_roc_auc_inputg19 = ng_roc_auc_input[ng_roc_auc_input.G19 =='y']\n",
    "\n",
    "rda_275_auc_g19 = get_roc_auc(ng_roc_auc_inputg19, d)\n",
    "print(rda_275_auc_g19)\n",
    "\n",
    "print('3. g20 sgRNA')\n",
    "\n",
    "ng_roc_auc_input_g20 = ng_roc_auc_input[ng_roc_auc_input.g20 =='y']\n",
    "\n",
    "rda_275_auc_g20 = get_roc_auc(ng_roc_auc_input_g20, d)\n",
    "print(rda_275_auc_g20)\n",
    "\n",
    "print('4. G20 sgRNA')\n",
    "\n",
    "ng_roc_auc_input_G20 = ng_roc_auc_input[(ng_roc_auc_input.g20 == 'n') & (ng_roc_auc_input.G19 == 'n')]\n",
    "\n",
    "rda_275_auc_G20 = get_roc_auc(ng_roc_auc_input_G20, d)\n",
    "print(rda_275_auc_G20)"
   ]
  },
  {
   "cell_type": "markdown",
   "metadata": {},
   "source": [
    "SpG (RDA_449)"
   ]
  },
  {
   "cell_type": "code",
   "execution_count": 50,
   "metadata": {},
   "outputs": [
    {
     "name": "stdout",
     "output_type": "stream",
     "text": [
      "24\n",
      "1. all sgRNA\n",
      "0.8808876329623948\n",
      "2. G19 sgRNA\n",
      "0.9136281141725788\n",
      "3. g20 sgRNA\n",
      "0.8805640137604016\n",
      "4. G20 sgRNA\n",
      "0.8842123056118999\n"
     ]
    }
   ],
   "source": [
    "c = 'SpG fraction active'\n",
    "d = 'SpG_AVGLFC_frompDNA'\n",
    "\n",
    "#get PAMs active with Cas9-VQR\n",
    "active = (fractionactive[fractionactive[c] >=0.7])\n",
    "active = active[['PAM']]\n",
    "print(len(active))\n",
    "\n",
    "spg_roc_auc_input = pd.merge(active, roc_auc_input, on = 'PAM', how='inner')\n",
    "\n",
    "print('1. all sgRNA')\n",
    "\n",
    "rda_449_auc = get_roc_auc(spg_roc_auc_input, d)\n",
    "print(rda_449_auc)\n",
    "\n",
    "print('2. G19 sgRNA')\n",
    "\n",
    "spg_roc_auc_inputg19 = spg_roc_auc_input[spg_roc_auc_input.G19 =='y']\n",
    "\n",
    "rda_449_auc_g19 = get_roc_auc(spg_roc_auc_inputg19, d)\n",
    "print(rda_449_auc_g19)\n",
    "\n",
    "print('3. g20 sgRNA')\n",
    "\n",
    "spg_roc_auc_input_g20 = spg_roc_auc_input[spg_roc_auc_input.g20 =='y']\n",
    "\n",
    "rda_449_auc_g20 = get_roc_auc(spg_roc_auc_input_g20, d)\n",
    "print(rda_449_auc_g20)\n",
    "\n",
    "print('4. G20 sgRNA')\n",
    "\n",
    "spg_roc_auc_input_G20 = spg_roc_auc_input[(spg_roc_auc_input.g20 == 'n') & (spg_roc_auc_input.G19 == 'n')]\n",
    "\n",
    "rda_449_auc_G20 = get_roc_auc(spg_roc_auc_input_G20, d)\n",
    "print(rda_449_auc_G20)"
   ]
  },
  {
   "cell_type": "markdown",
   "metadata": {},
   "source": [
    "These values are used in Prism to generate the ROC-AUC barplots by 5'-type"
   ]
  },
  {
   "cell_type": "markdown",
   "metadata": {},
   "source": [
    "Panel 3b -- calculations for table of active or intermediate PAMs"
   ]
  },
  {
   "cell_type": "code",
   "execution_count": 51,
   "metadata": {},
   "outputs": [
    {
     "name": "stdout",
     "output_type": "stream",
     "text": [
      "16\n",
      "2\n",
      "4\n",
      "0\n",
      "18\n",
      "24\n"
     ]
    }
   ],
   "source": [
    "#active\n",
    "\n",
    "conds = fractionactive[['WTCas9 fraction active', 'xCas9-3.7 fraction active', 'Cas9-VQR fraction active',\n",
    "                       'Cas9-VRER fraction active', 'Cas9-NG fraction active', 'SpG fraction active']]\n",
    "for c in conds:\n",
    "    #print(c)\n",
    "    active = fractionactive[fractionactive[c] >=0.7]\n",
    "    print(len(active))"
   ]
  },
  {
   "cell_type": "code",
   "execution_count": 52,
   "metadata": {},
   "outputs": [
    {
     "name": "stdout",
     "output_type": "stream",
     "text": [
      "2\n",
      "14\n",
      "7\n",
      "1\n",
      "43\n",
      "41\n"
     ]
    }
   ],
   "source": [
    "#intermediate\n",
    "\n",
    "conds = fractionactive[['WTCas9 fraction active', 'xCas9-3.7 fraction active', 'Cas9-VQR fraction active',\n",
    "                       'Cas9-VRER fraction active', 'Cas9-NG fraction active', 'SpG fraction active']]\n",
    "for c in conds:\n",
    "    #print(c)\n",
    "    intermediate = fractionactive[(fractionactive[c] <0.7) & (fractionactive[c] >= 0.3)]\n",
    "    print(len(intermediate))"
   ]
  },
  {
   "cell_type": "markdown",
   "metadata": {},
   "source": [
    "Supplementary Figure 4\n",
    "\n",
    "Here, we will plot correlations of SpG and NG, first with all sgRNAs in the lib (Supp Fig 4f), then filtered for NG PAMs (Supp Fig 4g)"
   ]
  },
  {
   "cell_type": "code",
   "execution_count": 53,
   "metadata": {},
   "outputs": [
    {
     "data": {
      "text/plain": [
       "([<matplotlib.axis.YTick at 0x11e8e21f0>,\n",
       "  <matplotlib.axis.YTick at 0x11e8e2c10>,\n",
       "  <matplotlib.axis.YTick at 0x11d5a3f40>,\n",
       "  <matplotlib.axis.YTick at 0x11d5a33d0>,\n",
       "  <matplotlib.axis.YTick at 0x11d5a3850>],\n",
       " [Text(0, 0, ''),\n",
       "  Text(0, 0, ''),\n",
       "  Text(0, 0, ''),\n",
       "  Text(0, 0, ''),\n",
       "  Text(0, 0, '')])"
      ]
     },
     "execution_count": 53,
     "metadata": {},
     "output_type": "execute_result"
    },
    {
     "data": {
      "image/png": "[encoded data removed]",
      "text/plain": [
       "<Figure size 122.4x122.4 with 1 Axes>"
      ]
     },
     "metadata": {},
     "output_type": "display_data"
    }
   ],
   "source": [
    "#Supp Fig 4f\n",
    "gpp.set_aesthetics(context='paper')\n",
    "fig, ax = plt.subplots(figsize=(1.7,1.7))\n",
    "\n",
    "gpp.point_densityplot(data=variants, x = 'Cas9-NG_AVGLFC_frompDNA', y='SpG_AVGLFC_frompDNA')\n",
    "gpp.add_correlation(data=variants, x = 'Cas9-NG_AVGLFC_frompDNA', y='SpG_AVGLFC_frompDNA')\n",
    "plt.xlabel('Cas9-NG AvgLFC', fontsize=7)\n",
    "plt.ylabel('SpG AvgLFC', fontsize=7)\n",
    "plt.tick_params(axis='both', labelsize=7)\n",
    "plt.xticks([-6,-4,-2,0,2])\n",
    "plt.yticks([-6,-4,-2,0,2])\n",
    "#plt.savefig('../../Figures/panels/Fig 3/Cas9-NG v SpG all sgRNA.pdf', dpi=1000, transparent=True, bbox_inches='tight')"
   ]
  },
  {
   "cell_type": "code",
   "execution_count": 54,
   "metadata": {},
   "outputs": [
    {
     "name": "stdout",
     "output_type": "stream",
     "text": [
      "18651\n"
     ]
    }
   ],
   "source": [
    "print(len(variants))"
   ]
  },
  {
   "cell_type": "code",
   "execution_count": 55,
   "metadata": {},
   "outputs": [],
   "source": [
    "#filter out controls to allow for filtering of NG PAMs\n",
    "no_ctrl = variants[variants['Construct IDs'] != 'Non-targeting Control']"
   ]
  },
  {
   "cell_type": "code",
   "execution_count": 56,
   "metadata": {},
   "outputs": [],
   "source": [
    "no_ctrl['N_PAM'] = ['N' + p[1:3] + 'N' for p in no_ctrl.PAM]"
   ]
  },
  {
   "cell_type": "code",
   "execution_count": 57,
   "metadata": {},
   "outputs": [],
   "source": [
    "n_pam = no_ctrl[no_ctrl['N_PAM'].str.startswith('NG')]"
   ]
  },
  {
   "cell_type": "code",
   "execution_count": 58,
   "metadata": {},
   "outputs": [
    {
     "name": "stdout",
     "output_type": "stream",
     "text": [
      "4525\n"
     ]
    }
   ],
   "source": [
    "print(len(n_pam))"
   ]
  },
  {
   "cell_type": "code",
   "execution_count": 59,
   "metadata": {},
   "outputs": [
    {
     "data": {
      "text/plain": [
       "([<matplotlib.axis.YTick at 0x11d59ee50>,\n",
       "  <matplotlib.axis.YTick at 0x11d59efa0>,\n",
       "  <matplotlib.axis.YTick at 0x11d585250>,\n",
       "  <matplotlib.axis.YTick at 0x116c9c970>,\n",
       "  <matplotlib.axis.YTick at 0x11d585640>],\n",
       " [Text(0, 0, ''),\n",
       "  Text(0, 0, ''),\n",
       "  Text(0, 0, ''),\n",
       "  Text(0, 0, ''),\n",
       "  Text(0, 0, '')])"
      ]
     },
     "execution_count": 59,
     "metadata": {},
     "output_type": "execute_result"
    },
    {
     "data": {
      "image/png": "[encoded data removed]",
      "text/plain": [
       "<Figure size 122.4x122.4 with 1 Axes>"
      ]
     },
     "metadata": {},
     "output_type": "display_data"
    }
   ],
   "source": [
    "#Supp Fig 4g\n",
    "gpp.set_aesthetics(context='paper')\n",
    "fig, ax = plt.subplots(figsize=(1.7,1.7))\n",
    "\n",
    "gpp.point_densityplot(data=n_pam, x = 'Cas9-NG_AVGLFC_frompDNA', y='SpG_AVGLFC_frompDNA')\n",
    "gpp.add_correlation(data=n_pam, x = 'Cas9-NG_AVGLFC_frompDNA', y='SpG_AVGLFC_frompDNA')\n",
    "plt.xlabel('Cas9-NG AvgLFC', fontsize=7)\n",
    "plt.ylabel('SpG AvgLFC', fontsize=7)\n",
    "plt.tick_params(axis='both', labelsize=7)\n",
    "plt.xticks([-6,-4,-2,0,2])\n",
    "plt.yticks([-6,-4,-2,0,2])\n",
    "#plt.savefig('../../Figures/panels/Fig 3/Cas9-NG v SpG NG pams.pdf', dpi=1000, transparent=True, bbox_inches='tight')"
   ]
  },
  {
   "cell_type": "code",
   "execution_count": null,
   "metadata": {},
   "outputs": [],
   "source": []
  }
 ],
 "metadata": {
  "hide_input": false,
  "kernelspec": {
   "display_name": "Python 3",
   "language": "python",
   "name": "python3"
  },
  "language_info": {
   "codemirror_mode": {
    "name": "ipython",
    "version": 3
   },
   "file_extension": ".py",
   "mimetype": "text/x-python",
   "name": "python",
   "nbconvert_exporter": "python",
   "pygments_lexer": "ipython3",
   "version": "3.8.8"
  },
  "toc": {
   "base_numbering": 1,
   "nav_menu": {},
   "number_sections": true,
   "sideBar": true,
   "skip_h1_title": false,
   "title_cell": "Table of Contents",
   "title_sidebar": "Contents",
   "toc_cell": false,
   "toc_position": {},
   "toc_section_display": true,
   "toc_window_display": false
  },
  "varInspector": {
   "cols": {
    "lenName": 16,
    "lenType": 16,
    "lenVar": 40
   },
   "kernels_config": {
    "python": {
     "delete_cmd_postfix": "",
     "delete_cmd_prefix": "del ",
     "library": "var_list.py",
     "varRefreshCmd": "print(var_dic_list())"
    },
    "r": {
     "delete_cmd_postfix": ") ",
     "delete_cmd_prefix": "rm(",
     "library": "var_list.r",
     "varRefreshCmd": "cat(var_dic_list()) "
    }
   },
   "types_to_exclude": [
    "module",
    "function",
    "builtin_function_or_method",
    "instance",
    "_Feature"
   ],
   "window_display": false
  }
 },
 "nbformat": 4,
 "nbformat_minor": 2
}
