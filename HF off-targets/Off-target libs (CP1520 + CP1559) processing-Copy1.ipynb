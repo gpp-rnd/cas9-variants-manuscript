{
 "cells": [
  {
   "cell_type": "markdown",
   "metadata": {},
   "source": [
    "The purpose of this notebook is to combine the read counts for each of the 2 screens to freeze, and then proceed with these reads to LFC using poola. These LFC files will become the inputs to the downstream analyses"
   ]
  },
  {
   "cell_type": "code",
   "execution_count": 62,
   "metadata": {},
   "outputs": [],
   "source": [
    "import pandas as pd\n",
    "from poola import core as pool\n",
    "from functools import reduce\n",
    "import seaborn as sns\n",
    "from scipy.stats import pearsonr"
   ]
  },
  {
   "cell_type": "markdown",
   "metadata": {},
   "source": [
    "CP1520"
   ]
  },
  {
   "cell_type": "code",
   "execution_count": 2,
   "metadata": {},
   "outputs": [],
   "source": [
    "plate_1 = pd.read_table('../../data_v3/Fig 2_HF off-targets/raw/counts-A375_CP1520_085A (1).txt')"
   ]
  },
  {
   "cell_type": "code",
   "execution_count": 5,
   "metadata": {},
   "outputs": [
    {
     "data": {
      "text/html": [
       "<div>\n",
       "<style scoped>\n",
       "    .dataframe tbody tr th:only-of-type {\n",
       "        vertical-align: middle;\n",
       "    }\n",
       "\n",
       "    .dataframe tbody tr th {\n",
       "        vertical-align: top;\n",
       "    }\n",
       "\n",
       "    .dataframe thead th {\n",
       "        text-align: right;\n",
       "    }\n",
       "</style>\n",
       "<table border=\"1\" class=\"dataframe\">\n",
       "  <thead>\n",
       "    <tr style=\"text-align: right;\">\n",
       "      <th></th>\n",
       "      <th>Construct Barcode</th>\n",
       "      <th>Construct IDs</th>\n",
       "      <th>A375;CP1559;RDA_275;A;21;Dropout;</th>\n",
       "      <th>A375;CP1559;RDA_275;B;21;Dropout;</th>\n",
       "      <th>A375;CP1520;RDA_085;A;21;Dropout;</th>\n",
       "      <th>;;;;;;</th>\n",
       "      <th>pDNA;CP1559;;;;;</th>\n",
       "      <th>water;;;;;;</th>\n",
       "    </tr>\n",
       "  </thead>\n",
       "  <tbody>\n",
       "    <tr>\n",
       "      <th>0</th>\n",
       "      <td>AGACCGGAGAATCCGCATCG</td>\n",
       "      <td>CIAO1</td>\n",
       "      <td>0</td>\n",
       "      <td>0</td>\n",
       "      <td>48</td>\n",
       "      <td>0</td>\n",
       "      <td>0</td>\n",
       "      <td>0</td>\n",
       "    </tr>\n",
       "    <tr>\n",
       "      <th>1</th>\n",
       "      <td>TGACCGGAGAATCCGCATCG</td>\n",
       "      <td>CIAO1</td>\n",
       "      <td>0</td>\n",
       "      <td>0</td>\n",
       "      <td>253</td>\n",
       "      <td>0</td>\n",
       "      <td>0</td>\n",
       "      <td>0</td>\n",
       "    </tr>\n",
       "    <tr>\n",
       "      <th>2</th>\n",
       "      <td>GGACCGGAGAATCCGCATCG</td>\n",
       "      <td>CIAO1</td>\n",
       "      <td>0</td>\n",
       "      <td>0</td>\n",
       "      <td>29</td>\n",
       "      <td>0</td>\n",
       "      <td>0</td>\n",
       "      <td>0</td>\n",
       "    </tr>\n",
       "    <tr>\n",
       "      <th>3</th>\n",
       "      <td>CAACCGGAGAATCCGCATCG</td>\n",
       "      <td>CIAO1</td>\n",
       "      <td>0</td>\n",
       "      <td>0</td>\n",
       "      <td>71</td>\n",
       "      <td>0</td>\n",
       "      <td>0</td>\n",
       "      <td>0</td>\n",
       "    </tr>\n",
       "    <tr>\n",
       "      <th>4</th>\n",
       "      <td>CTACCGGAGAATCCGCATCG</td>\n",
       "      <td>CIAO1</td>\n",
       "      <td>0</td>\n",
       "      <td>0</td>\n",
       "      <td>29</td>\n",
       "      <td>0</td>\n",
       "      <td>0</td>\n",
       "      <td>0</td>\n",
       "    </tr>\n",
       "  </tbody>\n",
       "</table>\n",
       "</div>"
      ],
      "text/plain": [
       "      Construct Barcode Construct IDs  A375;CP1559;RDA_275;A;21;Dropout;  \\\n",
       "0  AGACCGGAGAATCCGCATCG         CIAO1                                  0   \n",
       "1  TGACCGGAGAATCCGCATCG         CIAO1                                  0   \n",
       "2  GGACCGGAGAATCCGCATCG         CIAO1                                  0   \n",
       "3  CAACCGGAGAATCCGCATCG         CIAO1                                  0   \n",
       "4  CTACCGGAGAATCCGCATCG         CIAO1                                  0   \n",
       "\n",
       "   A375;CP1559;RDA_275;B;21;Dropout;  A375;CP1520;RDA_085;A;21;Dropout;  \\\n",
       "0                                  0                                 48   \n",
       "1                                  0                                253   \n",
       "2                                  0                                 29   \n",
       "3                                  0                                 71   \n",
       "4                                  0                                 29   \n",
       "\n",
       "   ;;;;;;  pDNA;CP1559;;;;;  water;;;;;;  \n",
       "0       0                 0            0  \n",
       "1       0                 0            0  \n",
       "2       0                 0            0  \n",
       "3       0                 0            0  \n",
       "4       0                 0            0  "
      ]
     },
     "execution_count": 5,
     "metadata": {},
     "output_type": "execute_result"
    }
   ],
   "source": [
    "plate_1.head()"
   ]
  },
  {
   "cell_type": "code",
   "execution_count": 3,
   "metadata": {},
   "outputs": [],
   "source": [
    "plate_2 = pd.read_table('../../data_v3/Fig 2_HF off-targets/raw/counts-A375_CP1520_Plate2 (1).txt')"
   ]
  },
  {
   "cell_type": "code",
   "execution_count": 6,
   "metadata": {},
   "outputs": [
    {
     "data": {
      "text/html": [
       "<div>\n",
       "<style scoped>\n",
       "    .dataframe tbody tr th:only-of-type {\n",
       "        vertical-align: middle;\n",
       "    }\n",
       "\n",
       "    .dataframe tbody tr th {\n",
       "        vertical-align: top;\n",
       "    }\n",
       "\n",
       "    .dataframe thead th {\n",
       "        text-align: right;\n",
       "    }\n",
       "</style>\n",
       "<table border=\"1\" class=\"dataframe\">\n",
       "  <thead>\n",
       "    <tr style=\"text-align: right;\">\n",
       "      <th></th>\n",
       "      <th>Construct Barcode</th>\n",
       "      <th>Construct IDs</th>\n",
       "      <th>A375;CP1520;RDA_085;B;21;;</th>\n",
       "      <th>A375;CP1520;RDA_152;A;21;;</th>\n",
       "      <th>A375;CP1520;RDA_152;B;21;;</th>\n",
       "      <th>;;;;;;</th>\n",
       "      <th>A375;CP1520;RDA_381;A;21;;</th>\n",
       "      <th>A375;CP1520;RDA_381;B;21;;</th>\n",
       "      <th>pDNA;CP1520;;;;;</th>\n",
       "    </tr>\n",
       "  </thead>\n",
       "  <tbody>\n",
       "    <tr>\n",
       "      <th>0</th>\n",
       "      <td>AGACCGGAGAATCCGCATCG</td>\n",
       "      <td>CIAO1</td>\n",
       "      <td>40</td>\n",
       "      <td>32</td>\n",
       "      <td>64</td>\n",
       "      <td>0</td>\n",
       "      <td>61</td>\n",
       "      <td>138</td>\n",
       "      <td>231</td>\n",
       "    </tr>\n",
       "    <tr>\n",
       "      <th>1</th>\n",
       "      <td>TGACCGGAGAATCCGCATCG</td>\n",
       "      <td>CIAO1</td>\n",
       "      <td>42</td>\n",
       "      <td>34</td>\n",
       "      <td>31</td>\n",
       "      <td>0</td>\n",
       "      <td>78</td>\n",
       "      <td>82</td>\n",
       "      <td>325</td>\n",
       "    </tr>\n",
       "    <tr>\n",
       "      <th>2</th>\n",
       "      <td>GGACCGGAGAATCCGCATCG</td>\n",
       "      <td>CIAO1</td>\n",
       "      <td>26</td>\n",
       "      <td>29</td>\n",
       "      <td>54</td>\n",
       "      <td>0</td>\n",
       "      <td>15</td>\n",
       "      <td>108</td>\n",
       "      <td>255</td>\n",
       "    </tr>\n",
       "    <tr>\n",
       "      <th>3</th>\n",
       "      <td>CAACCGGAGAATCCGCATCG</td>\n",
       "      <td>CIAO1</td>\n",
       "      <td>50</td>\n",
       "      <td>29</td>\n",
       "      <td>80</td>\n",
       "      <td>0</td>\n",
       "      <td>42</td>\n",
       "      <td>36</td>\n",
       "      <td>314</td>\n",
       "    </tr>\n",
       "    <tr>\n",
       "      <th>4</th>\n",
       "      <td>CTACCGGAGAATCCGCATCG</td>\n",
       "      <td>CIAO1</td>\n",
       "      <td>34</td>\n",
       "      <td>28</td>\n",
       "      <td>19</td>\n",
       "      <td>0</td>\n",
       "      <td>11</td>\n",
       "      <td>65</td>\n",
       "      <td>206</td>\n",
       "    </tr>\n",
       "  </tbody>\n",
       "</table>\n",
       "</div>"
      ],
      "text/plain": [
       "      Construct Barcode Construct IDs  A375;CP1520;RDA_085;B;21;;  \\\n",
       "0  AGACCGGAGAATCCGCATCG         CIAO1                          40   \n",
       "1  TGACCGGAGAATCCGCATCG         CIAO1                          42   \n",
       "2  GGACCGGAGAATCCGCATCG         CIAO1                          26   \n",
       "3  CAACCGGAGAATCCGCATCG         CIAO1                          50   \n",
       "4  CTACCGGAGAATCCGCATCG         CIAO1                          34   \n",
       "\n",
       "   A375;CP1520;RDA_152;A;21;;  A375;CP1520;RDA_152;B;21;;  ;;;;;;  \\\n",
       "0                          32                          64       0   \n",
       "1                          34                          31       0   \n",
       "2                          29                          54       0   \n",
       "3                          29                          80       0   \n",
       "4                          28                          19       0   \n",
       "\n",
       "   A375;CP1520;RDA_381;A;21;;  A375;CP1520;RDA_381;B;21;;  pDNA;CP1520;;;;;  \n",
       "0                          61                         138               231  \n",
       "1                          78                          82               325  \n",
       "2                          15                         108               255  \n",
       "3                          42                          36               314  \n",
       "4                          11                          65               206  "
      ]
     },
     "execution_count": 6,
     "metadata": {},
     "output_type": "execute_result"
    }
   ],
   "source": [
    "plate_2.head()"
   ]
  },
  {
   "cell_type": "code",
   "execution_count": 4,
   "metadata": {},
   "outputs": [
    {
     "name": "stdout",
     "output_type": "stream",
     "text": [
      "(34537, 8)\n",
      "(34537, 9)\n"
     ]
    }
   ],
   "source": [
    "print(plate_1.shape)\n",
    "print(plate_2.shape)"
   ]
  },
  {
   "cell_type": "markdown",
   "metadata": {},
   "source": [
    "Merge the 2 files"
   ]
  },
  {
   "cell_type": "code",
   "execution_count": 7,
   "metadata": {},
   "outputs": [],
   "source": [
    "cp150_all = pd.merge(plate_1, plate_2, on='Construct Barcode')"
   ]
  },
  {
   "cell_type": "code",
   "execution_count": 9,
   "metadata": {},
   "outputs": [
    {
     "name": "stdout",
     "output_type": "stream",
     "text": [
      "(34537, 16)\n"
     ]
    },
    {
     "data": {
      "text/html": [
       "<div>\n",
       "<style scoped>\n",
       "    .dataframe tbody tr th:only-of-type {\n",
       "        vertical-align: middle;\n",
       "    }\n",
       "\n",
       "    .dataframe tbody tr th {\n",
       "        vertical-align: top;\n",
       "    }\n",
       "\n",
       "    .dataframe thead th {\n",
       "        text-align: right;\n",
       "    }\n",
       "</style>\n",
       "<table border=\"1\" class=\"dataframe\">\n",
       "  <thead>\n",
       "    <tr style=\"text-align: right;\">\n",
       "      <th></th>\n",
       "      <th>Construct Barcode</th>\n",
       "      <th>Construct IDs_x</th>\n",
       "      <th>A375;CP1559;RDA_275;A;21;Dropout;</th>\n",
       "      <th>A375;CP1559;RDA_275;B;21;Dropout;</th>\n",
       "      <th>A375;CP1520;RDA_085;A;21;Dropout;</th>\n",
       "      <th>;;;;;;_x</th>\n",
       "      <th>pDNA;CP1559;;;;;</th>\n",
       "      <th>water;;;;;;</th>\n",
       "      <th>Construct IDs_y</th>\n",
       "      <th>A375;CP1520;RDA_085;B;21;;</th>\n",
       "      <th>A375;CP1520;RDA_152;A;21;;</th>\n",
       "      <th>A375;CP1520;RDA_152;B;21;;</th>\n",
       "      <th>;;;;;;_y</th>\n",
       "      <th>A375;CP1520;RDA_381;A;21;;</th>\n",
       "      <th>A375;CP1520;RDA_381;B;21;;</th>\n",
       "      <th>pDNA;CP1520;;;;;</th>\n",
       "    </tr>\n",
       "  </thead>\n",
       "  <tbody>\n",
       "    <tr>\n",
       "      <th>0</th>\n",
       "      <td>AGACCGGAGAATCCGCATCG</td>\n",
       "      <td>CIAO1</td>\n",
       "      <td>0</td>\n",
       "      <td>0</td>\n",
       "      <td>48</td>\n",
       "      <td>0</td>\n",
       "      <td>0</td>\n",
       "      <td>0</td>\n",
       "      <td>CIAO1</td>\n",
       "      <td>40</td>\n",
       "      <td>32</td>\n",
       "      <td>64</td>\n",
       "      <td>0</td>\n",
       "      <td>61</td>\n",
       "      <td>138</td>\n",
       "      <td>231</td>\n",
       "    </tr>\n",
       "    <tr>\n",
       "      <th>1</th>\n",
       "      <td>TGACCGGAGAATCCGCATCG</td>\n",
       "      <td>CIAO1</td>\n",
       "      <td>0</td>\n",
       "      <td>0</td>\n",
       "      <td>253</td>\n",
       "      <td>0</td>\n",
       "      <td>0</td>\n",
       "      <td>0</td>\n",
       "      <td>CIAO1</td>\n",
       "      <td>42</td>\n",
       "      <td>34</td>\n",
       "      <td>31</td>\n",
       "      <td>0</td>\n",
       "      <td>78</td>\n",
       "      <td>82</td>\n",
       "      <td>325</td>\n",
       "    </tr>\n",
       "    <tr>\n",
       "      <th>2</th>\n",
       "      <td>GGACCGGAGAATCCGCATCG</td>\n",
       "      <td>CIAO1</td>\n",
       "      <td>0</td>\n",
       "      <td>0</td>\n",
       "      <td>29</td>\n",
       "      <td>0</td>\n",
       "      <td>0</td>\n",
       "      <td>0</td>\n",
       "      <td>CIAO1</td>\n",
       "      <td>26</td>\n",
       "      <td>29</td>\n",
       "      <td>54</td>\n",
       "      <td>0</td>\n",
       "      <td>15</td>\n",
       "      <td>108</td>\n",
       "      <td>255</td>\n",
       "    </tr>\n",
       "    <tr>\n",
       "      <th>3</th>\n",
       "      <td>CAACCGGAGAATCCGCATCG</td>\n",
       "      <td>CIAO1</td>\n",
       "      <td>0</td>\n",
       "      <td>0</td>\n",
       "      <td>71</td>\n",
       "      <td>0</td>\n",
       "      <td>0</td>\n",
       "      <td>0</td>\n",
       "      <td>CIAO1</td>\n",
       "      <td>50</td>\n",
       "      <td>29</td>\n",
       "      <td>80</td>\n",
       "      <td>0</td>\n",
       "      <td>42</td>\n",
       "      <td>36</td>\n",
       "      <td>314</td>\n",
       "    </tr>\n",
       "    <tr>\n",
       "      <th>4</th>\n",
       "      <td>CTACCGGAGAATCCGCATCG</td>\n",
       "      <td>CIAO1</td>\n",
       "      <td>0</td>\n",
       "      <td>0</td>\n",
       "      <td>29</td>\n",
       "      <td>0</td>\n",
       "      <td>0</td>\n",
       "      <td>0</td>\n",
       "      <td>CIAO1</td>\n",
       "      <td>34</td>\n",
       "      <td>28</td>\n",
       "      <td>19</td>\n",
       "      <td>0</td>\n",
       "      <td>11</td>\n",
       "      <td>65</td>\n",
       "      <td>206</td>\n",
       "    </tr>\n",
       "  </tbody>\n",
       "</table>\n",
       "</div>"
      ],
      "text/plain": [
       "      Construct Barcode Construct IDs_x  A375;CP1559;RDA_275;A;21;Dropout;  \\\n",
       "0  AGACCGGAGAATCCGCATCG           CIAO1                                  0   \n",
       "1  TGACCGGAGAATCCGCATCG           CIAO1                                  0   \n",
       "2  GGACCGGAGAATCCGCATCG           CIAO1                                  0   \n",
       "3  CAACCGGAGAATCCGCATCG           CIAO1                                  0   \n",
       "4  CTACCGGAGAATCCGCATCG           CIAO1                                  0   \n",
       "\n",
       "   A375;CP1559;RDA_275;B;21;Dropout;  A375;CP1520;RDA_085;A;21;Dropout;  \\\n",
       "0                                  0                                 48   \n",
       "1                                  0                                253   \n",
       "2                                  0                                 29   \n",
       "3                                  0                                 71   \n",
       "4                                  0                                 29   \n",
       "\n",
       "   ;;;;;;_x  pDNA;CP1559;;;;;  water;;;;;; Construct IDs_y  \\\n",
       "0         0                 0            0           CIAO1   \n",
       "1         0                 0            0           CIAO1   \n",
       "2         0                 0            0           CIAO1   \n",
       "3         0                 0            0           CIAO1   \n",
       "4         0                 0            0           CIAO1   \n",
       "\n",
       "   A375;CP1520;RDA_085;B;21;;  A375;CP1520;RDA_152;A;21;;  \\\n",
       "0                          40                          32   \n",
       "1                          42                          34   \n",
       "2                          26                          29   \n",
       "3                          50                          29   \n",
       "4                          34                          28   \n",
       "\n",
       "   A375;CP1520;RDA_152;B;21;;  ;;;;;;_y  A375;CP1520;RDA_381;A;21;;  \\\n",
       "0                          64         0                          61   \n",
       "1                          31         0                          78   \n",
       "2                          54         0                          15   \n",
       "3                          80         0                          42   \n",
       "4                          19         0                          11   \n",
       "\n",
       "   A375;CP1520;RDA_381;B;21;;  pDNA;CP1520;;;;;  \n",
       "0                         138               231  \n",
       "1                          82               325  \n",
       "2                         108               255  \n",
       "3                          36               314  \n",
       "4                          65               206  "
      ]
     },
     "execution_count": 9,
     "metadata": {},
     "output_type": "execute_result"
    }
   ],
   "source": [
    "print(cp150_all.shape)\n",
    "cp150_all.head()"
   ]
  },
  {
   "cell_type": "markdown",
   "metadata": {},
   "source": [
    "Clean this file up --\n",
    "\n",
    "Drop CP1559 reads - these will be processed separately\n",
    "\n",
    "Remove empty wells\n"
   ]
  },
  {
   "cell_type": "code",
   "execution_count": 12,
   "metadata": {},
   "outputs": [],
   "source": [
    "cleaned_cp150 = cp150_all.drop(columns=['A375;CP1559;RDA_275;A;21;Dropout;', 'A375;CP1559;RDA_275;B;21;Dropout;',\n",
    "                                       ';;;;;;_x', 'pDNA;CP1559;;;;;', 'water;;;;;;','Construct IDs_y',';;;;;;_y'])"
   ]
  },
  {
   "cell_type": "code",
   "execution_count": 13,
   "metadata": {},
   "outputs": [
    {
     "data": {
      "text/html": [
       "<div>\n",
       "<style scoped>\n",
       "    .dataframe tbody tr th:only-of-type {\n",
       "        vertical-align: middle;\n",
       "    }\n",
       "\n",
       "    .dataframe tbody tr th {\n",
       "        vertical-align: top;\n",
       "    }\n",
       "\n",
       "    .dataframe thead th {\n",
       "        text-align: right;\n",
       "    }\n",
       "</style>\n",
       "<table border=\"1\" class=\"dataframe\">\n",
       "  <thead>\n",
       "    <tr style=\"text-align: right;\">\n",
       "      <th></th>\n",
       "      <th>Construct Barcode</th>\n",
       "      <th>Construct IDs_x</th>\n",
       "      <th>A375;CP1520;RDA_085;A;21;Dropout;</th>\n",
       "      <th>A375;CP1520;RDA_085;B;21;;</th>\n",
       "      <th>A375;CP1520;RDA_152;A;21;;</th>\n",
       "      <th>A375;CP1520;RDA_152;B;21;;</th>\n",
       "      <th>A375;CP1520;RDA_381;A;21;;</th>\n",
       "      <th>A375;CP1520;RDA_381;B;21;;</th>\n",
       "      <th>pDNA;CP1520;;;;;</th>\n",
       "    </tr>\n",
       "  </thead>\n",
       "  <tbody>\n",
       "    <tr>\n",
       "      <th>0</th>\n",
       "      <td>AGACCGGAGAATCCGCATCG</td>\n",
       "      <td>CIAO1</td>\n",
       "      <td>48</td>\n",
       "      <td>40</td>\n",
       "      <td>32</td>\n",
       "      <td>64</td>\n",
       "      <td>61</td>\n",
       "      <td>138</td>\n",
       "      <td>231</td>\n",
       "    </tr>\n",
       "    <tr>\n",
       "      <th>1</th>\n",
       "      <td>TGACCGGAGAATCCGCATCG</td>\n",
       "      <td>CIAO1</td>\n",
       "      <td>253</td>\n",
       "      <td>42</td>\n",
       "      <td>34</td>\n",
       "      <td>31</td>\n",
       "      <td>78</td>\n",
       "      <td>82</td>\n",
       "      <td>325</td>\n",
       "    </tr>\n",
       "    <tr>\n",
       "      <th>2</th>\n",
       "      <td>GGACCGGAGAATCCGCATCG</td>\n",
       "      <td>CIAO1</td>\n",
       "      <td>29</td>\n",
       "      <td>26</td>\n",
       "      <td>29</td>\n",
       "      <td>54</td>\n",
       "      <td>15</td>\n",
       "      <td>108</td>\n",
       "      <td>255</td>\n",
       "    </tr>\n",
       "    <tr>\n",
       "      <th>3</th>\n",
       "      <td>CAACCGGAGAATCCGCATCG</td>\n",
       "      <td>CIAO1</td>\n",
       "      <td>71</td>\n",
       "      <td>50</td>\n",
       "      <td>29</td>\n",
       "      <td>80</td>\n",
       "      <td>42</td>\n",
       "      <td>36</td>\n",
       "      <td>314</td>\n",
       "    </tr>\n",
       "    <tr>\n",
       "      <th>4</th>\n",
       "      <td>CTACCGGAGAATCCGCATCG</td>\n",
       "      <td>CIAO1</td>\n",
       "      <td>29</td>\n",
       "      <td>34</td>\n",
       "      <td>28</td>\n",
       "      <td>19</td>\n",
       "      <td>11</td>\n",
       "      <td>65</td>\n",
       "      <td>206</td>\n",
       "    </tr>\n",
       "  </tbody>\n",
       "</table>\n",
       "</div>"
      ],
      "text/plain": [
       "      Construct Barcode Construct IDs_x  A375;CP1520;RDA_085;A;21;Dropout;  \\\n",
       "0  AGACCGGAGAATCCGCATCG           CIAO1                                 48   \n",
       "1  TGACCGGAGAATCCGCATCG           CIAO1                                253   \n",
       "2  GGACCGGAGAATCCGCATCG           CIAO1                                 29   \n",
       "3  CAACCGGAGAATCCGCATCG           CIAO1                                 71   \n",
       "4  CTACCGGAGAATCCGCATCG           CIAO1                                 29   \n",
       "\n",
       "   A375;CP1520;RDA_085;B;21;;  A375;CP1520;RDA_152;A;21;;  \\\n",
       "0                          40                          32   \n",
       "1                          42                          34   \n",
       "2                          26                          29   \n",
       "3                          50                          29   \n",
       "4                          34                          28   \n",
       "\n",
       "   A375;CP1520;RDA_152;B;21;;  A375;CP1520;RDA_381;A;21;;  \\\n",
       "0                          64                          61   \n",
       "1                          31                          78   \n",
       "2                          54                          15   \n",
       "3                          80                          42   \n",
       "4                          19                          11   \n",
       "\n",
       "   A375;CP1520;RDA_381;B;21;;  pDNA;CP1520;;;;;  \n",
       "0                         138               231  \n",
       "1                          82               325  \n",
       "2                         108               255  \n",
       "3                          36               314  \n",
       "4                          65               206  "
      ]
     },
     "execution_count": 13,
     "metadata": {},
     "output_type": "execute_result"
    }
   ],
   "source": [
    "cleaned_cp150.head()"
   ]
  },
  {
   "cell_type": "markdown",
   "metadata": {},
   "source": [
    "Rename columns\n",
    "\n",
    "These screens were all pelleted on D21- this can be indicated in methods, and dropped from meta file. Likewise for \"Dropout\" descriptor"
   ]
  },
  {
   "cell_type": "code",
   "execution_count": 14,
   "metadata": {},
   "outputs": [],
   "source": [
    "cleaned_cp150 = cleaned_cp150.rename(columns={'Construct IDs_x' : 'Construct IDs',\n",
    "                                             'A375;CP1520;RDA_085;A;21;Dropout;': 'A375_CP1520_RDA085_Rep A',\n",
    "                                             'A375;CP1520;RDA_085;B;21;;': 'A375_CP1520_RDA085_Rep B',\n",
    "                                             'A375;CP1520;RDA_152;A;21;;': 'A375_CP1520_RDA152_Rep A',\n",
    "                                             'A375;CP1520;RDA_152;B;21;;': 'A375_CP1520_RDA152_Rep B',\n",
    "                                             'A375;CP1520;RDA_381;A;21;;': 'A375_CP1520_RDA381_Rep A',\n",
    "                                             'A375;CP1520;RDA_381;B;21;;': 'A375_CP1520_RDA381_Rep B',\n",
    "                                             'pDNA;CP1520;;;;;': 'pDNA_CP1520'})"
   ]
  },
  {
   "cell_type": "code",
   "execution_count": 15,
   "metadata": {},
   "outputs": [
    {
     "data": {
      "text/html": [
       "<div>\n",
       "<style scoped>\n",
       "    .dataframe tbody tr th:only-of-type {\n",
       "        vertical-align: middle;\n",
       "    }\n",
       "\n",
       "    .dataframe tbody tr th {\n",
       "        vertical-align: top;\n",
       "    }\n",
       "\n",
       "    .dataframe thead th {\n",
       "        text-align: right;\n",
       "    }\n",
       "</style>\n",
       "<table border=\"1\" class=\"dataframe\">\n",
       "  <thead>\n",
       "    <tr style=\"text-align: right;\">\n",
       "      <th></th>\n",
       "      <th>Construct Barcode</th>\n",
       "      <th>Construct IDs</th>\n",
       "      <th>A375_CP1520_RDA085_Rep A</th>\n",
       "      <th>A375_CP1520_RDA085_Rep B</th>\n",
       "      <th>A375_CP1520_RDA152_Rep A</th>\n",
       "      <th>A375_CP1520_RDA152_Rep B</th>\n",
       "      <th>A375_CP1520_RDA381_Rep A</th>\n",
       "      <th>A375_CP1520_RDA381_Rep B</th>\n",
       "      <th>pDNA_CP1520</th>\n",
       "    </tr>\n",
       "  </thead>\n",
       "  <tbody>\n",
       "    <tr>\n",
       "      <th>0</th>\n",
       "      <td>AGACCGGAGAATCCGCATCG</td>\n",
       "      <td>CIAO1</td>\n",
       "      <td>48</td>\n",
       "      <td>40</td>\n",
       "      <td>32</td>\n",
       "      <td>64</td>\n",
       "      <td>61</td>\n",
       "      <td>138</td>\n",
       "      <td>231</td>\n",
       "    </tr>\n",
       "    <tr>\n",
       "      <th>1</th>\n",
       "      <td>TGACCGGAGAATCCGCATCG</td>\n",
       "      <td>CIAO1</td>\n",
       "      <td>253</td>\n",
       "      <td>42</td>\n",
       "      <td>34</td>\n",
       "      <td>31</td>\n",
       "      <td>78</td>\n",
       "      <td>82</td>\n",
       "      <td>325</td>\n",
       "    </tr>\n",
       "    <tr>\n",
       "      <th>2</th>\n",
       "      <td>GGACCGGAGAATCCGCATCG</td>\n",
       "      <td>CIAO1</td>\n",
       "      <td>29</td>\n",
       "      <td>26</td>\n",
       "      <td>29</td>\n",
       "      <td>54</td>\n",
       "      <td>15</td>\n",
       "      <td>108</td>\n",
       "      <td>255</td>\n",
       "    </tr>\n",
       "    <tr>\n",
       "      <th>3</th>\n",
       "      <td>CAACCGGAGAATCCGCATCG</td>\n",
       "      <td>CIAO1</td>\n",
       "      <td>71</td>\n",
       "      <td>50</td>\n",
       "      <td>29</td>\n",
       "      <td>80</td>\n",
       "      <td>42</td>\n",
       "      <td>36</td>\n",
       "      <td>314</td>\n",
       "    </tr>\n",
       "    <tr>\n",
       "      <th>4</th>\n",
       "      <td>CTACCGGAGAATCCGCATCG</td>\n",
       "      <td>CIAO1</td>\n",
       "      <td>29</td>\n",
       "      <td>34</td>\n",
       "      <td>28</td>\n",
       "      <td>19</td>\n",
       "      <td>11</td>\n",
       "      <td>65</td>\n",
       "      <td>206</td>\n",
       "    </tr>\n",
       "  </tbody>\n",
       "</table>\n",
       "</div>"
      ],
      "text/plain": [
       "      Construct Barcode Construct IDs  A375_CP1520_RDA085_Rep A  \\\n",
       "0  AGACCGGAGAATCCGCATCG         CIAO1                        48   \n",
       "1  TGACCGGAGAATCCGCATCG         CIAO1                       253   \n",
       "2  GGACCGGAGAATCCGCATCG         CIAO1                        29   \n",
       "3  CAACCGGAGAATCCGCATCG         CIAO1                        71   \n",
       "4  CTACCGGAGAATCCGCATCG         CIAO1                        29   \n",
       "\n",
       "   A375_CP1520_RDA085_Rep B  A375_CP1520_RDA152_Rep A  \\\n",
       "0                        40                        32   \n",
       "1                        42                        34   \n",
       "2                        26                        29   \n",
       "3                        50                        29   \n",
       "4                        34                        28   \n",
       "\n",
       "   A375_CP1520_RDA152_Rep B  A375_CP1520_RDA381_Rep A  \\\n",
       "0                        64                        61   \n",
       "1                        31                        78   \n",
       "2                        54                        15   \n",
       "3                        80                        42   \n",
       "4                        19                        11   \n",
       "\n",
       "   A375_CP1520_RDA381_Rep B  pDNA_CP1520  \n",
       "0                       138          231  \n",
       "1                        82          325  \n",
       "2                       108          255  \n",
       "3                        36          314  \n",
       "4                        65          206  "
      ]
     },
     "execution_count": 15,
     "metadata": {},
     "output_type": "execute_result"
    }
   ],
   "source": [
    "cleaned_cp150.head()"
   ]
  },
  {
   "cell_type": "code",
   "execution_count": 16,
   "metadata": {},
   "outputs": [],
   "source": [
    "cleaned_cp150.to_csv('../../data_v3/Fig 2_HF off-targets/raw/HF_off-target_CP1520_reads_collated_v1.txt', sep='\\t')"
   ]
  },
  {
   "cell_type": "markdown",
   "metadata": {},
   "source": [
    "CP1559"
   ]
  },
  {
   "cell_type": "code",
   "execution_count": 17,
   "metadata": {},
   "outputs": [],
   "source": [
    "spg_reads = pd.read_table('../../data_v3/Fig 4_PAM flex off-targets/raw/counts-AKS_A375_RDA449_CP1559 (1).txt')"
   ]
  },
  {
   "cell_type": "code",
   "execution_count": 21,
   "metadata": {},
   "outputs": [
    {
     "name": "stdout",
     "output_type": "stream",
     "text": [
      "(79075, 6)\n"
     ]
    },
    {
     "data": {
      "text/html": [
       "<div>\n",
       "<style scoped>\n",
       "    .dataframe tbody tr th:only-of-type {\n",
       "        vertical-align: middle;\n",
       "    }\n",
       "\n",
       "    .dataframe tbody tr th {\n",
       "        vertical-align: top;\n",
       "    }\n",
       "\n",
       "    .dataframe thead th {\n",
       "        text-align: right;\n",
       "    }\n",
       "</style>\n",
       "<table border=\"1\" class=\"dataframe\">\n",
       "  <thead>\n",
       "    <tr style=\"text-align: right;\">\n",
       "      <th></th>\n",
       "      <th>Construct Barcode</th>\n",
       "      <th>Construct IDs</th>\n",
       "      <th>A375_RDA449_CP1559;Dropout;RepA;D21</th>\n",
       "      <th>Unnamed: 3</th>\n",
       "      <th>A375_RDA449_CP1559;Dropout;RepB;D21</th>\n",
       "      <th>CP1559_M-AK35_AAFX03_RDA118;pDNA</th>\n",
       "    </tr>\n",
       "  </thead>\n",
       "  <tbody>\n",
       "    <tr>\n",
       "      <th>0</th>\n",
       "      <td>AACAACATGCGGGTGATGAG</td>\n",
       "      <td>EEF2</td>\n",
       "      <td>72</td>\n",
       "      <td>0</td>\n",
       "      <td>166</td>\n",
       "      <td>119</td>\n",
       "    </tr>\n",
       "    <tr>\n",
       "      <th>1</th>\n",
       "      <td>TACAACATGCGGGTGATGAG</td>\n",
       "      <td>EEF2</td>\n",
       "      <td>20</td>\n",
       "      <td>1</td>\n",
       "      <td>5</td>\n",
       "      <td>209</td>\n",
       "    </tr>\n",
       "    <tr>\n",
       "      <th>2</th>\n",
       "      <td>GACAACATGCGGGTGATGAG</td>\n",
       "      <td>EEF2</td>\n",
       "      <td>14</td>\n",
       "      <td>0</td>\n",
       "      <td>17</td>\n",
       "      <td>70</td>\n",
       "    </tr>\n",
       "    <tr>\n",
       "      <th>3</th>\n",
       "      <td>CTCAACATGCGGGTGATGAG</td>\n",
       "      <td>EEF2</td>\n",
       "      <td>33</td>\n",
       "      <td>0</td>\n",
       "      <td>46</td>\n",
       "      <td>184</td>\n",
       "    </tr>\n",
       "    <tr>\n",
       "      <th>4</th>\n",
       "      <td>CCCAACATGCGGGTGATGAG</td>\n",
       "      <td>EEF2</td>\n",
       "      <td>34</td>\n",
       "      <td>0</td>\n",
       "      <td>74</td>\n",
       "      <td>193</td>\n",
       "    </tr>\n",
       "  </tbody>\n",
       "</table>\n",
       "</div>"
      ],
      "text/plain": [
       "      Construct Barcode Construct IDs  A375_RDA449_CP1559;Dropout;RepA;D21  \\\n",
       "0  AACAACATGCGGGTGATGAG          EEF2                                   72   \n",
       "1  TACAACATGCGGGTGATGAG          EEF2                                   20   \n",
       "2  GACAACATGCGGGTGATGAG          EEF2                                   14   \n",
       "3  CTCAACATGCGGGTGATGAG          EEF2                                   33   \n",
       "4  CCCAACATGCGGGTGATGAG          EEF2                                   34   \n",
       "\n",
       "   Unnamed: 3  A375_RDA449_CP1559;Dropout;RepB;D21  \\\n",
       "0           0                                  166   \n",
       "1           1                                    5   \n",
       "2           0                                   17   \n",
       "3           0                                   46   \n",
       "4           0                                   74   \n",
       "\n",
       "   CP1559_M-AK35_AAFX03_RDA118;pDNA  \n",
       "0                               119  \n",
       "1                               209  \n",
       "2                                70  \n",
       "3                               184  \n",
       "4                               193  "
      ]
     },
     "execution_count": 21,
     "metadata": {},
     "output_type": "execute_result"
    }
   ],
   "source": [
    "print(spg_reads.shape)\n",
    "spg_reads.head()"
   ]
  },
  {
   "cell_type": "code",
   "execution_count": 18,
   "metadata": {},
   "outputs": [],
   "source": [
    "ng_reads = pd.read_table('../../data_v3/Fig 4_PAM flex off-targets/raw/counts-A375_CP1559_Cas9NG_offtarget_v2 (1).txt')"
   ]
  },
  {
   "cell_type": "code",
   "execution_count": 22,
   "metadata": {},
   "outputs": [
    {
     "name": "stdout",
     "output_type": "stream",
     "text": [
      "(79075, 8)\n"
     ]
    },
    {
     "data": {
      "text/html": [
       "<div>\n",
       "<style scoped>\n",
       "    .dataframe tbody tr th:only-of-type {\n",
       "        vertical-align: middle;\n",
       "    }\n",
       "\n",
       "    .dataframe tbody tr th {\n",
       "        vertical-align: top;\n",
       "    }\n",
       "\n",
       "    .dataframe thead th {\n",
       "        text-align: right;\n",
       "    }\n",
       "</style>\n",
       "<table border=\"1\" class=\"dataframe\">\n",
       "  <thead>\n",
       "    <tr style=\"text-align: right;\">\n",
       "      <th></th>\n",
       "      <th>Construct Barcode</th>\n",
       "      <th>Construct IDs</th>\n",
       "      <th>A375;CP1559;RDA_275;A;21;Dropout;</th>\n",
       "      <th>A375;CP1559;RDA_275;B;21;Dropout;</th>\n",
       "      <th>A375;CP1520;RDA_085;A;21;Dropout;</th>\n",
       "      <th>;;;;;;</th>\n",
       "      <th>pDNA;CP1559;;;;;</th>\n",
       "      <th>water;;;;;;</th>\n",
       "    </tr>\n",
       "  </thead>\n",
       "  <tbody>\n",
       "    <tr>\n",
       "      <th>0</th>\n",
       "      <td>AACAACATGCGGGTGATGAG</td>\n",
       "      <td>EEF2</td>\n",
       "      <td>19</td>\n",
       "      <td>15</td>\n",
       "      <td>0</td>\n",
       "      <td>0</td>\n",
       "      <td>24</td>\n",
       "      <td>0</td>\n",
       "    </tr>\n",
       "    <tr>\n",
       "      <th>1</th>\n",
       "      <td>TACAACATGCGGGTGATGAG</td>\n",
       "      <td>EEF2</td>\n",
       "      <td>35</td>\n",
       "      <td>10</td>\n",
       "      <td>0</td>\n",
       "      <td>0</td>\n",
       "      <td>69</td>\n",
       "      <td>0</td>\n",
       "    </tr>\n",
       "    <tr>\n",
       "      <th>2</th>\n",
       "      <td>GACAACATGCGGGTGATGAG</td>\n",
       "      <td>EEF2</td>\n",
       "      <td>6</td>\n",
       "      <td>33</td>\n",
       "      <td>0</td>\n",
       "      <td>0</td>\n",
       "      <td>33</td>\n",
       "      <td>0</td>\n",
       "    </tr>\n",
       "    <tr>\n",
       "      <th>3</th>\n",
       "      <td>CTCAACATGCGGGTGATGAG</td>\n",
       "      <td>EEF2</td>\n",
       "      <td>20</td>\n",
       "      <td>35</td>\n",
       "      <td>0</td>\n",
       "      <td>0</td>\n",
       "      <td>43</td>\n",
       "      <td>0</td>\n",
       "    </tr>\n",
       "    <tr>\n",
       "      <th>4</th>\n",
       "      <td>CCCAACATGCGGGTGATGAG</td>\n",
       "      <td>EEF2</td>\n",
       "      <td>6</td>\n",
       "      <td>19</td>\n",
       "      <td>0</td>\n",
       "      <td>0</td>\n",
       "      <td>49</td>\n",
       "      <td>0</td>\n",
       "    </tr>\n",
       "  </tbody>\n",
       "</table>\n",
       "</div>"
      ],
      "text/plain": [
       "      Construct Barcode Construct IDs  A375;CP1559;RDA_275;A;21;Dropout;  \\\n",
       "0  AACAACATGCGGGTGATGAG          EEF2                                 19   \n",
       "1  TACAACATGCGGGTGATGAG          EEF2                                 35   \n",
       "2  GACAACATGCGGGTGATGAG          EEF2                                  6   \n",
       "3  CTCAACATGCGGGTGATGAG          EEF2                                 20   \n",
       "4  CCCAACATGCGGGTGATGAG          EEF2                                  6   \n",
       "\n",
       "   A375;CP1559;RDA_275;B;21;Dropout;  A375;CP1520;RDA_085;A;21;Dropout;  \\\n",
       "0                                 15                                  0   \n",
       "1                                 10                                  0   \n",
       "2                                 33                                  0   \n",
       "3                                 35                                  0   \n",
       "4                                 19                                  0   \n",
       "\n",
       "   ;;;;;;  pDNA;CP1559;;;;;  water;;;;;;  \n",
       "0       0                24            0  \n",
       "1       0                69            0  \n",
       "2       0                33            0  \n",
       "3       0                43            0  \n",
       "4       0                49            0  "
      ]
     },
     "execution_count": 22,
     "metadata": {},
     "output_type": "execute_result"
    }
   ],
   "source": [
    "print(ng_reads.shape)\n",
    "ng_reads.head()"
   ]
  },
  {
   "cell_type": "markdown",
   "metadata": {},
   "source": [
    "Merge files on Construct Barcode"
   ]
  },
  {
   "cell_type": "code",
   "execution_count": 23,
   "metadata": {},
   "outputs": [],
   "source": [
    "cp1559_all = pd.merge(spg_reads, ng_reads, on = 'Construct Barcode')"
   ]
  },
  {
   "cell_type": "code",
   "execution_count": 24,
   "metadata": {
    "scrolled": true
   },
   "outputs": [
    {
     "data": {
      "text/html": [
       "<div>\n",
       "<style scoped>\n",
       "    .dataframe tbody tr th:only-of-type {\n",
       "        vertical-align: middle;\n",
       "    }\n",
       "\n",
       "    .dataframe tbody tr th {\n",
       "        vertical-align: top;\n",
       "    }\n",
       "\n",
       "    .dataframe thead th {\n",
       "        text-align: right;\n",
       "    }\n",
       "</style>\n",
       "<table border=\"1\" class=\"dataframe\">\n",
       "  <thead>\n",
       "    <tr style=\"text-align: right;\">\n",
       "      <th></th>\n",
       "      <th>Construct Barcode</th>\n",
       "      <th>Construct IDs_x</th>\n",
       "      <th>A375_RDA449_CP1559;Dropout;RepA;D21</th>\n",
       "      <th>Unnamed: 3</th>\n",
       "      <th>A375_RDA449_CP1559;Dropout;RepB;D21</th>\n",
       "      <th>CP1559_M-AK35_AAFX03_RDA118;pDNA</th>\n",
       "      <th>Construct IDs_y</th>\n",
       "      <th>A375;CP1559;RDA_275;A;21;Dropout;</th>\n",
       "      <th>A375;CP1559;RDA_275;B;21;Dropout;</th>\n",
       "      <th>A375;CP1520;RDA_085;A;21;Dropout;</th>\n",
       "      <th>;;;;;;</th>\n",
       "      <th>pDNA;CP1559;;;;;</th>\n",
       "      <th>water;;;;;;</th>\n",
       "    </tr>\n",
       "  </thead>\n",
       "  <tbody>\n",
       "    <tr>\n",
       "      <th>0</th>\n",
       "      <td>AACAACATGCGGGTGATGAG</td>\n",
       "      <td>EEF2</td>\n",
       "      <td>72</td>\n",
       "      <td>0</td>\n",
       "      <td>166</td>\n",
       "      <td>119</td>\n",
       "      <td>EEF2</td>\n",
       "      <td>19</td>\n",
       "      <td>15</td>\n",
       "      <td>0</td>\n",
       "      <td>0</td>\n",
       "      <td>24</td>\n",
       "      <td>0</td>\n",
       "    </tr>\n",
       "    <tr>\n",
       "      <th>1</th>\n",
       "      <td>TACAACATGCGGGTGATGAG</td>\n",
       "      <td>EEF2</td>\n",
       "      <td>20</td>\n",
       "      <td>1</td>\n",
       "      <td>5</td>\n",
       "      <td>209</td>\n",
       "      <td>EEF2</td>\n",
       "      <td>35</td>\n",
       "      <td>10</td>\n",
       "      <td>0</td>\n",
       "      <td>0</td>\n",
       "      <td>69</td>\n",
       "      <td>0</td>\n",
       "    </tr>\n",
       "    <tr>\n",
       "      <th>2</th>\n",
       "      <td>GACAACATGCGGGTGATGAG</td>\n",
       "      <td>EEF2</td>\n",
       "      <td>14</td>\n",
       "      <td>0</td>\n",
       "      <td>17</td>\n",
       "      <td>70</td>\n",
       "      <td>EEF2</td>\n",
       "      <td>6</td>\n",
       "      <td>33</td>\n",
       "      <td>0</td>\n",
       "      <td>0</td>\n",
       "      <td>33</td>\n",
       "      <td>0</td>\n",
       "    </tr>\n",
       "    <tr>\n",
       "      <th>3</th>\n",
       "      <td>CTCAACATGCGGGTGATGAG</td>\n",
       "      <td>EEF2</td>\n",
       "      <td>33</td>\n",
       "      <td>0</td>\n",
       "      <td>46</td>\n",
       "      <td>184</td>\n",
       "      <td>EEF2</td>\n",
       "      <td>20</td>\n",
       "      <td>35</td>\n",
       "      <td>0</td>\n",
       "      <td>0</td>\n",
       "      <td>43</td>\n",
       "      <td>0</td>\n",
       "    </tr>\n",
       "    <tr>\n",
       "      <th>4</th>\n",
       "      <td>CCCAACATGCGGGTGATGAG</td>\n",
       "      <td>EEF2</td>\n",
       "      <td>34</td>\n",
       "      <td>0</td>\n",
       "      <td>74</td>\n",
       "      <td>193</td>\n",
       "      <td>EEF2</td>\n",
       "      <td>6</td>\n",
       "      <td>19</td>\n",
       "      <td>0</td>\n",
       "      <td>0</td>\n",
       "      <td>49</td>\n",
       "      <td>0</td>\n",
       "    </tr>\n",
       "  </tbody>\n",
       "</table>\n",
       "</div>"
      ],
      "text/plain": [
       "      Construct Barcode Construct IDs_x  A375_RDA449_CP1559;Dropout;RepA;D21  \\\n",
       "0  AACAACATGCGGGTGATGAG            EEF2                                   72   \n",
       "1  TACAACATGCGGGTGATGAG            EEF2                                   20   \n",
       "2  GACAACATGCGGGTGATGAG            EEF2                                   14   \n",
       "3  CTCAACATGCGGGTGATGAG            EEF2                                   33   \n",
       "4  CCCAACATGCGGGTGATGAG            EEF2                                   34   \n",
       "\n",
       "   Unnamed: 3  A375_RDA449_CP1559;Dropout;RepB;D21  \\\n",
       "0           0                                  166   \n",
       "1           1                                    5   \n",
       "2           0                                   17   \n",
       "3           0                                   46   \n",
       "4           0                                   74   \n",
       "\n",
       "   CP1559_M-AK35_AAFX03_RDA118;pDNA Construct IDs_y  \\\n",
       "0                               119            EEF2   \n",
       "1                               209            EEF2   \n",
       "2                                70            EEF2   \n",
       "3                               184            EEF2   \n",
       "4                               193            EEF2   \n",
       "\n",
       "   A375;CP1559;RDA_275;A;21;Dropout;  A375;CP1559;RDA_275;B;21;Dropout;  \\\n",
       "0                                 19                                 15   \n",
       "1                                 35                                 10   \n",
       "2                                  6                                 33   \n",
       "3                                 20                                 35   \n",
       "4                                  6                                 19   \n",
       "\n",
       "   A375;CP1520;RDA_085;A;21;Dropout;  ;;;;;;  pDNA;CP1559;;;;;  water;;;;;;  \n",
       "0                                  0       0                24            0  \n",
       "1                                  0       0                69            0  \n",
       "2                                  0       0                33            0  \n",
       "3                                  0       0                43            0  \n",
       "4                                  0       0                49            0  "
      ]
     },
     "execution_count": 24,
     "metadata": {},
     "output_type": "execute_result"
    }
   ],
   "source": [
    "cp1559_all.head()"
   ]
  },
  {
   "cell_type": "code",
   "execution_count": 27,
   "metadata": {},
   "outputs": [
    {
     "data": {
      "text/plain": [
       "<AxesSubplot:xlabel='CP1559_M-AK35_AAFX03_RDA118;pDNA', ylabel='pDNA;CP1559;;;;;'>"
      ]
     },
     "execution_count": 27,
     "metadata": {},
     "output_type": "execute_result"
    },
    {
     "data": {
      "image/png": "[encoded data removed]",
      "text/plain": [
       "<Figure size 432x288 with 1 Axes>"
      ]
     },
     "metadata": {
      "needs_background": "light"
     },
     "output_type": "display_data"
    }
   ],
   "source": [
    "sns.scatterplot(data=cp1559_all, x='CP1559_M-AK35_AAFX03_RDA118;pDNA',y='pDNA;CP1559;;;;;')"
   ]
  },
  {
   "cell_type": "markdown",
   "metadata": {},
   "source": [
    "Because these enzymes were screened at separate times, pDNA was sequenced twice. pDNA looks well-correlated, so we'll sum the pDNA and use this sum to calculate lognorms at a later step"
   ]
  },
  {
   "cell_type": "code",
   "execution_count": 28,
   "metadata": {},
   "outputs": [],
   "source": [
    "cp1559_all['CP1559_pDNA_summed'] = cp1559_all[['CP1559_M-AK35_AAFX03_RDA118;pDNA', 'pDNA;CP1559;;;;;']].sum(axis=1)"
   ]
  },
  {
   "cell_type": "code",
   "execution_count": 29,
   "metadata": {},
   "outputs": [
    {
     "data": {
      "text/html": [
       "<div>\n",
       "<style scoped>\n",
       "    .dataframe tbody tr th:only-of-type {\n",
       "        vertical-align: middle;\n",
       "    }\n",
       "\n",
       "    .dataframe tbody tr th {\n",
       "        vertical-align: top;\n",
       "    }\n",
       "\n",
       "    .dataframe thead th {\n",
       "        text-align: right;\n",
       "    }\n",
       "</style>\n",
       "<table border=\"1\" class=\"dataframe\">\n",
       "  <thead>\n",
       "    <tr style=\"text-align: right;\">\n",
       "      <th></th>\n",
       "      <th>Construct Barcode</th>\n",
       "      <th>Construct IDs_x</th>\n",
       "      <th>A375_RDA449_CP1559;Dropout;RepA;D21</th>\n",
       "      <th>Unnamed: 3</th>\n",
       "      <th>A375_RDA449_CP1559;Dropout;RepB;D21</th>\n",
       "      <th>CP1559_M-AK35_AAFX03_RDA118;pDNA</th>\n",
       "      <th>Construct IDs_y</th>\n",
       "      <th>A375;CP1559;RDA_275;A;21;Dropout;</th>\n",
       "      <th>A375;CP1559;RDA_275;B;21;Dropout;</th>\n",
       "      <th>A375;CP1520;RDA_085;A;21;Dropout;</th>\n",
       "      <th>;;;;;;</th>\n",
       "      <th>pDNA;CP1559;;;;;</th>\n",
       "      <th>water;;;;;;</th>\n",
       "      <th>CP1559_pDNA_summed</th>\n",
       "    </tr>\n",
       "  </thead>\n",
       "  <tbody>\n",
       "    <tr>\n",
       "      <th>0</th>\n",
       "      <td>AACAACATGCGGGTGATGAG</td>\n",
       "      <td>EEF2</td>\n",
       "      <td>72</td>\n",
       "      <td>0</td>\n",
       "      <td>166</td>\n",
       "      <td>119</td>\n",
       "      <td>EEF2</td>\n",
       "      <td>19</td>\n",
       "      <td>15</td>\n",
       "      <td>0</td>\n",
       "      <td>0</td>\n",
       "      <td>24</td>\n",
       "      <td>0</td>\n",
       "      <td>143</td>\n",
       "    </tr>\n",
       "    <tr>\n",
       "      <th>1</th>\n",
       "      <td>TACAACATGCGGGTGATGAG</td>\n",
       "      <td>EEF2</td>\n",
       "      <td>20</td>\n",
       "      <td>1</td>\n",
       "      <td>5</td>\n",
       "      <td>209</td>\n",
       "      <td>EEF2</td>\n",
       "      <td>35</td>\n",
       "      <td>10</td>\n",
       "      <td>0</td>\n",
       "      <td>0</td>\n",
       "      <td>69</td>\n",
       "      <td>0</td>\n",
       "      <td>278</td>\n",
       "    </tr>\n",
       "    <tr>\n",
       "      <th>2</th>\n",
       "      <td>GACAACATGCGGGTGATGAG</td>\n",
       "      <td>EEF2</td>\n",
       "      <td>14</td>\n",
       "      <td>0</td>\n",
       "      <td>17</td>\n",
       "      <td>70</td>\n",
       "      <td>EEF2</td>\n",
       "      <td>6</td>\n",
       "      <td>33</td>\n",
       "      <td>0</td>\n",
       "      <td>0</td>\n",
       "      <td>33</td>\n",
       "      <td>0</td>\n",
       "      <td>103</td>\n",
       "    </tr>\n",
       "    <tr>\n",
       "      <th>3</th>\n",
       "      <td>CTCAACATGCGGGTGATGAG</td>\n",
       "      <td>EEF2</td>\n",
       "      <td>33</td>\n",
       "      <td>0</td>\n",
       "      <td>46</td>\n",
       "      <td>184</td>\n",
       "      <td>EEF2</td>\n",
       "      <td>20</td>\n",
       "      <td>35</td>\n",
       "      <td>0</td>\n",
       "      <td>0</td>\n",
       "      <td>43</td>\n",
       "      <td>0</td>\n",
       "      <td>227</td>\n",
       "    </tr>\n",
       "    <tr>\n",
       "      <th>4</th>\n",
       "      <td>CCCAACATGCGGGTGATGAG</td>\n",
       "      <td>EEF2</td>\n",
       "      <td>34</td>\n",
       "      <td>0</td>\n",
       "      <td>74</td>\n",
       "      <td>193</td>\n",
       "      <td>EEF2</td>\n",
       "      <td>6</td>\n",
       "      <td>19</td>\n",
       "      <td>0</td>\n",
       "      <td>0</td>\n",
       "      <td>49</td>\n",
       "      <td>0</td>\n",
       "      <td>242</td>\n",
       "    </tr>\n",
       "  </tbody>\n",
       "</table>\n",
       "</div>"
      ],
      "text/plain": [
       "      Construct Barcode Construct IDs_x  A375_RDA449_CP1559;Dropout;RepA;D21  \\\n",
       "0  AACAACATGCGGGTGATGAG            EEF2                                   72   \n",
       "1  TACAACATGCGGGTGATGAG            EEF2                                   20   \n",
       "2  GACAACATGCGGGTGATGAG            EEF2                                   14   \n",
       "3  CTCAACATGCGGGTGATGAG            EEF2                                   33   \n",
       "4  CCCAACATGCGGGTGATGAG            EEF2                                   34   \n",
       "\n",
       "   Unnamed: 3  A375_RDA449_CP1559;Dropout;RepB;D21  \\\n",
       "0           0                                  166   \n",
       "1           1                                    5   \n",
       "2           0                                   17   \n",
       "3           0                                   46   \n",
       "4           0                                   74   \n",
       "\n",
       "   CP1559_M-AK35_AAFX03_RDA118;pDNA Construct IDs_y  \\\n",
       "0                               119            EEF2   \n",
       "1                               209            EEF2   \n",
       "2                                70            EEF2   \n",
       "3                               184            EEF2   \n",
       "4                               193            EEF2   \n",
       "\n",
       "   A375;CP1559;RDA_275;A;21;Dropout;  A375;CP1559;RDA_275;B;21;Dropout;  \\\n",
       "0                                 19                                 15   \n",
       "1                                 35                                 10   \n",
       "2                                  6                                 33   \n",
       "3                                 20                                 35   \n",
       "4                                  6                                 19   \n",
       "\n",
       "   A375;CP1520;RDA_085;A;21;Dropout;  ;;;;;;  pDNA;CP1559;;;;;  water;;;;;;  \\\n",
       "0                                  0       0                24            0   \n",
       "1                                  0       0                69            0   \n",
       "2                                  0       0                33            0   \n",
       "3                                  0       0                43            0   \n",
       "4                                  0       0                49            0   \n",
       "\n",
       "   CP1559_pDNA_summed  \n",
       "0                 143  \n",
       "1                 278  \n",
       "2                 103  \n",
       "3                 227  \n",
       "4                 242  "
      ]
     },
     "execution_count": 29,
     "metadata": {},
     "output_type": "execute_result"
    }
   ],
   "source": [
    "cp1559_all.head()"
   ]
  },
  {
   "cell_type": "markdown",
   "metadata": {},
   "source": [
    "Clean up\n",
    "\n",
    "- Drop unneccesary columns\n",
    "\n",
    "- Change column names"
   ]
  },
  {
   "cell_type": "code",
   "execution_count": 36,
   "metadata": {},
   "outputs": [],
   "source": [
    "cleaned_cp1559 = cp1559_all.drop(columns=['Unnamed: 3', 'Construct IDs_y', ';;;;;;', 'water;;;;;;', 'A375;CP1520;RDA_085;A;21;Dropout;',\n",
    "                                         'CP1559_M-AK35_AAFX03_RDA118;pDNA', 'pDNA;CP1559;;;;;'])"
   ]
  },
  {
   "cell_type": "code",
   "execution_count": 37,
   "metadata": {},
   "outputs": [],
   "source": [
    "cleaned_cp1559 = cleaned_cp1559.rename(columns={'Construct IDs_x' : 'Construct IDs',\n",
    "                                               'A375_RDA449_CP1559;Dropout;RepA;D21': 'A375_CP1559_RDA449_Rep A',\n",
    "                                               'A375_RDA449_CP1559;Dropout;RepB;D21': 'A375_CP1559_RDA449_Rep B',\n",
    "                                               'A375;CP1559;RDA_275;A;21;Dropout;': 'A375_CP1559_RDA275_Rep A',\n",
    "                                               'A375;CP1559;RDA_275;B;21;Dropout;': 'A375_CP1559_RDA275_Rep B'})"
   ]
  },
  {
   "cell_type": "code",
   "execution_count": 38,
   "metadata": {},
   "outputs": [
    {
     "data": {
      "text/html": [
       "<div>\n",
       "<style scoped>\n",
       "    .dataframe tbody tr th:only-of-type {\n",
       "        vertical-align: middle;\n",
       "    }\n",
       "\n",
       "    .dataframe tbody tr th {\n",
       "        vertical-align: top;\n",
       "    }\n",
       "\n",
       "    .dataframe thead th {\n",
       "        text-align: right;\n",
       "    }\n",
       "</style>\n",
       "<table border=\"1\" class=\"dataframe\">\n",
       "  <thead>\n",
       "    <tr style=\"text-align: right;\">\n",
       "      <th></th>\n",
       "      <th>Construct Barcode</th>\n",
       "      <th>Construct IDs</th>\n",
       "      <th>A375_CP1559_RDA449_Rep A</th>\n",
       "      <th>A375_CP1559_RDA449_Rep B</th>\n",
       "      <th>A375_CP1559_RDA275_Rep A</th>\n",
       "      <th>A375_CP1559_RDA275_Rep B</th>\n",
       "      <th>CP1559_pDNA_summed</th>\n",
       "    </tr>\n",
       "  </thead>\n",
       "  <tbody>\n",
       "    <tr>\n",
       "      <th>0</th>\n",
       "      <td>AACAACATGCGGGTGATGAG</td>\n",
       "      <td>EEF2</td>\n",
       "      <td>72</td>\n",
       "      <td>166</td>\n",
       "      <td>19</td>\n",
       "      <td>15</td>\n",
       "      <td>143</td>\n",
       "    </tr>\n",
       "    <tr>\n",
       "      <th>1</th>\n",
       "      <td>TACAACATGCGGGTGATGAG</td>\n",
       "      <td>EEF2</td>\n",
       "      <td>20</td>\n",
       "      <td>5</td>\n",
       "      <td>35</td>\n",
       "      <td>10</td>\n",
       "      <td>278</td>\n",
       "    </tr>\n",
       "    <tr>\n",
       "      <th>2</th>\n",
       "      <td>GACAACATGCGGGTGATGAG</td>\n",
       "      <td>EEF2</td>\n",
       "      <td>14</td>\n",
       "      <td>17</td>\n",
       "      <td>6</td>\n",
       "      <td>33</td>\n",
       "      <td>103</td>\n",
       "    </tr>\n",
       "    <tr>\n",
       "      <th>3</th>\n",
       "      <td>CTCAACATGCGGGTGATGAG</td>\n",
       "      <td>EEF2</td>\n",
       "      <td>33</td>\n",
       "      <td>46</td>\n",
       "      <td>20</td>\n",
       "      <td>35</td>\n",
       "      <td>227</td>\n",
       "    </tr>\n",
       "    <tr>\n",
       "      <th>4</th>\n",
       "      <td>CCCAACATGCGGGTGATGAG</td>\n",
       "      <td>EEF2</td>\n",
       "      <td>34</td>\n",
       "      <td>74</td>\n",
       "      <td>6</td>\n",
       "      <td>19</td>\n",
       "      <td>242</td>\n",
       "    </tr>\n",
       "  </tbody>\n",
       "</table>\n",
       "</div>"
      ],
      "text/plain": [
       "      Construct Barcode Construct IDs  A375_CP1559_RDA449_Rep A  \\\n",
       "0  AACAACATGCGGGTGATGAG          EEF2                        72   \n",
       "1  TACAACATGCGGGTGATGAG          EEF2                        20   \n",
       "2  GACAACATGCGGGTGATGAG          EEF2                        14   \n",
       "3  CTCAACATGCGGGTGATGAG          EEF2                        33   \n",
       "4  CCCAACATGCGGGTGATGAG          EEF2                        34   \n",
       "\n",
       "   A375_CP1559_RDA449_Rep B  A375_CP1559_RDA275_Rep A  \\\n",
       "0                       166                        19   \n",
       "1                         5                        35   \n",
       "2                        17                         6   \n",
       "3                        46                        20   \n",
       "4                        74                         6   \n",
       "\n",
       "   A375_CP1559_RDA275_Rep B  CP1559_pDNA_summed  \n",
       "0                        15                 143  \n",
       "1                        10                 278  \n",
       "2                        33                 103  \n",
       "3                        35                 227  \n",
       "4                        19                 242  "
      ]
     },
     "execution_count": 38,
     "metadata": {},
     "output_type": "execute_result"
    }
   ],
   "source": [
    "cleaned_cp1559.head()"
   ]
  },
  {
   "cell_type": "code",
   "execution_count": 39,
   "metadata": {},
   "outputs": [],
   "source": [
    "cleaned_cp1559.to_csv('../../data_v3/Fig 4_PAM flex off-targets/raw/PAMflex_off-target_CP1559_reads_collated_v1.txt', sep='\\t')"
   ]
  },
  {
   "cell_type": "markdown",
   "metadata": {},
   "source": [
    "Now that we have collated reads for each screen, we can calculate lognorms and log2-fold changes using poola"
   ]
  },
  {
   "cell_type": "markdown",
   "metadata": {},
   "source": [
    "CP1520"
   ]
  },
  {
   "cell_type": "code",
   "execution_count": 42,
   "metadata": {},
   "outputs": [],
   "source": [
    "cp1520_reads = pd.read_table('../../data_v3/Fig 2_HF off-targets/raw/HF_off-target_CP1520_reads_collated_v1.txt')"
   ]
  },
  {
   "cell_type": "code",
   "execution_count": 47,
   "metadata": {},
   "outputs": [
    {
     "data": {
      "text/plain": [
       "Index(['A375_CP1520_RDA085_Rep A', 'A375_CP1520_RDA085_Rep B',\n",
       "       'A375_CP1520_RDA152_Rep A', 'A375_CP1520_RDA152_Rep B',\n",
       "       'A375_CP1520_RDA381_Rep A', 'A375_CP1520_RDA381_Rep B', 'pDNA_CP1520'],\n",
       "      dtype='object')"
      ]
     },
     "execution_count": 47,
     "metadata": {},
     "output_type": "execute_result"
    }
   ],
   "source": [
    "col = cp1520_reads.columns\n",
    "cols = col[2:]\n",
    "cols"
   ]
  },
  {
   "cell_type": "code",
   "execution_count": 52,
   "metadata": {},
   "outputs": [
    {
     "name": "stdout",
     "output_type": "stream",
     "text": [
      "Filtered 494 columns due to low pDNA abundance\n"
     ]
    }
   ],
   "source": [
    "lognorms = pool.lognorm_columns(reads_df=cp1520_reads, columns=cols)\n",
    "filtered_lognorms = pool.filter_pdna(lognorm_df=lognorms, pdna_cols=['pDNA_CP1520'], z_low=-3)\n",
    "print('Filtered ' + str(lognorms.shape[0] - filtered_lognorms.shape[0]) + ' columns due to low pDNA abundance')"
   ]
  },
  {
   "cell_type": "markdown",
   "metadata": {},
   "source": [
    "Save both the lognorm and filtered lognorm file in the \"interim\" folder"
   ]
  },
  {
   "cell_type": "code",
   "execution_count": 53,
   "metadata": {},
   "outputs": [],
   "source": [
    "lognorms.to_csv('../../data_v3/Fig 2_HF off-targets/interim/HF_off-target_CP1520_lognorm_v1.txt', sep ='\\t')"
   ]
  },
  {
   "cell_type": "code",
   "execution_count": 54,
   "metadata": {},
   "outputs": [],
   "source": [
    "filtered_lognorms.to_csv('../../data_v3/Fig 2_HF off-targets/interim/HF_off-target_CP1520_filtered_lognorm_v1.txt', sep ='\\t')"
   ]
  },
  {
   "cell_type": "code",
   "execution_count": 58,
   "metadata": {},
   "outputs": [],
   "source": [
    "lfc_df = pool.calculate_lfcs(lognorm_df=filtered_lognorms, ref_col='pDNA_CP1520', target_cols=(cols[:-1]))\n"
   ]
  },
  {
   "cell_type": "code",
   "execution_count": 59,
   "metadata": {},
   "outputs": [
    {
     "data": {
      "text/html": [
       "<div>\n",
       "<style scoped>\n",
       "    .dataframe tbody tr th:only-of-type {\n",
       "        vertical-align: middle;\n",
       "    }\n",
       "\n",
       "    .dataframe tbody tr th {\n",
       "        vertical-align: top;\n",
       "    }\n",
       "\n",
       "    .dataframe thead th {\n",
       "        text-align: right;\n",
       "    }\n",
       "</style>\n",
       "<table border=\"1\" class=\"dataframe\">\n",
       "  <thead>\n",
       "    <tr style=\"text-align: right;\">\n",
       "      <th></th>\n",
       "      <th>Construct Barcode</th>\n",
       "      <th>Construct IDs</th>\n",
       "      <th>A375_CP1520_RDA085_Rep A</th>\n",
       "      <th>A375_CP1520_RDA085_Rep B</th>\n",
       "      <th>A375_CP1520_RDA152_Rep A</th>\n",
       "      <th>A375_CP1520_RDA152_Rep B</th>\n",
       "      <th>A375_CP1520_RDA381_Rep A</th>\n",
       "      <th>A375_CP1520_RDA381_Rep B</th>\n",
       "    </tr>\n",
       "  </thead>\n",
       "  <tbody>\n",
       "    <tr>\n",
       "      <th>0</th>\n",
       "      <td>AGACCGGAGAATCCGCATCG</td>\n",
       "      <td>CIAO1</td>\n",
       "      <td>-3.631751</td>\n",
       "      <td>-3.126289</td>\n",
       "      <td>-3.452064</td>\n",
       "      <td>-2.837448</td>\n",
       "      <td>-2.314554</td>\n",
       "      <td>-2.274860</td>\n",
       "    </tr>\n",
       "    <tr>\n",
       "      <th>1</th>\n",
       "      <td>TGACCGGAGAATCCGCATCG</td>\n",
       "      <td>CIAO1</td>\n",
       "      <td>-2.356161</td>\n",
       "      <td>-3.555084</td>\n",
       "      <td>-3.875818</td>\n",
       "      <td>-4.012416</td>\n",
       "      <td>-2.494642</td>\n",
       "      <td>-3.341603</td>\n",
       "    </tr>\n",
       "    <tr>\n",
       "      <th>2</th>\n",
       "      <td>GGACCGGAGAATCCGCATCG</td>\n",
       "      <td>CIAO1</td>\n",
       "      <td>-4.127430</td>\n",
       "      <td>-3.660531</td>\n",
       "      <td>-3.674343</td>\n",
       "      <td>-3.153324</td>\n",
       "      <td>-3.846161</td>\n",
       "      <td>-2.698239</td>\n",
       "    </tr>\n",
       "    <tr>\n",
       "      <th>3</th>\n",
       "      <td>CAACCGGAGAATCCGCATCG</td>\n",
       "      <td>CIAO1</td>\n",
       "      <td>-3.720605</td>\n",
       "      <td>-3.326865</td>\n",
       "      <td>-3.965740</td>\n",
       "      <td>-3.020625</td>\n",
       "      <td>-3.170036</td>\n",
       "      <td>-4.065199</td>\n",
       "    </tr>\n",
       "    <tr>\n",
       "      <th>4</th>\n",
       "      <td>CTACCGGAGAATCCGCATCG</td>\n",
       "      <td>CIAO1</td>\n",
       "      <td>-3.830729</td>\n",
       "      <td>-3.124115</td>\n",
       "      <td>-3.406966</td>\n",
       "      <td>-3.745652</td>\n",
       "      <td>-3.769657</td>\n",
       "      <td>-2.944939</td>\n",
       "    </tr>\n",
       "  </tbody>\n",
       "</table>\n",
       "</div>"
      ],
      "text/plain": [
       "      Construct Barcode Construct IDs  A375_CP1520_RDA085_Rep A  \\\n",
       "0  AGACCGGAGAATCCGCATCG         CIAO1                 -3.631751   \n",
       "1  TGACCGGAGAATCCGCATCG         CIAO1                 -2.356161   \n",
       "2  GGACCGGAGAATCCGCATCG         CIAO1                 -4.127430   \n",
       "3  CAACCGGAGAATCCGCATCG         CIAO1                 -3.720605   \n",
       "4  CTACCGGAGAATCCGCATCG         CIAO1                 -3.830729   \n",
       "\n",
       "   A375_CP1520_RDA085_Rep B  A375_CP1520_RDA152_Rep A  \\\n",
       "0                 -3.126289                 -3.452064   \n",
       "1                 -3.555084                 -3.875818   \n",
       "2                 -3.660531                 -3.674343   \n",
       "3                 -3.326865                 -3.965740   \n",
       "4                 -3.124115                 -3.406966   \n",
       "\n",
       "   A375_CP1520_RDA152_Rep B  A375_CP1520_RDA381_Rep A  \\\n",
       "0                 -2.837448                 -2.314554   \n",
       "1                 -4.012416                 -2.494642   \n",
       "2                 -3.153324                 -3.846161   \n",
       "3                 -3.020625                 -3.170036   \n",
       "4                 -3.745652                 -3.769657   \n",
       "\n",
       "   A375_CP1520_RDA381_Rep B  \n",
       "0                 -2.274860  \n",
       "1                 -3.341603  \n",
       "2                 -2.698239  \n",
       "3                 -4.065199  \n",
       "4                 -2.944939  "
      ]
     },
     "execution_count": 59,
     "metadata": {},
     "output_type": "execute_result"
    }
   ],
   "source": [
    "lfc_df.head()"
   ]
  },
  {
   "cell_type": "code",
   "execution_count": 60,
   "metadata": {},
   "outputs": [],
   "source": [
    "lfc_df.to_csv('../../data_v3/Fig 2_HF off-targets/processed/HF_off-target_CP1520_lfc_v1.txt', sep ='\\t')"
   ]
  },
  {
   "cell_type": "code",
   "execution_count": 63,
   "metadata": {},
   "outputs": [
    {
     "name": "stdout",
     "output_type": "stream",
     "text": [
      "(0.9323294567868058, 0.0)\n",
      "(0.9074829992410197, 0.0)\n",
      "(0.9010293179458297, 0.0)\n"
     ]
    }
   ],
   "source": [
    "print(pearsonr(lfc_df['A375_CP1520_RDA085_Rep A'], lfc_df['A375_CP1520_RDA085_Rep B']))\n",
    "\n",
    "print(pearsonr(lfc_df['A375_CP1520_RDA152_Rep A'], lfc_df['A375_CP1520_RDA152_Rep B']))\n",
    "\n",
    "print(pearsonr(lfc_df['A375_CP1520_RDA381_Rep A'], lfc_df['A375_CP1520_RDA381_Rep B']))"
   ]
  },
  {
   "cell_type": "markdown",
   "metadata": {},
   "source": [
    "Calculate average LFCs across replicates"
   ]
  },
  {
   "cell_type": "code",
   "execution_count": 64,
   "metadata": {},
   "outputs": [],
   "source": [
    "lfc_df['A375_CP1520_RDA085_AVGLFC_frompDNA'] = lfc_df[['A375_CP1520_RDA085_Rep A', 'A375_CP1520_RDA085_Rep B']].mean(axis =1)\n",
    "lfc_df['A375_CP1520_RDA152_AVGLFC_frompDNA'] = lfc_df[['A375_CP1520_RDA152_Rep A', 'A375_CP1520_RDA152_Rep B']].mean(axis =1)\n",
    "lfc_df['A375_CP1520_RDA381_AVGLFC_frompDNA'] = lfc_df[['A375_CP1520_RDA381_Rep A', 'A375_CP1520_RDA381_Rep B']].mean(axis =1)\n"
   ]
  },
  {
   "cell_type": "markdown",
   "metadata": {},
   "source": [
    "Save this file (which includes single rep, and avg lfc) for each cell line screened. This will be the input for the rest of our downstream analyses"
   ]
  },
  {
   "cell_type": "code",
   "execution_count": 65,
   "metadata": {},
   "outputs": [],
   "source": [
    "lfc_df.to_csv('../../data_v3/Fig 2_HF off-targets/processed/HF_off-target_CP1520_avglfc_v1.txt', sep ='\\t')"
   ]
  },
  {
   "cell_type": "markdown",
   "metadata": {},
   "source": [
    "CP1559"
   ]
  },
  {
   "cell_type": "code",
   "execution_count": 66,
   "metadata": {},
   "outputs": [],
   "source": [
    "cp1559_reads = pd.read_table('../../data_v3/Fig 4_PAM flex off-targets/raw/PAMflex_off-target_CP1559_reads_collated_v1.txt')"
   ]
  },
  {
   "cell_type": "code",
   "execution_count": 68,
   "metadata": {},
   "outputs": [
    {
     "data": {
      "text/plain": [
       "Index(['A375_CP1559_RDA449_Rep A', 'A375_CP1559_RDA449_Rep B',\n",
       "       'A375_CP1559_RDA275_Rep A', 'A375_CP1559_RDA275_Rep B',\n",
       "       'CP1559_pDNA_summed'],\n",
       "      dtype='object')"
      ]
     },
     "execution_count": 68,
     "metadata": {},
     "output_type": "execute_result"
    }
   ],
   "source": [
    "col = cp1559_reads.columns\n",
    "cols = col[2:]\n",
    "cols"
   ]
  },
  {
   "cell_type": "code",
   "execution_count": 69,
   "metadata": {},
   "outputs": [
    {
     "name": "stdout",
     "output_type": "stream",
     "text": [
      "Filtered 1017 columns due to low pDNA abundance\n"
     ]
    }
   ],
   "source": [
    "lognorms = pool.lognorm_columns(reads_df=cp1559_reads, columns=cols)\n",
    "filtered_lognorms = pool.filter_pdna(lognorm_df=lognorms, pdna_cols=['CP1559_pDNA_summed'], z_low=-3)\n",
    "print('Filtered ' + str(lognorms.shape[0] - filtered_lognorms.shape[0]) + ' columns due to low pDNA abundance')"
   ]
  },
  {
   "cell_type": "markdown",
   "metadata": {},
   "source": [
    "Save both the lognorm and filtered lognorm file in the \"interim\" folder"
   ]
  },
  {
   "cell_type": "code",
   "execution_count": 71,
   "metadata": {},
   "outputs": [],
   "source": [
    "lognorms.to_csv('../../data_v3/Fig 4_PAM flex off-targets/interim/PAMflex_off-target_CP1559_lognorm_v1.txt', sep ='\\t')"
   ]
  },
  {
   "cell_type": "code",
   "execution_count": 73,
   "metadata": {},
   "outputs": [],
   "source": [
    "filtered_lognorms.to_csv('../../data_v3/Fig 4_PAM flex off-targets/interim/PAMflex_off-target_CP1559_filtered_lognorm_v1.txt', sep ='\\t')"
   ]
  },
  {
   "cell_type": "code",
   "execution_count": 74,
   "metadata": {},
   "outputs": [],
   "source": [
    "lfc_df = pool.calculate_lfcs(lognorm_df=filtered_lognorms, ref_col='CP1559_pDNA_summed', target_cols=(cols[:-1]))\n"
   ]
  },
  {
   "cell_type": "code",
   "execution_count": 75,
   "metadata": {},
   "outputs": [
    {
     "data": {
      "text/html": [
       "<div>\n",
       "<style scoped>\n",
       "    .dataframe tbody tr th:only-of-type {\n",
       "        vertical-align: middle;\n",
       "    }\n",
       "\n",
       "    .dataframe tbody tr th {\n",
       "        vertical-align: top;\n",
       "    }\n",
       "\n",
       "    .dataframe thead th {\n",
       "        text-align: right;\n",
       "    }\n",
       "</style>\n",
       "<table border=\"1\" class=\"dataframe\">\n",
       "  <thead>\n",
       "    <tr style=\"text-align: right;\">\n",
       "      <th></th>\n",
       "      <th>Construct Barcode</th>\n",
       "      <th>Construct IDs</th>\n",
       "      <th>A375_CP1559_RDA449_Rep A</th>\n",
       "      <th>A375_CP1559_RDA449_Rep B</th>\n",
       "      <th>A375_CP1559_RDA275_Rep A</th>\n",
       "      <th>A375_CP1559_RDA275_Rep B</th>\n",
       "    </tr>\n",
       "  </thead>\n",
       "  <tbody>\n",
       "    <tr>\n",
       "      <th>0</th>\n",
       "      <td>AACAACATGCGGGTGATGAG</td>\n",
       "      <td>EEF2</td>\n",
       "      <td>-2.156974</td>\n",
       "      <td>-1.291767</td>\n",
       "      <td>-2.417786</td>\n",
       "      <td>-2.561979</td>\n",
       "    </tr>\n",
       "    <tr>\n",
       "      <th>1</th>\n",
       "      <td>TACAACATGCGGGTGATGAG</td>\n",
       "      <td>EEF2</td>\n",
       "      <td>-3.778811</td>\n",
       "      <td>-4.076727</td>\n",
       "      <td>-2.828993</td>\n",
       "      <td>-3.659679</td>\n",
       "    </tr>\n",
       "    <tr>\n",
       "      <th>2</th>\n",
       "      <td>GACAACATGCGGGTGATGAG</td>\n",
       "      <td>EEF2</td>\n",
       "      <td>-2.588589</td>\n",
       "      <td>-2.504549</td>\n",
       "      <td>-2.550533</td>\n",
       "      <td>-1.569272</td>\n",
       "    </tr>\n",
       "    <tr>\n",
       "      <th>3</th>\n",
       "      <td>CTCAACATGCGGGTGATGAG</td>\n",
       "      <td>EEF2</td>\n",
       "      <td>-3.282269</td>\n",
       "      <td>-3.041032</td>\n",
       "      <td>-2.995083</td>\n",
       "      <td>-2.547892</td>\n",
       "    </tr>\n",
       "    <tr>\n",
       "      <th>4</th>\n",
       "      <td>CCCAACATGCGGGTGATGAG</td>\n",
       "      <td>EEF2</td>\n",
       "      <td>-3.352985</td>\n",
       "      <td>-2.771459</td>\n",
       "      <td>-3.667303</td>\n",
       "      <td>-3.111651</td>\n",
       "    </tr>\n",
       "  </tbody>\n",
       "</table>\n",
       "</div>"
      ],
      "text/plain": [
       "      Construct Barcode Construct IDs  A375_CP1559_RDA449_Rep A  \\\n",
       "0  AACAACATGCGGGTGATGAG          EEF2                 -2.156974   \n",
       "1  TACAACATGCGGGTGATGAG          EEF2                 -3.778811   \n",
       "2  GACAACATGCGGGTGATGAG          EEF2                 -2.588589   \n",
       "3  CTCAACATGCGGGTGATGAG          EEF2                 -3.282269   \n",
       "4  CCCAACATGCGGGTGATGAG          EEF2                 -3.352985   \n",
       "\n",
       "   A375_CP1559_RDA449_Rep B  A375_CP1559_RDA275_Rep A  \\\n",
       "0                 -1.291767                 -2.417786   \n",
       "1                 -4.076727                 -2.828993   \n",
       "2                 -2.504549                 -2.550533   \n",
       "3                 -3.041032                 -2.995083   \n",
       "4                 -2.771459                 -3.667303   \n",
       "\n",
       "   A375_CP1559_RDA275_Rep B  \n",
       "0                 -2.561979  \n",
       "1                 -3.659679  \n",
       "2                 -1.569272  \n",
       "3                 -2.547892  \n",
       "4                 -3.111651  "
      ]
     },
     "execution_count": 75,
     "metadata": {},
     "output_type": "execute_result"
    }
   ],
   "source": [
    "lfc_df.head()"
   ]
  },
  {
   "cell_type": "code",
   "execution_count": 76,
   "metadata": {},
   "outputs": [],
   "source": [
    "lfc_df.to_csv('../../data_v3/Fig 4_PAM flex off-targets/processed/PAMflex_off-target_CP1559_lfc_v1.txt', sep ='\\t')"
   ]
  },
  {
   "cell_type": "code",
   "execution_count": 77,
   "metadata": {},
   "outputs": [
    {
     "name": "stdout",
     "output_type": "stream",
     "text": [
      "(0.7564691257744112, 0.0)\n",
      "(0.8125195671984426, 0.0)\n"
     ]
    }
   ],
   "source": [
    "print(pearsonr(lfc_df['A375_CP1559_RDA449_Rep A'], lfc_df['A375_CP1559_RDA449_Rep B']))\n",
    "\n",
    "print(pearsonr(lfc_df['A375_CP1559_RDA275_Rep A'], lfc_df['A375_CP1559_RDA275_Rep B']))\n"
   ]
  },
  {
   "cell_type": "markdown",
   "metadata": {},
   "source": [
    "Calculate average LFCs across replicates"
   ]
  },
  {
   "cell_type": "code",
   "execution_count": 78,
   "metadata": {},
   "outputs": [],
   "source": [
    "lfc_df['A375_CP1559_RDA449_AVGLFC_frompDNA'] = lfc_df[['A375_CP1559_RDA449_Rep A', 'A375_CP1559_RDA449_Rep B']].mean(axis =1)\n",
    "lfc_df['A375_CP1559_RDA275_AVGLFC_frompDNA'] = lfc_df[['A375_CP1559_RDA275_Rep A', 'A375_CP1559_RDA275_Rep B']].mean(axis =1)\n"
   ]
  },
  {
   "cell_type": "code",
   "execution_count": 79,
   "metadata": {},
   "outputs": [],
   "source": [
    "lfc_df.to_csv('../../data_v3/Fig 4_PAM flex off-targets/processed/PAMflex_off-target_CP1559_avglfc_v1.txt', sep ='\\t')"
   ]
  },
  {
   "cell_type": "code",
   "execution_count": null,
   "metadata": {},
   "outputs": [],
   "source": []
  }
 ],
 "metadata": {
  "hide_input": false,
  "kernelspec": {
   "display_name": "Python 3",
   "language": "python",
   "name": "python3"
  },
  "language_info": {
   "codemirror_mode": {
    "name": "ipython",
    "version": 3
   },
   "file_extension": ".py",
   "mimetype": "text/x-python",
   "name": "python",
   "nbconvert_exporter": "python",
   "pygments_lexer": "ipython3",
   "version": "3.7.3"
  },
  "toc": {
   "base_numbering": 1,
   "nav_menu": {},
   "number_sections": true,
   "sideBar": true,
   "skip_h1_title": false,
   "title_cell": "Table of Contents",
   "title_sidebar": "Contents",
   "toc_cell": false,
   "toc_position": {},
   "toc_section_display": true,
   "toc_window_display": false
  },
  "varInspector": {
   "cols": {
    "lenName": 16,
    "lenType": 16,
    "lenVar": 40
   },
   "kernels_config": {
    "python": {
     "delete_cmd_postfix": "",
     "delete_cmd_prefix": "del ",
     "library": "var_list.py",
     "varRefreshCmd": "print(var_dic_list())"
    },
    "r": {
     "delete_cmd_postfix": ") ",
     "delete_cmd_prefix": "rm(",
     "library": "var_list.r",
     "varRefreshCmd": "cat(var_dic_list()) "
    }
   },
   "types_to_exclude": [
    "module",
    "function",
    "builtin_function_or_method",
    "instance",
    "_Feature"
   ],
   "window_display": false
  }
 },
 "nbformat": 4,
 "nbformat_minor": 2
}
