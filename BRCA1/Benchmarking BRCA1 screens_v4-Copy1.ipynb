{
 "cells": [
  {
   "cell_type": "markdown",
   "metadata": {},
   "source": [
    "The purpose of this notebook is to benchmark how well we are able to assay BRCA1. \n",
    "\n",
    "2021-06-28. AKS\n",
    "\n"
   ]
  },
  {
   "cell_type": "code",
   "execution_count": 3,
   "metadata": {},
   "outputs": [],
   "source": [
    "import pandas as pd\n",
    "import seaborn as sns\n",
    "import matplotlib.pyplot as plt\n",
    "import matplotlib as mpl\n",
    "import gpplot as gpp\n",
    "from statsmodels.distributions.empirical_distribution import ECDF\n",
    "from sklearn.metrics import auc, roc_curve, roc_auc_score\n",
    "from scipy import arange\n",
    "import warnings\n",
    "import numpy as np\n",
    "warnings.filterwarnings(\"ignore\")\n",
    "\n",
    "# Set default settings for plotting\n",
    "sns.set_style('ticks')\n",
    "sns.set_context('talk')\n",
    "mpl.rc('pdf', fonttype=42)\n",
    "mpl.rcParams['font.sans-serif'] = \"Arial\"\n",
    "mpl.rcParams['font.family'] = \"sans-serif\""
   ]
  },
  {
   "cell_type": "code",
   "execution_count": 4,
   "metadata": {},
   "outputs": [],
   "source": [
    "def get_roc_auc(df, col):\n",
    "    df = df.sort_values(by=col)\n",
    "    df['tp_cumsum'] = np.cumsum(df['tp'])\n",
    "    df['fp_cumsum'] = np.cumsum(df['fp'])\n",
    "    df['fpr'] = df['fp_cumsum']/(df['fp_cumsum'].iloc[-1])\n",
    "    df['tpr'] = df['tp_cumsum']/(df['tp_cumsum'].iloc[-1])\n",
    "    df.head()\n",
    "    roc_auc = auc(df['fpr'],df['tpr'])\n",
    "    roc_df = pd.DataFrame({'False_Positive_Rate':list(df.fpr), 'True_Positive_Rate':list(df.tpr)})\n",
    "    return roc_auc, roc_df"
   ]
  },
  {
   "cell_type": "code",
   "execution_count": 5,
   "metadata": {},
   "outputs": [],
   "source": [
    "#read in files with LFCS from all screens\n",
    "\n",
    "wt_abe = pd.read_csv('../../../data_v3/Fig 5_6_BRCA1/processed/BRCA1-WT-ABE8e_LFC.csv')\n",
    "wt_cbe = pd.read_csv('../../../data_v3/Fig 5_6_BRCA1/processed/BRCA1-WT-CBE_LFC.csv')\n",
    "ng_abe = pd.read_csv('../../../data_v3/Fig 5_6_BRCA1/processed/BRCA1-NG-ABE8e_LFC.csv')\n",
    "ng_cbe = pd.read_csv('../../../data_v3/Fig 5_6_BRCA1/processed/BRCA1-NG-CBE_LFC.csv')\n",
    "spg_abe = pd.read_csv('../../../data_v3/Fig 5_6_BRCA1/processed/BRCA1-SpG-ABE8e_LFC_v2.csv')\n",
    "spg_cbe = pd.read_csv('../../../data_v3/Fig 5_6_BRCA1/processed/BRCA1-SpG-CBE_LFC_v2.csv')"
   ]
  },
  {
   "cell_type": "markdown",
   "metadata": {},
   "source": [
    "Ability to assay BRCA1 itself"
   ]
  },
  {
   "cell_type": "code",
   "execution_count": 6,
   "metadata": {},
   "outputs": [],
   "source": [
    "#function that designates true postives/false positives based on brca1 data\n",
    "def get_tpr_fpr(input_data):\n",
    "    df = input_data.copy()\n",
    "\n",
    "    # Define true positives and true negatives\n",
    "    df[str('tp')] = np.nan\n",
    "    df[str('fp')] = np.nan\n",
    "    df.loc[df['Mutation bin'].isin(['Nonsense','Splice site']),str('tp')]= 1\n",
    "    df.loc[df['Mutation bin'].isin(['Nonsense','Splice site' ]),str('fp')]= 0\n",
    "    df.loc[df['Mutation bin'].isin(['No edits', 'Silent']),str('tp')] = 0\n",
    "    df.loc[df['Mutation bin'].isin(['No edits', 'Silent']),str('fp')] = 1\n",
    "    data = df[df[str('tp')].isin([0,1])]\n",
    "    return data"
   ]
  },
  {
   "cell_type": "code",
   "execution_count": 7,
   "metadata": {},
   "outputs": [],
   "source": [
    "# apply this function to each data set\n",
    "wtabe_plot = get_tpr_fpr(wt_abe)\n",
    "wtcbe_plot = get_tpr_fpr(wt_cbe)\n",
    "ngabe_plot = get_tpr_fpr(ng_abe)\n",
    "ngcbe_plot = get_tpr_fpr(ng_cbe)\n",
    "spgabe_plot = get_tpr_fpr(spg_abe)\n",
    "spgcbe_plot = get_tpr_fpr(spg_cbe)"
   ]
  },
  {
   "cell_type": "code",
   "execution_count": 8,
   "metadata": {},
   "outputs": [],
   "source": [
    "#filter brca targeting guides for intermediate/active pams\n",
    "pamlist4 = pd.read_csv('../../../data_v3/pam_lists/2021-05-11_PAM list 4_v2.csv')\n",
    "pamlist5 = pd.read_csv('../../../data_v3/pam_lists/2021-05-11_PAM list 5_v2.csv')"
   ]
  },
  {
   "cell_type": "code",
   "execution_count": 9,
   "metadata": {},
   "outputs": [],
   "source": [
    "#filter NG\n",
    "ngabe_plot = pd.merge(ngabe_plot, pamlist4, on = 'PAM', how = 'inner')\n",
    "ngcbe_plot = pd.merge(ngcbe_plot, pamlist4, on = 'PAM', how = 'inner')"
   ]
  },
  {
   "cell_type": "code",
   "execution_count": 10,
   "metadata": {},
   "outputs": [],
   "source": [
    "#filter SpG\n",
    "spgabe_plot = pd.merge(spgabe_plot, pamlist5, on = 'PAM', how = 'inner')\n",
    "spgcbe_plot = pd.merge(spgcbe_plot, pamlist5, on = 'PAM', how = 'inner')"
   ]
  },
  {
   "cell_type": "markdown",
   "metadata": {},
   "source": [
    "#### WT ABE"
   ]
  },
  {
   "cell_type": "code",
   "execution_count": 46,
   "metadata": {},
   "outputs": [
    {
     "name": "stdout",
     "output_type": "stream",
     "text": [
      "WT-ABE Avgerage HAP1 + MELJUSO\n"
     ]
    },
    {
     "data": {
      "text/plain": [
       "0.8147420147420148"
      ]
     },
     "execution_count": 46,
     "metadata": {},
     "output_type": "execute_result"
    }
   ],
   "source": [
    "print('WT-ABE Avgerage HAP1 + MELJUSO')\n",
    "a,b = get_roc_auc(wtabe_plot, 'AvgHAP1_Meljuso')\n",
    "a"
   ]
  },
  {
   "cell_type": "code",
   "execution_count": 47,
   "metadata": {},
   "outputs": [
    {
     "name": "stdout",
     "output_type": "stream",
     "text": [
      "WT-ABE Avgerage HAP1\n"
     ]
    },
    {
     "data": {
      "text/plain": [
       "0.8083538083538083"
      ]
     },
     "execution_count": 47,
     "metadata": {},
     "output_type": "execute_result"
    }
   ],
   "source": [
    "print('WT-ABE Avgerage HAP1')\n",
    "c,d = get_roc_auc(wtabe_plot, 'HAP1_Dropout_RepABC')\n",
    "c"
   ]
  },
  {
   "cell_type": "code",
   "execution_count": 48,
   "metadata": {
    "scrolled": true
   },
   "outputs": [
    {
     "name": "stdout",
     "output_type": "stream",
     "text": [
      "WT-ABE Avgerage Meljuso\n"
     ]
    },
    {
     "data": {
      "text/plain": [
       "0.8024570024570025"
      ]
     },
     "execution_count": 48,
     "metadata": {},
     "output_type": "execute_result"
    }
   ],
   "source": [
    "print('WT-ABE Avgerage Meljuso')\n",
    "e,f = get_roc_auc(wtabe_plot, 'Meljuso_Cisplatin_RepABC')\n",
    "e"
   ]
  },
  {
   "cell_type": "markdown",
   "metadata": {},
   "source": [
    "####  NG-ABE"
   ]
  },
  {
   "cell_type": "code",
   "execution_count": 49,
   "metadata": {},
   "outputs": [
    {
     "name": "stdout",
     "output_type": "stream",
     "text": [
      "NG-ABE Avgerage HAP1 + MELJUSO\n"
     ]
    },
    {
     "data": {
      "text/plain": [
       "0.7409404120104253"
      ]
     },
     "execution_count": 49,
     "metadata": {},
     "output_type": "execute_result"
    }
   ],
   "source": [
    "print('NG-ABE Avgerage HAP1 + MELJUSO')\n",
    "g,h = get_roc_auc(ngabe_plot, 'AvgHAP1_Meljuso')\n",
    "g"
   ]
  },
  {
   "cell_type": "code",
   "execution_count": 50,
   "metadata": {},
   "outputs": [
    {
     "name": "stdout",
     "output_type": "stream",
     "text": [
      "NG-ABE Average Meljuso\n"
     ]
    },
    {
     "data": {
      "text/plain": [
       "0.7417615766360813"
      ]
     },
     "execution_count": 50,
     "metadata": {},
     "output_type": "execute_result"
    }
   ],
   "source": [
    "print('NG-ABE Average Meljuso')\n",
    "i,j = get_roc_auc(ngabe_plot, 'Meljuso_Cisplatin_RepAB')\n",
    "i"
   ]
  },
  {
   "cell_type": "code",
   "execution_count": 51,
   "metadata": {},
   "outputs": [
    {
     "name": "stdout",
     "output_type": "stream",
     "text": [
      "NG-ABE Avgerage HAP1\n"
     ]
    },
    {
     "data": {
      "text/plain": [
       "0.7179835053018673"
      ]
     },
     "execution_count": 51,
     "metadata": {},
     "output_type": "execute_result"
    }
   ],
   "source": [
    "print('NG-ABE Avgerage HAP1')\n",
    "k,l = get_roc_auc(ngabe_plot, 'HAP1_Dropout_RepAB')\n",
    "k"
   ]
  },
  {
   "cell_type": "markdown",
   "metadata": {},
   "source": [
    "#### SpG-ABE "
   ]
  },
  {
   "cell_type": "code",
   "execution_count": 52,
   "metadata": {},
   "outputs": [
    {
     "name": "stdout",
     "output_type": "stream",
     "text": [
      "SpG-ABE Avgerage HAP1 + MELJUSO\n"
     ]
    },
    {
     "data": {
      "text/plain": [
       "0.7387778450770577"
      ]
     },
     "execution_count": 52,
     "metadata": {},
     "output_type": "execute_result"
    }
   ],
   "source": [
    "print('SpG-ABE Avgerage HAP1 + MELJUSO')\n",
    "m,n = get_roc_auc(spgabe_plot, 'AvgHAP1_Meljuso')\n",
    "m"
   ]
  },
  {
   "cell_type": "code",
   "execution_count": 53,
   "metadata": {},
   "outputs": [
    {
     "name": "stdout",
     "output_type": "stream",
     "text": [
      "SpG-ABE Average Meljuso\n"
     ]
    },
    {
     "data": {
      "text/plain": [
       "0.7321825156470827"
      ]
     },
     "execution_count": 53,
     "metadata": {},
     "output_type": "execute_result"
    }
   ],
   "source": [
    "print('SpG-ABE Average Meljuso')\n",
    "o,p = get_roc_auc(spgabe_plot, 'Meljuso_Cisplatin_RepAB')\n",
    "o"
   ]
  },
  {
   "cell_type": "code",
   "execution_count": 54,
   "metadata": {},
   "outputs": [
    {
     "name": "stdout",
     "output_type": "stream",
     "text": [
      "SpG-ABE Avgerage HAP1\n"
     ]
    },
    {
     "data": {
      "text/plain": [
       "0.7342687933239114"
      ]
     },
     "execution_count": 54,
     "metadata": {},
     "output_type": "execute_result"
    }
   ],
   "source": [
    "print('SpG-ABE Avgerage HAP1')\n",
    "q,r = get_roc_auc(spgabe_plot, 'HAP1_Dropout_RepAB')\n",
    "q"
   ]
  },
  {
   "cell_type": "code",
   "execution_count": 55,
   "metadata": {},
   "outputs": [
    {
     "data": {
      "image/png": "[encoded data removed]",
      "text/plain": [
       "<Figure size 122.4x122.4 with 1 Axes>"
      ]
     },
     "metadata": {},
     "output_type": "display_data"
    }
   ],
   "source": [
    "#ABE plot\n",
    "\n",
    "gpp.set_aesthetics(context='paper', palette='Set2')\n",
    "\n",
    "fig, ax = plt.subplots(figsize=(1.7, 1.7))\n",
    "\n",
    "\n",
    "\n",
    "ax.plot(d.False_Positive_Rate, d.True_Positive_Rate, label='WT-ABE HAP1 \\n AUC:' + str(np.round(c,2)))\n",
    "ax.plot(f.False_Positive_Rate, f.True_Positive_Rate, label='WT-ABE Meljuso \\n AUC:' + str(np.round(e,2)))\n",
    "\n",
    "ax.plot(l.False_Positive_Rate, l.True_Positive_Rate, label='NG-ABE HAP1 \\n AUC:' + str(np.round(k,2)))\n",
    "ax.plot(j.False_Positive_Rate, j.True_Positive_Rate, label='NG-ABE Meljuso \\n AUC:' + str(np.round(i,2)))\n",
    "\n",
    "ax.plot(r.False_Positive_Rate, r.True_Positive_Rate, label='SpG-ABE HAP1 \\n AUC:' + str(np.round(q,2)))\n",
    "ax.plot(p.False_Positive_Rate, p.True_Positive_Rate, label='SpG-ABE Meljuso \\n AUC:' + str(np.round(o,2)))\n",
    "\n",
    "ax.legend(facecolor='white', bbox_to_anchor=(1.05, 1), loc=2, borderaxespad=0.)\n",
    "\n",
    "#ax.legend(facecolor='white', loc='upper right')\n",
    "#ax.set_aspect('equal')\n",
    "plt.xlabel('False Positive Rate \\n Silent + No edits')\n",
    "plt.ylabel('True Positive Rate \\n Splice sites')\n",
    "plt.xlim(0.0,1.0)\n",
    "plt.ylim(0.0, 1.0)\n",
    "sns.despine()\n",
    "plt.xlim(0.0,1.0)\n",
    "plt.title ('BRCA1 ABE')\n",
    "plt.savefig('../../../Figures/panels/Fig 5/ABE_ROCAUC.pdf', dpi=1000, bbox_inches = 'tight', transparent = True)\n",
    "\n"
   ]
  },
  {
   "cell_type": "markdown",
   "metadata": {},
   "source": [
    "#### WT CBE "
   ]
  },
  {
   "cell_type": "code",
   "execution_count": 36,
   "metadata": {},
   "outputs": [
    {
     "name": "stdout",
     "output_type": "stream",
     "text": [
      "WT-CBE Avgerage HAP1 + MELJUSO\n"
     ]
    },
    {
     "data": {
      "text/plain": [
       "0.8740362201900663"
      ]
     },
     "execution_count": 36,
     "metadata": {},
     "output_type": "execute_result"
    }
   ],
   "source": [
    "print('WT-CBE Avgerage HAP1 + MELJUSO')\n",
    "a,b = get_roc_auc(wtcbe_plot, 'AvgHAP1_Meljuso')\n",
    "a"
   ]
  },
  {
   "cell_type": "code",
   "execution_count": 37,
   "metadata": {},
   "outputs": [
    {
     "name": "stdout",
     "output_type": "stream",
     "text": [
      "WT-CBE Avgerage HAP1\n"
     ]
    },
    {
     "data": {
      "text/plain": [
       "0.9009324009324009"
      ]
     },
     "execution_count": 37,
     "metadata": {},
     "output_type": "execute_result"
    }
   ],
   "source": [
    "print('WT-CBE Avgerage HAP1')\n",
    "c,d = get_roc_auc(wtcbe_plot, 'HAP1_Dropout_RepABC')\n",
    "c"
   ]
  },
  {
   "cell_type": "code",
   "execution_count": 38,
   "metadata": {},
   "outputs": [
    {
     "name": "stdout",
     "output_type": "stream",
     "text": [
      "WT-CBE Avgerage Meljuso\n"
     ]
    },
    {
     "data": {
      "text/plain": [
       "0.8275058275058275"
      ]
     },
     "execution_count": 38,
     "metadata": {},
     "output_type": "execute_result"
    }
   ],
   "source": [
    "print('WT-CBE Avgerage Meljuso')\n",
    "e,f = get_roc_auc(wtcbe_plot, 'Meljuso_Cisplatin_RepABC')\n",
    "e"
   ]
  },
  {
   "cell_type": "markdown",
   "metadata": {},
   "source": [
    "#### NG-CBE "
   ]
  },
  {
   "cell_type": "code",
   "execution_count": 39,
   "metadata": {},
   "outputs": [
    {
     "name": "stdout",
     "output_type": "stream",
     "text": [
      "NG-CBE Avgerage HAP1 + MELJUSO\n"
     ]
    },
    {
     "data": {
      "text/plain": [
       "0.7377213888499463"
      ]
     },
     "execution_count": 39,
     "metadata": {},
     "output_type": "execute_result"
    }
   ],
   "source": [
    "print('NG-CBE Avgerage HAP1 + MELJUSO')\n",
    "g,h = get_roc_auc(ngcbe_plot, 'AvgHAP1_Meljuso')\n",
    "g"
   ]
  },
  {
   "cell_type": "code",
   "execution_count": 40,
   "metadata": {},
   "outputs": [
    {
     "name": "stdout",
     "output_type": "stream",
     "text": [
      "NG-CBE Average Meljuso\n"
     ]
    },
    {
     "data": {
      "text/plain": [
       "0.6906455909154634"
      ]
     },
     "execution_count": 40,
     "metadata": {},
     "output_type": "execute_result"
    }
   ],
   "source": [
    "print('NG-CBE Average Meljuso')\n",
    "i,j = get_roc_auc(ngcbe_plot, 'Meljuso_Cisplatin_RepABC')\n",
    "i"
   ]
  },
  {
   "cell_type": "code",
   "execution_count": 41,
   "metadata": {},
   "outputs": [
    {
     "name": "stdout",
     "output_type": "stream",
     "text": [
      "NG-CBE Avgerage HAP1\n"
     ]
    },
    {
     "data": {
      "text/plain": [
       "0.7602925370344409"
      ]
     },
     "execution_count": 41,
     "metadata": {},
     "output_type": "execute_result"
    }
   ],
   "source": [
    "print('NG-CBE Avgerage HAP1')\n",
    "k,l = get_roc_auc(ngcbe_plot, 'HAP1_Dropout_RepABC')\n",
    "k"
   ]
  },
  {
   "cell_type": "markdown",
   "metadata": {},
   "source": [
    "#### SpG-CBE "
   ]
  },
  {
   "cell_type": "code",
   "execution_count": 42,
   "metadata": {},
   "outputs": [
    {
     "name": "stdout",
     "output_type": "stream",
     "text": [
      "SpG-CBE Avgerage HAP1 + MELJUSO\n"
     ]
    },
    {
     "data": {
      "text/plain": [
       "0.7423991435654722"
      ]
     },
     "execution_count": 42,
     "metadata": {},
     "output_type": "execute_result"
    }
   ],
   "source": [
    "print('SpG-CBE Avgerage HAP1 + MELJUSO')\n",
    "m,n = get_roc_auc(spgcbe_plot, 'AvgHAP1_Meljuso')\n",
    "m"
   ]
  },
  {
   "cell_type": "code",
   "execution_count": 43,
   "metadata": {},
   "outputs": [
    {
     "name": "stdout",
     "output_type": "stream",
     "text": [
      "SpG-CBE Average Meljuso\n"
     ]
    },
    {
     "data": {
      "text/plain": [
       "0.6945120576966419"
      ]
     },
     "execution_count": 43,
     "metadata": {},
     "output_type": "execute_result"
    }
   ],
   "source": [
    "print('SpG-CBE Average Meljuso')\n",
    "o,p = get_roc_auc(spgcbe_plot, 'Meljuso_Cisplatin_RepAB')\n",
    "o"
   ]
  },
  {
   "cell_type": "code",
   "execution_count": 44,
   "metadata": {},
   "outputs": [
    {
     "name": "stdout",
     "output_type": "stream",
     "text": [
      "SpG-CBE Avgerage HAP1\n"
     ]
    },
    {
     "data": {
      "text/plain": [
       "0.7643790849673202"
      ]
     },
     "execution_count": 44,
     "metadata": {},
     "output_type": "execute_result"
    }
   ],
   "source": [
    "print('SpG-CBE Avgerage HAP1')\n",
    "q,r = get_roc_auc(spgcbe_plot, 'HAP1_Dropout_RepAB')\n",
    "q"
   ]
  },
  {
   "cell_type": "code",
   "execution_count": 45,
   "metadata": {},
   "outputs": [
    {
     "data": {
      "image/png": "[encoded data removed]",
      "text/plain": [
       "<Figure size 122.4x122.4 with 1 Axes>"
      ]
     },
     "metadata": {},
     "output_type": "display_data"
    }
   ],
   "source": [
    "#CBE plot\n",
    "\n",
    "gpp.set_aesthetics(context='paper', palette='Set2')\n",
    "\n",
    "fig, ax = plt.subplots(figsize=(1.7, 1.7))\n",
    "\n",
    "\n",
    "\n",
    "ax.plot(d.False_Positive_Rate, d.True_Positive_Rate, label='WT-CBE HAP1 \\n AUC:' + str(np.round(c,2)))\n",
    "ax.plot(f.False_Positive_Rate, f.True_Positive_Rate, label='WT-CBE Meljuso \\n AUC:' + str(np.round(e,2)))\n",
    "\n",
    "ax.plot(l.False_Positive_Rate, l.True_Positive_Rate, label='NG-CBE HAP1 \\n AUC:' + str(np.round(k,2)))\n",
    "ax.plot(j.False_Positive_Rate, j.True_Positive_Rate, label='NG-CBE Meljuso \\n AUC:' + str(np.round(i,2)))\n",
    "\n",
    "ax.plot(r.False_Positive_Rate, r.True_Positive_Rate, label='SpG-CBE HAP1 \\n AUC:' + str(np.round(q,2)))\n",
    "ax.plot(p.False_Positive_Rate, p.True_Positive_Rate, label='SpG-CBE Meljuso \\n AUC:' + str(np.round(o,2)))\n",
    "\n",
    "ax.legend(facecolor='white', bbox_to_anchor=(1.05, 1), loc=2, borderaxespad=0.)\n",
    "\n",
    "#ax.legend(facecolor='white', loc='upper right')\n",
    "#ax.set_aspect('equal')\n",
    "plt.xlabel('False Positive Rate \\n Silent + No edits')\n",
    "plt.ylabel('True Positive Rate \\n Splice sites + Nonsense')\n",
    "plt.xlim(0.0,1.0)\n",
    "plt.ylim(0.0, 1.0)\n",
    "sns.despine()\n",
    "plt.xlim(0.0,1.0)\n",
    "plt.title ('BRCA1 CBE')\n",
    "plt.savefig('../../../Figures/panels/Fig 5/CBE_ROCAUC_v2.pdf', dpi=1000, bbox_inches = 'tight', transparent = True)\n",
    "\n"
   ]
  },
  {
   "cell_type": "code",
   "execution_count": null,
   "metadata": {},
   "outputs": [],
   "source": []
  }
 ],
 "metadata": {
  "hide_input": false,
  "kernelspec": {
   "display_name": "Python 3",
   "language": "python",
   "name": "python3"
  },
  "language_info": {
   "codemirror_mode": {
    "name": "ipython",
    "version": 3
   },
   "file_extension": ".py",
   "mimetype": "text/x-python",
   "name": "python",
   "nbconvert_exporter": "python",
   "pygments_lexer": "ipython3",
   "version": "3.7.3"
  },
  "toc": {
   "base_numbering": 1,
   "nav_menu": {},
   "number_sections": true,
   "sideBar": true,
   "skip_h1_title": false,
   "title_cell": "Table of Contents",
   "title_sidebar": "Contents",
   "toc_cell": false,
   "toc_position": {},
   "toc_section_display": true,
   "toc_window_display": false
  },
  "varInspector": {
   "cols": {
    "lenName": 16,
    "lenType": 16,
    "lenVar": 40
   },
   "kernels_config": {
    "python": {
     "delete_cmd_postfix": "",
     "delete_cmd_prefix": "del ",
     "library": "var_list.py",
     "varRefreshCmd": "print(var_dic_list())"
    },
    "r": {
     "delete_cmd_postfix": ") ",
     "delete_cmd_prefix": "rm(",
     "library": "var_list.r",
     "varRefreshCmd": "cat(var_dic_list()) "
    }
   },
   "types_to_exclude": [
    "module",
    "function",
    "builtin_function_or_method",
    "instance",
    "_Feature"
   ],
   "window_display": false
  }
 },
 "nbformat": 4,
 "nbformat_minor": 2
}
