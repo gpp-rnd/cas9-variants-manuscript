{
 "cells": [
  {
   "cell_type": "markdown",
   "metadata": {},
   "source": [
    "# Purpose\n",
    "\n",
    "The purpose of this notebook is to calculate the # of residues targetable by variant base editors.\n"
   ]
  },
  {
   "cell_type": "code",
   "execution_count": 2,
   "metadata": {},
   "outputs": [
    {
     "name": "stderr",
     "output_type": "stream",
     "text": [
      "/Users/asangree/anaconda3/lib/python3.7/site-packages/statsmodels/tools/_testing.py:19: FutureWarning: pandas.util.testing is deprecated. Use the functions in the public API at pandas.testing instead.\n",
      "  import pandas.util.testing as tm\n"
     ]
    }
   ],
   "source": [
    "import pandas as pd \n",
    "import numpy as np \n",
    "import matplotlib as mpl\n",
    "import matplotlib.pyplot as plt\n",
    "import seaborn as sns\n",
    "from math import log\n",
    "from os import path\n",
    "import csv"
   ]
  },
  {
   "cell_type": "code",
   "execution_count": 3,
   "metadata": {},
   "outputs": [],
   "source": [
    "#PAM list 4 for NG\n",
    "ng_pams = pd.read_csv('../../Data_files/2020-10-23_PAM list 4.csv')\n"
   ]
  },
  {
   "cell_type": "code",
   "execution_count": 4,
   "metadata": {},
   "outputs": [
    {
     "name": "stdout",
     "output_type": "stream",
     "text": [
      "62\n"
     ]
    }
   ],
   "source": [
    "ng_pam_list = ng_pams['PAM'].tolist()\n",
    "print(len(ng_pam_list))"
   ]
  },
  {
   "cell_type": "code",
   "execution_count": 5,
   "metadata": {},
   "outputs": [],
   "source": [
    "#PAM list 5 for spg\n",
    "spg_pams = pd.read_csv('../../Data_files/2021-04-06_PAM list 5.csv')"
   ]
  },
  {
   "cell_type": "code",
   "execution_count": 6,
   "metadata": {},
   "outputs": [
    {
     "name": "stdout",
     "output_type": "stream",
     "text": [
      "65\n"
     ]
    }
   ],
   "source": [
    "spg_pam_list = spg_pams['PAM'].tolist()\n",
    "print(len(spg_pam_list))"
   ]
  },
  {
   "cell_type": "markdown",
   "metadata": {},
   "source": [
    "## CBE "
   ]
  },
  {
   "cell_type": "code",
   "execution_count": 7,
   "metadata": {},
   "outputs": [],
   "source": [
    "brca1_cbe = pd.read_table('../../Data_files/BRCA1/annotations/brca1_ng base-editor_tiling_library.txt')"
   ]
  },
  {
   "cell_type": "code",
   "execution_count": 8,
   "metadata": {},
   "outputs": [
    {
     "name": "stdout",
     "output_type": "stream",
     "text": [
      "(11704, 25)\n"
     ]
    },
    {
     "data": {
      "text/html": [
       "<div>\n",
       "<style scoped>\n",
       "    .dataframe tbody tr th:only-of-type {\n",
       "        vertical-align: middle;\n",
       "    }\n",
       "\n",
       "    .dataframe tbody tr th {\n",
       "        vertical-align: top;\n",
       "    }\n",
       "\n",
       "    .dataframe thead th {\n",
       "        text-align: right;\n",
       "    }\n",
       "</style>\n",
       "<table border=\"1\" class=\"dataframe\">\n",
       "  <thead>\n",
       "    <tr style=\"text-align: right;\">\n",
       "      <th></th>\n",
       "      <th>sgRNA sequence</th>\n",
       "      <th>sgRNA context sequence</th>\n",
       "      <th>Gene Symbol</th>\n",
       "      <th>Ensembl Gene ID</th>\n",
       "      <th>Ensembl transcript ID</th>\n",
       "      <th>Gene strand</th>\n",
       "      <th>Genome assembly</th>\n",
       "      <th>Transcript reference allele</th>\n",
       "      <th>Transcript alternate allele</th>\n",
       "      <th>Genome reference allele</th>\n",
       "      <th>...</th>\n",
       "      <th>Edit</th>\n",
       "      <th># edits</th>\n",
       "      <th>#silent edits</th>\n",
       "      <th>Nucleotide edits</th>\n",
       "      <th>Amino acid edits</th>\n",
       "      <th>Mutation category</th>\n",
       "      <th>Clinical significance</th>\n",
       "      <th>BsmBI flag</th>\n",
       "      <th>4T flag</th>\n",
       "      <th>Off target count</th>\n",
       "    </tr>\n",
       "  </thead>\n",
       "  <tbody>\n",
       "    <tr>\n",
       "      <th>0</th>\n",
       "      <td>CTGTTCCAATGAACTTTAAC</td>\n",
       "      <td>CTTTCTGTTCCAATGAACTTTAACACATTAG</td>\n",
       "      <td>BRCA1</td>\n",
       "      <td>ENSG00000012048</td>\n",
       "      <td>ENST00000471181</td>\n",
       "      <td>-1.0</td>\n",
       "      <td>GRCh38</td>\n",
       "      <td>G</td>\n",
       "      <td>A</td>\n",
       "      <td>C</td>\n",
       "      <td>...</td>\n",
       "      <td>C-T</td>\n",
       "      <td>2.0</td>\n",
       "      <td>0.0</td>\n",
       "      <td>C_6;C_7;</td>\n",
       "      <td>utr;utr;</td>\n",
       "      <td>UTR;UTR;</td>\n",
       "      <td>None;Uncertain significance</td>\n",
       "      <td>NaN</td>\n",
       "      <td>NaN</td>\n",
       "      <td>2.0</td>\n",
       "    </tr>\n",
       "    <tr>\n",
       "      <th>1</th>\n",
       "      <td>ATGTGTTAAAGTTCATTGGA</td>\n",
       "      <td>TCTAATGTGTTAAAGTTCATTGGAACAGAAA</td>\n",
       "      <td>BRCA1</td>\n",
       "      <td>ENSG00000012048</td>\n",
       "      <td>ENST00000471181</td>\n",
       "      <td>-1.0</td>\n",
       "      <td>GRCh38</td>\n",
       "      <td>C</td>\n",
       "      <td>T</td>\n",
       "      <td>G</td>\n",
       "      <td>...</td>\n",
       "      <td>C-T</td>\n",
       "      <td>0.0</td>\n",
       "      <td>0.0</td>\n",
       "      <td>NaN</td>\n",
       "      <td>NaN</td>\n",
       "      <td>NaN</td>\n",
       "      <td>NaN</td>\n",
       "      <td>NaN</td>\n",
       "      <td>NaN</td>\n",
       "      <td>2.0</td>\n",
       "    </tr>\n",
       "    <tr>\n",
       "      <th>2</th>\n",
       "      <td>TCTGTTCCAATGAACTTTAA</td>\n",
       "      <td>TCTTTCTGTTCCAATGAACTTTAACACATTA</td>\n",
       "      <td>BRCA1</td>\n",
       "      <td>ENSG00000012048</td>\n",
       "      <td>ENST00000471181</td>\n",
       "      <td>-1.0</td>\n",
       "      <td>GRCh38</td>\n",
       "      <td>G</td>\n",
       "      <td>A</td>\n",
       "      <td>C</td>\n",
       "      <td>...</td>\n",
       "      <td>C-T</td>\n",
       "      <td>2.0</td>\n",
       "      <td>0.0</td>\n",
       "      <td>C_7;C_8;</td>\n",
       "      <td>utr;utr;</td>\n",
       "      <td>UTR;UTR;</td>\n",
       "      <td>Uncertain significance;None</td>\n",
       "      <td>NaN</td>\n",
       "      <td>NaN</td>\n",
       "      <td>6.0</td>\n",
       "    </tr>\n",
       "    <tr>\n",
       "      <th>3</th>\n",
       "      <td>TGTGTTAAAGTTCATTGGAA</td>\n",
       "      <td>CTAATGTGTTAAAGTTCATTGGAACAGAAAG</td>\n",
       "      <td>BRCA1</td>\n",
       "      <td>ENSG00000012048</td>\n",
       "      <td>ENST00000471181</td>\n",
       "      <td>-1.0</td>\n",
       "      <td>GRCh38</td>\n",
       "      <td>C</td>\n",
       "      <td>T</td>\n",
       "      <td>G</td>\n",
       "      <td>...</td>\n",
       "      <td>C-T</td>\n",
       "      <td>0.0</td>\n",
       "      <td>0.0</td>\n",
       "      <td>NaN</td>\n",
       "      <td>NaN</td>\n",
       "      <td>NaN</td>\n",
       "      <td>NaN</td>\n",
       "      <td>NaN</td>\n",
       "      <td>NaN</td>\n",
       "      <td>2.0</td>\n",
       "    </tr>\n",
       "    <tr>\n",
       "      <th>4</th>\n",
       "      <td>TTCTGTTCCAATGAACTTTA</td>\n",
       "      <td>TTCTTTCTGTTCCAATGAACTTTAACACATT</td>\n",
       "      <td>BRCA1</td>\n",
       "      <td>ENSG00000012048</td>\n",
       "      <td>ENST00000471181</td>\n",
       "      <td>-1.0</td>\n",
       "      <td>GRCh38</td>\n",
       "      <td>G</td>\n",
       "      <td>A</td>\n",
       "      <td>C</td>\n",
       "      <td>...</td>\n",
       "      <td>C-T</td>\n",
       "      <td>1.0</td>\n",
       "      <td>0.0</td>\n",
       "      <td>C_8;</td>\n",
       "      <td>utr;</td>\n",
       "      <td>UTR;</td>\n",
       "      <td>None</td>\n",
       "      <td>NaN</td>\n",
       "      <td>NaN</td>\n",
       "      <td>3.0</td>\n",
       "    </tr>\n",
       "  </tbody>\n",
       "</table>\n",
       "<p>5 rows × 25 columns</p>\n",
       "</div>"
      ],
      "text/plain": [
       "         sgRNA sequence           sgRNA context sequence Gene Symbol  \\\n",
       "0  CTGTTCCAATGAACTTTAAC  CTTTCTGTTCCAATGAACTTTAACACATTAG       BRCA1   \n",
       "1  ATGTGTTAAAGTTCATTGGA  TCTAATGTGTTAAAGTTCATTGGAACAGAAA       BRCA1   \n",
       "2  TCTGTTCCAATGAACTTTAA  TCTTTCTGTTCCAATGAACTTTAACACATTA       BRCA1   \n",
       "3  TGTGTTAAAGTTCATTGGAA  CTAATGTGTTAAAGTTCATTGGAACAGAAAG       BRCA1   \n",
       "4  TTCTGTTCCAATGAACTTTA  TTCTTTCTGTTCCAATGAACTTTAACACATT       BRCA1   \n",
       "\n",
       "   Ensembl Gene ID Ensembl transcript ID  Gene strand Genome assembly  \\\n",
       "0  ENSG00000012048       ENST00000471181         -1.0          GRCh38   \n",
       "1  ENSG00000012048       ENST00000471181         -1.0          GRCh38   \n",
       "2  ENSG00000012048       ENST00000471181         -1.0          GRCh38   \n",
       "3  ENSG00000012048       ENST00000471181         -1.0          GRCh38   \n",
       "4  ENSG00000012048       ENST00000471181         -1.0          GRCh38   \n",
       "\n",
       "  Transcript reference allele Transcript alternate allele  \\\n",
       "0                           G                           A   \n",
       "1                           C                           T   \n",
       "2                           G                           A   \n",
       "3                           C                           T   \n",
       "4                           G                           A   \n",
       "\n",
       "  Genome reference allele  ... Edit  # edits  #silent edits Nucleotide edits  \\\n",
       "0                       C  ...  C-T      2.0            0.0         C_6;C_7;   \n",
       "1                       G  ...  C-T      0.0            0.0              NaN   \n",
       "2                       C  ...  C-T      2.0            0.0         C_7;C_8;   \n",
       "3                       G  ...  C-T      0.0            0.0              NaN   \n",
       "4                       C  ...  C-T      1.0            0.0             C_8;   \n",
       "\n",
       "  Amino acid edits Mutation category        Clinical significance  BsmBI flag  \\\n",
       "0         utr;utr;          UTR;UTR;  None;Uncertain significance         NaN   \n",
       "1              NaN               NaN                          NaN         NaN   \n",
       "2         utr;utr;          UTR;UTR;  Uncertain significance;None         NaN   \n",
       "3              NaN               NaN                          NaN         NaN   \n",
       "4             utr;              UTR;                         None         NaN   \n",
       "\n",
       "  4T flag Off target count  \n",
       "0     NaN              2.0  \n",
       "1     NaN              2.0  \n",
       "2     NaN              6.0  \n",
       "3     NaN              2.0  \n",
       "4     NaN              3.0  \n",
       "\n",
       "[5 rows x 25 columns]"
      ]
     },
     "execution_count": 8,
     "metadata": {},
     "output_type": "execute_result"
    }
   ],
   "source": [
    "print(brca1_cbe.shape)\n",
    "brca1_cbe.head()"
   ]
  },
  {
   "cell_type": "code",
   "execution_count": 9,
   "metadata": {},
   "outputs": [],
   "source": [
    "brca1_cbe = brca1_cbe[brca1_cbe['Gene Symbol'] == 'BRCA1']"
   ]
  },
  {
   "cell_type": "code",
   "execution_count": 10,
   "metadata": {},
   "outputs": [],
   "source": [
    "brca1_cbe['N_PAM'] = ['N'+p[1:3]+'N'  for p in brca1_cbe['PAM']]"
   ]
  },
  {
   "cell_type": "code",
   "execution_count": 11,
   "metadata": {},
   "outputs": [],
   "source": [
    "def GetMostSevereMutationType(string):\n",
    "    if type(string) == float:\n",
    "        return 'No edits'\n",
    "    elif 'Nonsense' in string:\n",
    "        return 'Nonsense'\n",
    "    elif 'Splice-acceptor' in string or 'Splice-donor' in string:\n",
    "        return 'Splice site'\n",
    "    elif 'Missense' in string:\n",
    "        return 'Missense'\n",
    "    elif 'Intron' in string:\n",
    "        return 'Intron'        \n",
    "    elif 'Silent' in string:\n",
    "        return 'Silent'\n",
    "    elif 'UTR' in string:\n",
    "        return 'UTR'"
   ]
  },
  {
   "cell_type": "code",
   "execution_count": 12,
   "metadata": {},
   "outputs": [],
   "source": [
    "def GetResidues(string):\n",
    "    new_string = ''\n",
    "    if type(string) != float:\n",
    "        edits = string.split(';')\n",
    "        for edit in edits:\n",
    "            if edit.startswith('Exon'):\n",
    "                new_string += 'intron;'\n",
    "            elif edit == 'utr':\n",
    "                new_string += 'utr;'\n",
    "            elif edit == '':\n",
    "                continue\n",
    "            else:\n",
    "                # Strip off all non-digit characters\n",
    "                for character in edit:\n",
    "                    if character.isdigit():        \n",
    "                        new_string += character\n",
    "                new_string += ';'\n",
    "    return new_string"
   ]
  },
  {
   "cell_type": "code",
   "execution_count": 13,
   "metadata": {},
   "outputs": [],
   "source": [
    "brca1_cbe['Mutation bin'] = brca1_cbe['Mutation category'].apply(GetMostSevereMutationType)\n"
   ]
  },
  {
   "cell_type": "code",
   "execution_count": 14,
   "metadata": {},
   "outputs": [
    {
     "name": "stdout",
     "output_type": "stream",
     "text": [
      "534\n"
     ]
    }
   ],
   "source": [
    "print(len(brca1_cbe[brca1_cbe['N_PAM'] == 'NGGN']))"
   ]
  },
  {
   "cell_type": "code",
   "execution_count": 15,
   "metadata": {},
   "outputs": [],
   "source": [
    "brca1_cbe['Residues'] = brca1_cbe['Amino acid edits'].apply(GetResidues)\n"
   ]
  },
  {
   "cell_type": "code",
   "execution_count": 16,
   "metadata": {},
   "outputs": [
    {
     "name": "stdout",
     "output_type": "stream",
     "text": [
      "253\n"
     ]
    }
   ],
   "source": [
    "all_pams = set(brca1_cbe['PAM'].tolist())\n",
    "print(len(all_pams))"
   ]
  },
  {
   "cell_type": "code",
   "execution_count": 17,
   "metadata": {},
   "outputs": [
    {
     "name": "stdout",
     "output_type": "stream",
     "text": [
      "NGG-CBE\n",
      "223\n",
      "NG-CBE\n",
      "777\n",
      "SpG-CBE\n",
      "837\n",
      "total residues\n",
      "1241\n",
      "any PAM with CBE\n",
      "1241\n"
     ]
    }
   ],
   "source": [
    "#cbe\n",
    "def get_residues(df):\n",
    "    res = []\n",
    "    count = 0\n",
    "    for i,r in df.iterrows():\n",
    "        edits = r['Amino acid edits'].split(';')\n",
    "        for edit in edits:\n",
    "            if edit != 'utr':\n",
    "                if not edit.startswith('Exon'):\n",
    "                    if edit[0:3] != edit[-3:]: \n",
    "                        res.append(edit[0:-3])\n",
    "\n",
    "    res = list(set(res))\n",
    "    print(len(res))\n",
    "    #df = pd.DataFrame(res)\n",
    "    #df.to_csv('wt_calc_test_scores.csv')\n",
    "    \n",
    "print ('NGG-CBE')\n",
    "get_residues(brca1_cbe[(brca1_cbe['Gene Symbol'] == 'BRCA1')  & \n",
    "                   (brca1_cbe['N_PAM'] == 'NGGN') & \n",
    "                   (brca1_cbe['Mutation bin'].isin(['Intron','UTR','Missense','Nonsense','Silent','Splice site']))])\n",
    "\n",
    "print ('NG-CBE')\n",
    "get_residues(brca1_cbe[(brca1_cbe['Gene Symbol'] == 'BRCA1')  & \n",
    "                   (brca1_cbe['PAM'].isin(ng_pam_list)) & \n",
    "                   (brca1_cbe['Mutation bin'].isin(['Intron','UTR','Missense','Nonsense','Silent','Splice site']))])\n",
    "\n",
    "print ('SpG-CBE')\n",
    "get_residues(brca1_cbe[(brca1_cbe['Gene Symbol'] == 'BRCA1')  & \n",
    "                   (brca1_cbe['PAM'].isin(spg_pam_list)) & \n",
    "                   (brca1_cbe['Mutation bin'].isin(['Intron','UTR','Missense','Nonsense','Silent','Splice site']))])\n",
    "\n",
    "print ('total residues')\n",
    "get_residues(brca1_cbe[(brca1_cbe['Gene Symbol'] == 'BRCA1')  &  \n",
    "                  (brca1_cbe['Mutation bin'].isin(['Intron','UTR','Missense','Nonsense','Silent','Splice site']))])\n",
    "\n",
    "print ('any PAM with CBE')\n",
    "get_residues(brca1_cbe[(brca1_cbe['Gene Symbol'] == 'BRCA1')  & \n",
    "                   (brca1_cbe['PAM'].isin(all_pams)) & \n",
    "                   (brca1_cbe['Mutation bin'].isin(['Intron','UTR','Missense','Nonsense','Silent','Splice site']))])\n"
   ]
  },
  {
   "cell_type": "markdown",
   "metadata": {},
   "source": [
    "## ABE "
   ]
  },
  {
   "cell_type": "code",
   "execution_count": 18,
   "metadata": {},
   "outputs": [],
   "source": [
    "brca1_abe = pd.read_csv('../../Data_files/BRCA1/annotations/2021-04-28_BRCA1_ABE_annotation_v2.csv')"
   ]
  },
  {
   "cell_type": "code",
   "execution_count": 19,
   "metadata": {},
   "outputs": [],
   "source": [
    "brca1_abe = brca1_abe[brca1_abe['Gene Symbol'] == 'BRCA1']"
   ]
  },
  {
   "cell_type": "code",
   "execution_count": 20,
   "metadata": {},
   "outputs": [
    {
     "name": "stdout",
     "output_type": "stream",
     "text": [
      "(11524, 25)\n"
     ]
    },
    {
     "data": {
      "text/html": [
       "<div>\n",
       "<style scoped>\n",
       "    .dataframe tbody tr th:only-of-type {\n",
       "        vertical-align: middle;\n",
       "    }\n",
       "\n",
       "    .dataframe tbody tr th {\n",
       "        vertical-align: top;\n",
       "    }\n",
       "\n",
       "    .dataframe thead th {\n",
       "        text-align: right;\n",
       "    }\n",
       "</style>\n",
       "<table border=\"1\" class=\"dataframe\">\n",
       "  <thead>\n",
       "    <tr style=\"text-align: right;\">\n",
       "      <th></th>\n",
       "      <th>Unnamed: 0</th>\n",
       "      <th>sgRNA sequence</th>\n",
       "      <th>Gene Symbol</th>\n",
       "      <th>sgRNA context sequence</th>\n",
       "      <th>Ensembl Gene ID</th>\n",
       "      <th>Ensembl transcript ID</th>\n",
       "      <th>Gene strand</th>\n",
       "      <th>Genome assembly</th>\n",
       "      <th>Transcript reference allele</th>\n",
       "      <th>Transcript alternate allele</th>\n",
       "      <th>...</th>\n",
       "      <th>PAM</th>\n",
       "      <th>Edit</th>\n",
       "      <th># edits</th>\n",
       "      <th>#silent edits</th>\n",
       "      <th>Nucleotide edits</th>\n",
       "      <th>Amino acid edits</th>\n",
       "      <th>Mutation category</th>\n",
       "      <th>Clinical significance</th>\n",
       "      <th>BsmBI flag</th>\n",
       "      <th>4T flag</th>\n",
       "    </tr>\n",
       "  </thead>\n",
       "  <tbody>\n",
       "    <tr>\n",
       "      <th>0</th>\n",
       "      <td>0</td>\n",
       "      <td>CTGTTCCAATGAACTTTAAC</td>\n",
       "      <td>BRCA1</td>\n",
       "      <td>CTTTCTGTTCCAATGAACTTTAACACATTAG</td>\n",
       "      <td>ENSG00000012048</td>\n",
       "      <td>ENST00000471181</td>\n",
       "      <td>-1.0</td>\n",
       "      <td>GRCh38</td>\n",
       "      <td>T</td>\n",
       "      <td>C</td>\n",
       "      <td>...</td>\n",
       "      <td>ACAT</td>\n",
       "      <td>A-G</td>\n",
       "      <td>1.0</td>\n",
       "      <td>0.0</td>\n",
       "      <td>A_8;</td>\n",
       "      <td>utr;</td>\n",
       "      <td>UTR;</td>\n",
       "      <td>Uncertain significance</td>\n",
       "      <td>NaN</td>\n",
       "      <td>NaN</td>\n",
       "    </tr>\n",
       "    <tr>\n",
       "      <th>1</th>\n",
       "      <td>1</td>\n",
       "      <td>ATGTGTTAAAGTTCATTGGA</td>\n",
       "      <td>BRCA1</td>\n",
       "      <td>TCTAATGTGTTAAAGTTCATTGGAACAGAAA</td>\n",
       "      <td>ENSG00000012048</td>\n",
       "      <td>ENST00000471181</td>\n",
       "      <td>-1.0</td>\n",
       "      <td>GRCh38</td>\n",
       "      <td>A</td>\n",
       "      <td>G</td>\n",
       "      <td>...</td>\n",
       "      <td>ACAG</td>\n",
       "      <td>A-G</td>\n",
       "      <td>1.0</td>\n",
       "      <td>0.0</td>\n",
       "      <td>A_8;</td>\n",
       "      <td>Exon2:-23;</td>\n",
       "      <td>Intron;</td>\n",
       "      <td>None</td>\n",
       "      <td>NaN</td>\n",
       "      <td>NaN</td>\n",
       "    </tr>\n",
       "    <tr>\n",
       "      <th>2</th>\n",
       "      <td>2</td>\n",
       "      <td>TCTGTTCCAATGAACTTTAA</td>\n",
       "      <td>BRCA1</td>\n",
       "      <td>TCTTTCTGTTCCAATGAACTTTAACACATTA</td>\n",
       "      <td>ENSG00000012048</td>\n",
       "      <td>ENST00000471181</td>\n",
       "      <td>-1.0</td>\n",
       "      <td>GRCh38</td>\n",
       "      <td>T</td>\n",
       "      <td>C</td>\n",
       "      <td>...</td>\n",
       "      <td>CACA</td>\n",
       "      <td>A-G</td>\n",
       "      <td>0.0</td>\n",
       "      <td>0.0</td>\n",
       "      <td>NaN</td>\n",
       "      <td>NaN</td>\n",
       "      <td>NaN</td>\n",
       "      <td>NaN</td>\n",
       "      <td>NaN</td>\n",
       "      <td>NaN</td>\n",
       "    </tr>\n",
       "    <tr>\n",
       "      <th>3</th>\n",
       "      <td>3</td>\n",
       "      <td>TGTGTTAAAGTTCATTGGAA</td>\n",
       "      <td>BRCA1</td>\n",
       "      <td>CTAATGTGTTAAAGTTCATTGGAACAGAAAG</td>\n",
       "      <td>ENSG00000012048</td>\n",
       "      <td>ENST00000471181</td>\n",
       "      <td>-1.0</td>\n",
       "      <td>GRCh38</td>\n",
       "      <td>A</td>\n",
       "      <td>G</td>\n",
       "      <td>...</td>\n",
       "      <td>CAGA</td>\n",
       "      <td>A-G</td>\n",
       "      <td>2.0</td>\n",
       "      <td>0.0</td>\n",
       "      <td>A_7;A_8;</td>\n",
       "      <td>Exon2:-23;Exon2:-22;</td>\n",
       "      <td>Intron;Intron;</td>\n",
       "      <td>None;Conflicting interpretations of pathogenicity</td>\n",
       "      <td>NaN</td>\n",
       "      <td>NaN</td>\n",
       "    </tr>\n",
       "    <tr>\n",
       "      <th>4</th>\n",
       "      <td>4</td>\n",
       "      <td>TTCTGTTCCAATGAACTTTA</td>\n",
       "      <td>BRCA1</td>\n",
       "      <td>TTCTTTCTGTTCCAATGAACTTTAACACATT</td>\n",
       "      <td>ENSG00000012048</td>\n",
       "      <td>ENST00000471181</td>\n",
       "      <td>-1.0</td>\n",
       "      <td>GRCh38</td>\n",
       "      <td>T</td>\n",
       "      <td>C</td>\n",
       "      <td>...</td>\n",
       "      <td>ACAC</td>\n",
       "      <td>A-G</td>\n",
       "      <td>0.0</td>\n",
       "      <td>0.0</td>\n",
       "      <td>NaN</td>\n",
       "      <td>NaN</td>\n",
       "      <td>NaN</td>\n",
       "      <td>NaN</td>\n",
       "      <td>NaN</td>\n",
       "      <td>NaN</td>\n",
       "    </tr>\n",
       "  </tbody>\n",
       "</table>\n",
       "<p>5 rows × 25 columns</p>\n",
       "</div>"
      ],
      "text/plain": [
       "   Unnamed: 0        sgRNA sequence Gene Symbol  \\\n",
       "0           0  CTGTTCCAATGAACTTTAAC       BRCA1   \n",
       "1           1  ATGTGTTAAAGTTCATTGGA       BRCA1   \n",
       "2           2  TCTGTTCCAATGAACTTTAA       BRCA1   \n",
       "3           3  TGTGTTAAAGTTCATTGGAA       BRCA1   \n",
       "4           4  TTCTGTTCCAATGAACTTTA       BRCA1   \n",
       "\n",
       "            sgRNA context sequence  Ensembl Gene ID Ensembl transcript ID  \\\n",
       "0  CTTTCTGTTCCAATGAACTTTAACACATTAG  ENSG00000012048       ENST00000471181   \n",
       "1  TCTAATGTGTTAAAGTTCATTGGAACAGAAA  ENSG00000012048       ENST00000471181   \n",
       "2  TCTTTCTGTTCCAATGAACTTTAACACATTA  ENSG00000012048       ENST00000471181   \n",
       "3  CTAATGTGTTAAAGTTCATTGGAACAGAAAG  ENSG00000012048       ENST00000471181   \n",
       "4  TTCTTTCTGTTCCAATGAACTTTAACACATT  ENSG00000012048       ENST00000471181   \n",
       "\n",
       "   Gene strand Genome assembly Transcript reference allele  \\\n",
       "0         -1.0          GRCh38                           T   \n",
       "1         -1.0          GRCh38                           A   \n",
       "2         -1.0          GRCh38                           T   \n",
       "3         -1.0          GRCh38                           A   \n",
       "4         -1.0          GRCh38                           T   \n",
       "\n",
       "  Transcript alternate allele  ...   PAM Edit  # edits  #silent edits  \\\n",
       "0                           C  ...  ACAT  A-G      1.0            0.0   \n",
       "1                           G  ...  ACAG  A-G      1.0            0.0   \n",
       "2                           C  ...  CACA  A-G      0.0            0.0   \n",
       "3                           G  ...  CAGA  A-G      2.0            0.0   \n",
       "4                           C  ...  ACAC  A-G      0.0            0.0   \n",
       "\n",
       "  Nucleotide edits      Amino acid edits Mutation category  \\\n",
       "0             A_8;                  utr;              UTR;   \n",
       "1             A_8;            Exon2:-23;           Intron;   \n",
       "2              NaN                   NaN               NaN   \n",
       "3         A_7;A_8;  Exon2:-23;Exon2:-22;    Intron;Intron;   \n",
       "4              NaN                   NaN               NaN   \n",
       "\n",
       "                               Clinical significance  BsmBI flag 4T flag  \n",
       "0                             Uncertain significance         NaN     NaN  \n",
       "1                                               None         NaN     NaN  \n",
       "2                                                NaN         NaN     NaN  \n",
       "3  None;Conflicting interpretations of pathogenicity         NaN     NaN  \n",
       "4                                                NaN         NaN     NaN  \n",
       "\n",
       "[5 rows x 25 columns]"
      ]
     },
     "execution_count": 20,
     "metadata": {},
     "output_type": "execute_result"
    }
   ],
   "source": [
    "print(brca1_abe.shape)\n",
    "brca1_abe.head()"
   ]
  },
  {
   "cell_type": "code",
   "execution_count": 21,
   "metadata": {},
   "outputs": [],
   "source": [
    "brca1_abe['N_PAM'] = ['N'+p[1:3]+'N'  for p in brca1_abe['PAM']]"
   ]
  },
  {
   "cell_type": "code",
   "execution_count": 22,
   "metadata": {},
   "outputs": [],
   "source": [
    "brca1_abe['Mutation bin'] = brca1_abe['Mutation category'].apply(GetMostSevereMutationType)\n"
   ]
  },
  {
   "cell_type": "code",
   "execution_count": 80,
   "metadata": {
    "scrolled": false
   },
   "outputs": [
    {
     "name": "stdout",
     "output_type": "stream",
     "text": [
      "NGG-ABE\n",
      "308\n",
      "NG-ABE\n",
      "992\n",
      "SpG-ABE\n",
      "1060\n",
      "total residues\n",
      "1502\n",
      "any PAM with ABE\n",
      "1502\n"
     ]
    }
   ],
   "source": [
    "gene = 'BRCA1'\n",
    "def get_residues(df):\n",
    "    res = []\n",
    "    count = 0\n",
    "    for i,r in df.iterrows():\n",
    "        edits = r['Amino acid edits'].split(';')\n",
    "        for edit in edits:\n",
    "            if edit != 'utr':\n",
    "                if not edit.startswith('Exon'):\n",
    "                    if edit[0:3] != edit[-3:]: \n",
    "                        res.append(edit[0:-3])\n",
    "\n",
    "    res = list(set(res))\n",
    "    print(len(res))\n",
    "\n",
    "print ('NGG-ABE')\n",
    "get_residues(brca1_abe[(brca1_abe['Gene Symbol'] == gene)  & \n",
    "                   (brca1_abe['N_PAM'] == 'NGGN') & \n",
    "                   (brca1_abe['Mutation bin'].isin(['Missense','Nonsense','Splice site']))])\n",
    "print ('NG-ABE')\n",
    "get_residues(brca1_abe[(brca1_abe['Gene Symbol'] == gene)  & \n",
    "                   (brca1_abe['PAM'].isin(ng_pam_list)) & \n",
    "                   (brca1_abe['Mutation bin'].isin(['Missense','Nonsense','Splice site']))])\n",
    "\n",
    "print ('SpG-ABE')\n",
    "get_residues(brca1_abe[(brca1_abe['Gene Symbol'] == gene)  & \n",
    "                   (brca1_abe['PAM'].isin(spg_pam_list)) & \n",
    "                   (brca1_abe['Mutation bin'].isin(['Missense','Nonsense','Splice site']))])\n",
    "\n",
    "print ('total residues')\n",
    "get_residues(brca1_abe[(brca1_abe['Gene Symbol'] == 'BRCA1')  &  \n",
    "                  (brca1_abe['Mutation bin'].isin(['Missense','Nonsense','Splice site']))])\n",
    "\n",
    "print ('any PAM with ABE')\n",
    "get_residues(brca1_abe[(brca1_abe['Gene Symbol'] == gene)  & \n",
    "                   (brca1_abe['PAM'].isin(all_pams)) & \n",
    "                   (brca1_abe['Mutation bin'].isin(['Missense','Nonsense','Splice site']))])\n",
    "\n",
    "\n"
   ]
  },
  {
   "cell_type": "markdown",
   "metadata": {},
   "source": [
    "## Calculate the residues that are targetable by either an ABE or CBE for each of the Cas enzymes\n",
    "\n",
    "to calculate the # of residues editable with either abe or cbe, add up the # each can target, then subtract the length of the intersection "
   ]
  },
  {
   "cell_type": "code",
   "execution_count": null,
   "metadata": {},
   "outputs": [],
   "source": [
    "#change the df such that it outputs the residues as a df"
   ]
  },
  {
   "cell_type": "code",
   "execution_count": 45,
   "metadata": {},
   "outputs": [],
   "source": [
    "col_name = ['Residue']\n",
    "def get_residues_v2(df):\n",
    "    res = []\n",
    "    count = 0\n",
    "    for i,r in df.iterrows():\n",
    "        edits = r['Amino acid edits'].split(';')\n",
    "        for edit in edits:\n",
    "            if edit != 'utr':\n",
    "                if not edit.startswith('Exon'):\n",
    "                    if edit[0:3] != edit[-3:]: \n",
    "                        res.append(edit[0:-3])\n",
    "\n",
    "    res = list(set(res))\n",
    "    print(len(res))\n",
    "    df = pd.DataFrame(res, columns= col_name)\n",
    "    return df"
   ]
  },
  {
   "cell_type": "code",
   "execution_count": 77,
   "metadata": {},
   "outputs": [
    {
     "name": "stdout",
     "output_type": "stream",
     "text": [
      "192\n"
     ]
    }
   ],
   "source": [
    "ngg_cbe_df = get_residues_v2(brca1_cbe[(brca1_cbe['Gene Symbol'] == 'BRCA1')  & \n",
    "                   (brca1_cbe['N_PAM'] == 'NGGN') & \n",
    "                   (brca1_cbe['Mutation bin'].isin(['Missense','Nonsense','Splice site']))])\n"
   ]
  },
  {
   "cell_type": "code",
   "execution_count": 47,
   "metadata": {},
   "outputs": [
    {
     "data": {
      "text/html": [
       "<div>\n",
       "<style scoped>\n",
       "    .dataframe tbody tr th:only-of-type {\n",
       "        vertical-align: middle;\n",
       "    }\n",
       "\n",
       "    .dataframe tbody tr th {\n",
       "        vertical-align: top;\n",
       "    }\n",
       "\n",
       "    .dataframe thead th {\n",
       "        text-align: right;\n",
       "    }\n",
       "</style>\n",
       "<table border=\"1\" class=\"dataframe\">\n",
       "  <thead>\n",
       "    <tr style=\"text-align: right;\">\n",
       "      <th></th>\n",
       "      <th>Residue</th>\n",
       "    </tr>\n",
       "  </thead>\n",
       "  <tbody>\n",
       "    <tr>\n",
       "      <th>0</th>\n",
       "      <td>Asp1872</td>\n",
       "    </tr>\n",
       "    <tr>\n",
       "      <th>1</th>\n",
       "      <td>Asp1496</td>\n",
       "    </tr>\n",
       "    <tr>\n",
       "      <th>2</th>\n",
       "      <td>Pro1797</td>\n",
       "    </tr>\n",
       "    <tr>\n",
       "      <th>3</th>\n",
       "      <td>Gly817</td>\n",
       "    </tr>\n",
       "    <tr>\n",
       "      <th>4</th>\n",
       "      <td>Asp825</td>\n",
       "    </tr>\n",
       "    <tr>\n",
       "      <th>...</th>\n",
       "      <td>...</td>\n",
       "    </tr>\n",
       "    <tr>\n",
       "      <th>218</th>\n",
       "      <td>Pro1833</td>\n",
       "    </tr>\n",
       "    <tr>\n",
       "      <th>219</th>\n",
       "      <td>Asp201</td>\n",
       "    </tr>\n",
       "    <tr>\n",
       "      <th>220</th>\n",
       "      <td>Asp67</td>\n",
       "    </tr>\n",
       "    <tr>\n",
       "      <th>221</th>\n",
       "      <td>Thr1794</td>\n",
       "    </tr>\n",
       "    <tr>\n",
       "      <th>222</th>\n",
       "      <td>Cys903</td>\n",
       "    </tr>\n",
       "  </tbody>\n",
       "</table>\n",
       "<p>223 rows × 1 columns</p>\n",
       "</div>"
      ],
      "text/plain": [
       "     Residue\n",
       "0    Asp1872\n",
       "1    Asp1496\n",
       "2    Pro1797\n",
       "3     Gly817\n",
       "4     Asp825\n",
       "..       ...\n",
       "218  Pro1833\n",
       "219   Asp201\n",
       "220    Asp67\n",
       "221  Thr1794\n",
       "222   Cys903\n",
       "\n",
       "[223 rows x 1 columns]"
      ]
     },
     "execution_count": 47,
     "metadata": {},
     "output_type": "execute_result"
    }
   ],
   "source": [
    "ngg_cbe_df"
   ]
  },
  {
   "cell_type": "code",
   "execution_count": 82,
   "metadata": {},
   "outputs": [
    {
     "name": "stdout",
     "output_type": "stream",
     "text": [
      "777\n"
     ]
    }
   ],
   "source": [
    "ng_cbe_df = get_residues_v2(brca1_cbe[(brca1_cbe['Gene Symbol'] == 'BRCA1')  & \n",
    "                   (brca1_cbe['PAM'].isin(ng_pam_list)) & \n",
    "                   (brca1_cbe['Mutation bin'].isin(['Missense','Nonsense','Silent','Splice site']))])\n",
    "\n"
   ]
  },
  {
   "cell_type": "code",
   "execution_count": 83,
   "metadata": {},
   "outputs": [
    {
     "name": "stdout",
     "output_type": "stream",
     "text": [
      "837\n"
     ]
    }
   ],
   "source": [
    "spg_cbe_df = get_residues_v2(brca1_cbe[(brca1_cbe['Gene Symbol'] == 'BRCA1')  & \n",
    "                   (brca1_cbe['PAM'].isin(spg_pam_list)) & \n",
    "                   (brca1_cbe['Mutation bin'].isin(['Missense','Nonsense','Silent','Splice site']))])\n"
   ]
  },
  {
   "cell_type": "code",
   "execution_count": 87,
   "metadata": {},
   "outputs": [
    {
     "name": "stdout",
     "output_type": "stream",
     "text": [
      "1241\n"
     ]
    }
   ],
   "source": [
    "pamless_cbe_df = get_residues_v2(brca1_cbe[(brca1_cbe['Gene Symbol'] == 'BRCA1')  &  \n",
    "                  (brca1_cbe['Mutation bin'].isin(['Missense','Nonsense','Silent','Splice site']))])"
   ]
  },
  {
   "cell_type": "code",
   "execution_count": 84,
   "metadata": {},
   "outputs": [
    {
     "name": "stdout",
     "output_type": "stream",
     "text": [
      "308\n"
     ]
    }
   ],
   "source": [
    "ngg_abe_df = get_residues_v2(brca1_abe[(brca1_abe['Gene Symbol'] == 'BRCA1')  & \n",
    "                   (brca1_abe['N_PAM'] == 'NGGN') & \n",
    "                   (brca1_abe['Mutation bin'].isin(['Missense','Nonsense','Silent','Splice site']))])\n"
   ]
  },
  {
   "cell_type": "code",
   "execution_count": 85,
   "metadata": {},
   "outputs": [
    {
     "name": "stdout",
     "output_type": "stream",
     "text": [
      "992\n"
     ]
    }
   ],
   "source": [
    "ng_abe_df = get_residues_v2(brca1_abe[(brca1_abe['Gene Symbol'] == 'BRCA1')  & \n",
    "                   (brca1_abe['PAM'].isin(ng_pam_list)) & \n",
    "                   (brca1_abe['Mutation bin'].isin(['Missense','Nonsense','Silent','Splice site']))])\n",
    "\n"
   ]
  },
  {
   "cell_type": "code",
   "execution_count": 86,
   "metadata": {},
   "outputs": [
    {
     "name": "stdout",
     "output_type": "stream",
     "text": [
      "1060\n"
     ]
    }
   ],
   "source": [
    "spg_abe_df = get_residues_v2(brca1_abe[(brca1_abe['Gene Symbol'] == 'BRCA1')  & \n",
    "                   (brca1_abe['PAM'].isin(spg_pam_list)) & \n",
    "                   (brca1_abe['Mutation bin'].isin(['Missense','Nonsense','Silent','Splice site']))])\n"
   ]
  },
  {
   "cell_type": "code",
   "execution_count": 88,
   "metadata": {},
   "outputs": [
    {
     "name": "stdout",
     "output_type": "stream",
     "text": [
      "1502\n"
     ]
    }
   ],
   "source": [
    "pamless_abe_df = get_residues_v2(brca1_abe[(brca1_abe['Gene Symbol'] == 'BRCA1')  &  \n",
    "                  (brca1_abe['Mutation bin'].isin(['Missense','Nonsense','Silent','Splice site']))])"
   ]
  },
  {
   "cell_type": "markdown",
   "metadata": {},
   "source": [
    "NGG - WT accessible residues"
   ]
  },
  {
   "cell_type": "code",
   "execution_count": 54,
   "metadata": {},
   "outputs": [],
   "source": [
    "ngg_cbe_res = list(set(ngg_cbe_df['Residue']))\n",
    "ngg_abe_res = list(set(ngg_abe_df['Residue']))"
   ]
  },
  {
   "cell_type": "code",
   "execution_count": 64,
   "metadata": {},
   "outputs": [
    {
     "name": "stdout",
     "output_type": "stream",
     "text": [
      "531\n"
     ]
    }
   ],
   "source": [
    "ngg_res = list((ngg_cbe_res+ngg_abe_res))\n",
    "print(len(ngg_res))"
   ]
  },
  {
   "cell_type": "code",
   "execution_count": 57,
   "metadata": {},
   "outputs": [
    {
     "name": "stdout",
     "output_type": "stream",
     "text": [
      "460\n"
     ]
    }
   ],
   "source": [
    "ngg_res_unique = list(set(ngg_cbe_res+ngg_abe_res))\n",
    "print(len(ngg_res_unique))"
   ]
  },
  {
   "cell_type": "code",
   "execution_count": 72,
   "metadata": {},
   "outputs": [
    {
     "data": {
      "text/plain": [
       "0.2440318302387268"
      ]
     },
     "execution_count": 72,
     "metadata": {},
     "output_type": "execute_result"
    }
   ],
   "source": [
    "460/1885"
   ]
  },
  {
   "cell_type": "markdown",
   "metadata": {},
   "source": [
    "460 unique residues with WT-ABE or CBE, or 24.4% of protein"
   ]
  },
  {
   "cell_type": "markdown",
   "metadata": {},
   "source": [
    "NG- accessible residues"
   ]
  },
  {
   "cell_type": "code",
   "execution_count": 66,
   "metadata": {},
   "outputs": [],
   "source": [
    "ng_cbe_res = list(set(ng_cbe_df['Residue']))\n",
    "ng_abe_res = list(set(ng_abe_df['Residue']))"
   ]
  },
  {
   "cell_type": "code",
   "execution_count": 68,
   "metadata": {},
   "outputs": [
    {
     "name": "stdout",
     "output_type": "stream",
     "text": [
      "1769\n"
     ]
    }
   ],
   "source": [
    "ng_res = list((ng_cbe_res+ng_abe_res))\n",
    "print(len(ng_res))"
   ]
  },
  {
   "cell_type": "code",
   "execution_count": 67,
   "metadata": {},
   "outputs": [
    {
     "name": "stdout",
     "output_type": "stream",
     "text": [
      "1347\n"
     ]
    }
   ],
   "source": [
    "ng_res_unique = list(set(ng_cbe_res+ng_abe_res))\n",
    "print(len(ng_res_unique))"
   ]
  },
  {
   "cell_type": "code",
   "execution_count": 73,
   "metadata": {},
   "outputs": [
    {
     "data": {
      "text/plain": [
       "0.7145888594164457"
      ]
     },
     "execution_count": 73,
     "metadata": {},
     "output_type": "execute_result"
    }
   ],
   "source": [
    "1347/1885"
   ]
  },
  {
   "cell_type": "markdown",
   "metadata": {},
   "source": [
    "1347 unique residues with NG-ABE or CBE, or 71.5% of protein"
   ]
  },
  {
   "cell_type": "markdown",
   "metadata": {},
   "source": [
    "SpG accessible residues"
   ]
  },
  {
   "cell_type": "code",
   "execution_count": 69,
   "metadata": {},
   "outputs": [],
   "source": [
    "spg_cbe_res = list(set(spg_cbe_df['Residue']))\n",
    "spg_abe_res = list(set(spg_abe_df['Residue']))"
   ]
  },
  {
   "cell_type": "code",
   "execution_count": 70,
   "metadata": {},
   "outputs": [
    {
     "name": "stdout",
     "output_type": "stream",
     "text": [
      "1897\n"
     ]
    }
   ],
   "source": [
    "spg_res = list((spg_cbe_res+spg_abe_res))\n",
    "print(len(spg_res))"
   ]
  },
  {
   "cell_type": "code",
   "execution_count": 71,
   "metadata": {},
   "outputs": [
    {
     "name": "stdout",
     "output_type": "stream",
     "text": [
      "1423\n"
     ]
    }
   ],
   "source": [
    "spg_res_unique = list(set(spg_cbe_res+spg_abe_res))\n",
    "print(len(spg_res_unique))"
   ]
  },
  {
   "cell_type": "code",
   "execution_count": 74,
   "metadata": {},
   "outputs": [
    {
     "data": {
      "text/plain": [
       "0.7549071618037135"
      ]
     },
     "execution_count": 74,
     "metadata": {},
     "output_type": "execute_result"
    }
   ],
   "source": [
    "1423/1885"
   ]
  },
  {
   "cell_type": "markdown",
   "metadata": {},
   "source": [
    "1423 unique residues with SpG-ABE or CBE, or 75.5% of protein"
   ]
  },
  {
   "cell_type": "markdown",
   "metadata": {},
   "source": [
    "PAMless"
   ]
  },
  {
   "cell_type": "code",
   "execution_count": 89,
   "metadata": {},
   "outputs": [],
   "source": [
    "pamless_cbe_res = list(set(pamless_cbe_df['Residue']))\n",
    "pamless_abe_res = list(set(pamless_abe_df['Residue']))"
   ]
  },
  {
   "cell_type": "code",
   "execution_count": 90,
   "metadata": {},
   "outputs": [
    {
     "name": "stdout",
     "output_type": "stream",
     "text": [
      "1810\n"
     ]
    }
   ],
   "source": [
    "pamless_res_unique = list(set(pamless_cbe_res+pamless_abe_res))\n",
    "print(len(pamless_res_unique))"
   ]
  },
  {
   "cell_type": "code",
   "execution_count": 91,
   "metadata": {},
   "outputs": [
    {
     "data": {
      "text/plain": [
       "0.9602122015915119"
      ]
     },
     "execution_count": 91,
     "metadata": {},
     "output_type": "execute_result"
    }
   ],
   "source": [
    "1810/1885"
   ]
  },
  {
   "cell_type": "code",
   "execution_count": null,
   "metadata": {},
   "outputs": [],
   "source": []
  }
 ],
 "metadata": {
  "hide_input": false,
  "kernelspec": {
   "display_name": "Python 3",
   "language": "python",
   "name": "python3"
  },
  "language_info": {
   "codemirror_mode": {
    "name": "ipython",
    "version": 3
   },
   "file_extension": ".py",
   "mimetype": "text/x-python",
   "name": "python",
   "nbconvert_exporter": "python",
   "pygments_lexer": "ipython3",
   "version": "3.7.3"
  },
  "toc": {
   "base_numbering": 1,
   "nav_menu": {},
   "number_sections": true,
   "sideBar": true,
   "skip_h1_title": false,
   "title_cell": "Table of Contents",
   "title_sidebar": "Contents",
   "toc_cell": false,
   "toc_position": {},
   "toc_section_display": true,
   "toc_window_display": false
  },
  "varInspector": {
   "cols": {
    "lenName": 16,
    "lenType": 16,
    "lenVar": 40
   },
   "kernels_config": {
    "python": {
     "delete_cmd_postfix": "",
     "delete_cmd_prefix": "del ",
     "library": "var_list.py",
     "varRefreshCmd": "print(var_dic_list())"
    },
    "r": {
     "delete_cmd_postfix": ") ",
     "delete_cmd_prefix": "rm(",
     "library": "var_list.r",
     "varRefreshCmd": "cat(var_dic_list()) "
    }
   },
   "types_to_exclude": [
    "module",
    "function",
    "builtin_function_or_method",
    "instance",
    "_Feature"
   ],
   "window_display": false
  }
 },
 "nbformat": 4,
 "nbformat_minor": 2
}
