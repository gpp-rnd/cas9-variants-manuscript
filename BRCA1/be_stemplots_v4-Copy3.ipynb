{
 "cells": [
  {
   "cell_type": "markdown",
   "metadata": {},
   "source": [
    "Figure 5\n",
    "\n",
    "The purpose of this notebook is to plot the sgRNAs along the length of BRCA1. We will make two plots: 1 for ABE and 1 for CBE. Both plots will use the averaged NG + SpG data, as well as averaged HAP1 + MELJUSO. \n",
    "\n",
    "1. For intermediate/active PAMs, we'll plot all nonsense, missense, and silent guides + label validation guides \n"
   ]
  },
  {
   "cell_type": "code",
   "execution_count": 1,
   "metadata": {},
   "outputs": [],
   "source": [
    "import pandas as pd\n",
    "import seaborn as sns\n",
    "import matplotlib.pyplot as plt\n",
    "import matplotlib as mpl\n",
    "from scipy import percentile\n",
    "import numpy as np\n",
    "import gpplot as gpp\n",
    "# Set default settings for plotting\n",
    "sns.set(style='ticks',context='paper')\n",
    "mpl.rc('pdf', fonttype=42)\n",
    "mpl.rcParams['font.sans-serif'] = \"Arial\"\n",
    "mpl.rcParams['font.family'] = \"sans-serif\""
   ]
  },
  {
   "cell_type": "code",
   "execution_count": 2,
   "metadata": {},
   "outputs": [],
   "source": [
    "def get_colors():\n",
    "    color_dict = {\n",
    "        'Splice site':sns.color_palette('Set2')[4],\n",
    "        'Nonsense':sns.color_palette('Set2')[5],\n",
    "        'Missense':sns.color_palette('Set2')[3],\n",
    "        'Intron':sns.color_palette('Set2')[6],\n",
    "        'Silent':sns.color_palette('Set2')[2],\n",
    "        'UTR':'#a45ab0',\n",
    "        'No edits':sns.color_palette('Set2')[1],\n",
    "        'orange':'#fc8d62',\n",
    "        'teal':'#66c2a5',\n",
    "        'lime':'#a6d854',\n",
    "        'pink':'#e78ac3',\n",
    "        'purple':'#8da0cb',\n",
    "        'Targeting control':sns.color_palette('Set2')[7],\n",
    "        'Intergenic control':sns.color_palette('Set2')[7],\n",
    "        'Non-targeting control':sns.color_palette('Set2')[7],\n",
    "        'Intron/UTR':sns.color_palette('Set2')[6]\n",
    "    }\n",
    "    return color_dict\n",
    "color_dict = get_colors()"
   ]
  },
  {
   "cell_type": "code",
   "execution_count": 3,
   "metadata": {},
   "outputs": [],
   "source": [
    "#removed dashed line (linepos)\n",
    "def stem_plot_v2(ycol,df,xcol,ylabel,title,xlims,ylims,xlabel,xticks,yticks,n_position,d1,d2,d3,\n",
    "             label_points):\n",
    "\n",
    "    #Set style/parameters for plot\n",
    "    fig = plt.figure(figsize=(3,2))\n",
    "    ax = plt.gca()\n",
    "    ax.set_title(title, fontsize=8)\n",
    "    sns.despine()\n",
    "    ax.tick_params(length=2, width=0.5,labelsize=6)\n",
    "    \n",
    "    for _,s in ax.spines.items():\n",
    "        s.set_linewidth(0.5)\n",
    "        \n",
    "    # Draw shaded area on scatter plot to span x1 and x2 values\n",
    "    ax.axvspan(d1[0],d1[1],facecolor=sns.color_palette('Set2')[7],alpha=0.5,edgecolor=None)\n",
    "    ax.axvspan(d2[0],d2[1],facecolor=sns.color_palette('Set2')[7],alpha=0.5,edgecolor=None)\n",
    "    ax.axvspan(d3[0],d3[1],facecolor=sns.color_palette('Set2')[7],alpha=0.5,edgecolor=None)\n",
    "\n",
    "    \n",
    "    # Adds a dashed line to plots at y = 'linepos'\n",
    "    #for pos in linepos:\n",
    "        #ax.axhline(pos,color='black',linestyle='dashed',zorder=3,linewidth=0.5)\n",
    "\n",
    "    #Make stem plot\n",
    "    mut_types=['Missense', 'Silent', 'Nonsense']\n",
    "    count = 0\n",
    "    for mut_type in mut_types: \n",
    "        data = df[df['Mutation bin'] == mut_type]\n",
    "        count = count + len(data)\n",
    "        ax.scatter(data[xcol],data[ycol],c=[color_dict[mut_type]],label = mut_type, s=15,zorder=3,alpha=1,linewidths=0.01)\n",
    "    \n",
    "    #Label validation guides\n",
    "    if label_points != {}:\n",
    "        for k in label_points.keys():\n",
    "            name = label_points[k]\n",
    "            x = df.loc[df['Construct Barcode'] == k,xcol].item()\n",
    "            y = df.loc[df['Construct Barcode'] == k,ycol].item()\n",
    "            c = color_dict[df.loc[df['Construct Barcode'] == k,'Mutation bin'].item()]\n",
    "            if ~np.isnan(x):\n",
    "                plt.plot([x,x+20], [y,y+1],c='black',zorder=4,linewidth=.5)\n",
    "                ax.text(x+20,y+1,name,fontsize=6)\n",
    "                ax.scatter(x,y,color=c,s=15,zorder=3,linewidths=0.1,\n",
    "                          edgecolors='black')\n",
    "\n",
    "    \n",
    "    #Stem plot formating\n",
    "    #ax.legend(bbox_to_anchor=(1, 1.05),loc=2,prop={'size': 6},framealpha=0.5)\n",
    "    ax.set_xlabel('Amino acid residue',fontsize=8,color='black')\n",
    "    ax.set_ylabel(ylabel,fontsize=8,color='black')\n",
    "    ax.text(n_position, ylims[0]+0.5, 'n: ' + str(count),fontsize=6,color='black')\n",
    "    ax.set_xlim(xlims)\n",
    "    ax.set_ylim(ylims)\n",
    "    ax.set_xticks(xticks)\n",
    "    ax.set_yticks(yticks)\n",
    "    \n",
    "#     plt.tight_layout()\n",
    "    plt.show()\n",
    "    return fig,ax\n",
    "\n"
   ]
  },
  {
   "cell_type": "code",
   "execution_count": 4,
   "metadata": {},
   "outputs": [],
   "source": [
    "brca1_ng_cbe = pd.read_csv('../../data_v3/Fig 5_6_BRCA1/processed/BRCA1-NG-CBE_LFC.csv')"
   ]
  },
  {
   "cell_type": "code",
   "execution_count": 5,
   "metadata": {},
   "outputs": [],
   "source": [
    "brca1_spg_cbe = pd.read_csv('../../data_v3/Fig 5_6_BRCA1/processed/BRCA1-SpG-CBE_LFC_v2.csv')"
   ]
  },
  {
   "cell_type": "code",
   "execution_count": 6,
   "metadata": {},
   "outputs": [],
   "source": [
    "#merge ng and spg\n",
    "\n",
    "brca1_cbe = pd.merge(brca1_ng_cbe, brca1_spg_cbe, on = 'Construct Barcode', how='inner')\n"
   ]
  },
  {
   "cell_type": "code",
   "execution_count": 7,
   "metadata": {},
   "outputs": [],
   "source": [
    "#average together ng and spg\n",
    "\n",
    "brca1_cbe['Average_NG_SpG_zscore'] = brca1_cbe[['AvgHAP1_Meljuso;z-score_x', 'AvgHAP1_Meljuso;z-score_y']].mean(axis=1)"
   ]
  },
  {
   "cell_type": "code",
   "execution_count": 8,
   "metadata": {},
   "outputs": [],
   "source": [
    "#subset df\n",
    "\n",
    "brca1_cbe = brca1_cbe[['Construct Barcode', 'Median Residues_x', 'Average_NG_SpG_zscore', 'Mutation bin_x', 'PAM_x']]\n",
    "\n",
    "brca1_cbe = brca1_cbe.rename(columns= {'Median Residues_x' : 'Median Residues',\n",
    "                                      'Mutation bin_x': 'Mutation bin',\n",
    "                                      'PAM_x': 'PAM'})"
   ]
  },
  {
   "cell_type": "code",
   "execution_count": 9,
   "metadata": {},
   "outputs": [],
   "source": [
    "#merge on intermediate/active PAMs with either NG or SpG -- PAM list 3\n",
    "pamlist3 = pd.read_csv('../../data_v3/pam_lists/2021-05-11_PAM list 3_v2.csv')"
   ]
  },
  {
   "cell_type": "code",
   "execution_count": 10,
   "metadata": {},
   "outputs": [],
   "source": [
    "brca1_int_active = pd.merge(brca1_cbe, pamlist3, on = 'PAM', how='inner')"
   ]
  },
  {
   "cell_type": "code",
   "execution_count": 11,
   "metadata": {},
   "outputs": [],
   "source": [
    "#add controls back in (they were lost when we merged with the PAM list)\n",
    "\n",
    "#brca1_int_active_ctrls = pd.concat([brca1_int_active, controls])"
   ]
  },
  {
   "cell_type": "code",
   "execution_count": 12,
   "metadata": {},
   "outputs": [],
   "source": [
    "brca1_validation = {'GTCACCCCTAAAGAGATCAT' : 'sg1',\n",
    "'AGGAACCTGTCTCCACAAAG' : 'sg2',\n",
    "'GTATCTTCAGAAGAATCAGA' : 'sg3',\n",
    "'TGATCTCCCACACTATAGGG' : 'sg4',\n",
    "'CATCCAGAAAAGTATCAGGG' : 'sg5',\n",
    "'ACAAATAAATTAAAGCGTAA' : 'sg6',\n",
    "'GCTTTCTTGATAAAATCCTC' : 'sg7',\n",
    "'ACTCATTACTCCAAATAAAC' : 'sg8',\n",
    "'ATTCCTAGAAAATATTTCAG' : 'sg9',\n",
    "'GAAACCACCAAGGTCCAAAG' : 'sg10',\n",
    "'GAACATCTTCAGTATCTCTA' : 'sg11',\n",
    "'TATTTCACCATCATCTAACA' : 'sg12',\n",
    "'GCTAACTTCCAGTAACGAGA' : 'sg13',\n",
    "'TATATCATTCTTACATAAAG' : 'sg14',\n",
    "'TTACATAAAGGACACTGTGA' : 'sg15',\n",
    "'TATCCACAATTCAAAAGCAC' : 'sg16',\n",
    "'TAACCACTCAGGTAAAAAGC' : 'sg17',\n",
    "'TCATCAACCCAGTAATAATG' : 'sg18',\n",
    "'TTCTACCAGTAAAAATAAAG' : 'sg19',   \n",
    "}"
   ]
  },
  {
   "cell_type": "code",
   "execution_count": 13,
   "metadata": {},
   "outputs": [],
   "source": [
    "validation_int_active = {'GTCACCCCTAAAGAGATCAT' : 'sg1',\n",
    "    'AGGAACCTGTCTCCACAAAG':  'sg2',\n",
    "    'ATTCCTAGAAAATATTTCAG' : 'sg9',\n",
    "    'GAAACCACCAAGGTCCAAAG' : 'sg10',\n",
    "    'GAACATCTTCAGTATCTCTA' : 'sg11',\n",
    "    'TATTTCACCATCATCTAACA' : 'sg12',\n",
    "    #'GCTAACTTCCAGTAACGAGA' : 'sg13',\n",
    "    #'TATATCATTCTTACATAAAG' : 'sg14',\n",
    "    'TTACATAAAGGACACTGTGA' : 'sg15',\n",
    "    #'TATCCACAATTCAAAAGCAC' : 'sg16',\n",
    "    #'TAACCACTCAGGTAAAAAGC' : 'sg17',\n",
    "    #'TCATCAACCCAGTAATAATG' : 'sg18',\n",
    "    #'TTCTACCAGTAAAAATAAAG' : 'sg19'\n",
    "    \n",
    "}\n"
   ]
  },
  {
   "cell_type": "code",
   "execution_count": 15,
   "metadata": {},
   "outputs": [
    {
     "data": {
      "image/png": "[encoded data removed]",
      "text/plain": [
       "<Figure size 216x144 with 1 Axes>"
      ]
     },
     "metadata": {
      "needs_background": "light"
     },
     "output_type": "display_data"
    }
   ],
   "source": [
    "col = 'Average_NG_SpG_zscore'\n",
    "fig,ax = stem_plot_v2(\n",
    "    ycol=col,\n",
    "    df=brca1_int_active,\n",
    "    xcol='Median Residues',\n",
    "    ylabel='Avg Z-scored LFC',\n",
    "    title='BRCA1 CBE',\n",
    "    xlims=[0,2000],\n",
    "    ylims=[-18,3],\n",
    "    xlabel='Amino acid residue',\n",
    "    xticks=[0,500,1000,1500,2000],\n",
    "    yticks=[-15,-10,-5,0],\n",
    "    n_position = 1800,\n",
    "    d1 = [1,102],\n",
    "    d2= [1629, 1774],\n",
    "    d3= [1780, 1878],\n",
    "    label_points=validation_int_active)\n",
    "fig.savefig('../../Figures/panels/Fig 5/BRCA1_CBE_stem_v3.pdf',dpi=1000, bbox_inches='tight', transparent=True)"
   ]
  },
  {
   "cell_type": "code",
   "execution_count": 73,
   "metadata": {},
   "outputs": [],
   "source": [
    "#ABE"
   ]
  },
  {
   "cell_type": "code",
   "execution_count": 83,
   "metadata": {},
   "outputs": [],
   "source": [
    "brca1_ng_abe = pd.read_csv('../../data_v3/Fig 5_6_BRCA1/processed/BRCA1-NG-ABE8e_LFC.csv')"
   ]
  },
  {
   "cell_type": "code",
   "execution_count": 84,
   "metadata": {},
   "outputs": [],
   "source": [
    "brca1_spg_abe = pd.read_csv('../../data_v3/Fig 5_6_BRCA1/processed/BRCA1-SpG-ABE8e_LFC_v2.csv')"
   ]
  },
  {
   "cell_type": "code",
   "execution_count": 85,
   "metadata": {},
   "outputs": [],
   "source": [
    "#merge ng and spg\n",
    "\n",
    "brca1_abe = pd.merge(brca1_ng_abe, brca1_spg_abe, on = 'Construct Barcode', how='inner')\n"
   ]
  },
  {
   "cell_type": "code",
   "execution_count": 86,
   "metadata": {},
   "outputs": [],
   "source": [
    "#average together ng and spg\n",
    "\n",
    "brca1_abe['Average_NG_SpG_zscore'] = brca1_abe[['AvgHAP1_Meljuso;z-score_x', 'AvgHAP1_Meljuso;z-score_y']].mean(axis=1)"
   ]
  },
  {
   "cell_type": "code",
   "execution_count": 87,
   "metadata": {},
   "outputs": [],
   "source": [
    "#subset df\n",
    "\n",
    "brca1_abe = brca1_abe[['Construct Barcode', 'Median Residues_x', 'Average_NG_SpG_zscore', 'Mutation bin_x', 'PAM_x']]\n",
    "\n",
    "brca1_abe = brca1_abe.rename(columns= {'Median Residues_x' : 'Median Residues',\n",
    "                                      'Mutation bin_x': 'Mutation bin',\n",
    "                                      'PAM_x': 'PAM'})"
   ]
  },
  {
   "cell_type": "code",
   "execution_count": 88,
   "metadata": {},
   "outputs": [],
   "source": [
    "brca1_abe_int_active = pd.merge(brca1_abe, pamlist3, on = 'PAM', how='inner')"
   ]
  },
  {
   "cell_type": "code",
   "execution_count": 97,
   "metadata": {},
   "outputs": [
    {
     "data": {
      "image/png": "[encoded data removed]",
      "text/plain": [
       "<Figure size 216x144 with 1 Axes>"
      ]
     },
     "metadata": {
      "needs_background": "light"
     },
     "output_type": "display_data"
    }
   ],
   "source": [
    "col = 'Average_NG_SpG_zscore'\n",
    "fig,ax = stem_plot_v2(\n",
    "    ycol=col,\n",
    "    df=brca1_abe_int_active,\n",
    "    xcol='Median Residues',\n",
    "    ylabel='Avg Z-scored LFC',\n",
    "    title='BRCA1 ABE',\n",
    "    xlims=[0,2000],\n",
    "    ylims=[-12,3],\n",
    "    xlabel='Amino acid residue',\n",
    "    xticks=[0,500,1000,1500,2000],\n",
    "    yticks=[-10,-5,0],\n",
    "    n_position = 1800,\n",
    "    d1 = [1,102],\n",
    "    d2= [1629, 1774],\n",
    "    d3= [1780, 1878],\n",
    "    label_points=validation_int_active)\n",
    "fig.savefig('../../Figures/panels/Fig 5/BRCA1_ABE_stem.pdf',dpi=1000, bbox_inches='tight', transparent=True)"
   ]
  },
  {
   "cell_type": "code",
   "execution_count": null,
   "metadata": {},
   "outputs": [],
   "source": []
  }
 ],
 "metadata": {
  "hide_input": false,
  "kernelspec": {
   "display_name": "Python 3",
   "language": "python",
   "name": "python3"
  },
  "language_info": {
   "codemirror_mode": {
    "name": "ipython",
    "version": 3
   },
   "file_extension": ".py",
   "mimetype": "text/x-python",
   "name": "python",
   "nbconvert_exporter": "python",
   "pygments_lexer": "ipython3",
   "version": "3.7.3"
  },
  "toc": {
   "base_numbering": 1,
   "nav_menu": {},
   "number_sections": true,
   "sideBar": true,
   "skip_h1_title": false,
   "title_cell": "Table of Contents",
   "title_sidebar": "Contents",
   "toc_cell": false,
   "toc_position": {},
   "toc_section_display": true,
   "toc_window_display": false
  },
  "varInspector": {
   "cols": {
    "lenName": 16,
    "lenType": 16,
    "lenVar": 40
   },
   "kernels_config": {
    "python": {
     "delete_cmd_postfix": "",
     "delete_cmd_prefix": "del ",
     "library": "var_list.py",
     "varRefreshCmd": "print(var_dic_list())"
    },
    "r": {
     "delete_cmd_postfix": ") ",
     "delete_cmd_prefix": "rm(",
     "library": "var_list.r",
     "varRefreshCmd": "cat(var_dic_list()) "
    }
   },
   "types_to_exclude": [
    "module",
    "function",
    "builtin_function_or_method",
    "instance",
    "_Feature"
   ],
   "window_display": false
  }
 },
 "nbformat": 4,
 "nbformat_minor": 2
}
