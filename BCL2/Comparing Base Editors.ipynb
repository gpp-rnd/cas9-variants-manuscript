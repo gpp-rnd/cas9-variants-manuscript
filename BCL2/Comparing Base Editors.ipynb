{
 "cells": [
  {
   "cell_type": "markdown",
   "metadata": {},
   "source": [
    "# Generate Scatterplot of ABE v. CBE Tiling Data"
   ]
  },
  {
   "cell_type": "markdown",
   "metadata": {},
   "source": [
    "The purpose of this notebook is to generate the scatterplot in Supplementary Figure 7a. This notebook was also used to generate the scatterplot in Supplementary Figure 5g."
   ]
  },
  {
   "cell_type": "markdown",
   "metadata": {},
   "source": [
    "This notebook plots the z-scored average log-fold-change of any guide that is predicted to make a missense mutation with the ABE and CBE, and any guide that is predicted to make a missense mutation with the ABE or CBE and a silent mutation or no edit with the other base editor. All guides selected for validation are labelled."
   ]
  },
  {
   "cell_type": "code",
   "execution_count": 1,
   "metadata": {},
   "outputs": [],
   "source": [
    "import pandas as pd\n",
    "import seaborn as sns\n",
    "import matplotlib.pyplot as plt\n",
    "import matplotlib as mpl\n",
    "import gpplot as gpp\n",
    "from matplotlib import rc\n",
    "\n",
    "# Set default settings for plotting\n",
    "sns.set(style='ticks',context='paper')\n",
    "mpl.rc('pdf', fonttype=42)\n",
    "mpl.rcParams['font.sans-serif'] = \"Arial\"\n",
    "mpl.rcParams['font.family'] = \"sans-serif\""
   ]
  },
  {
   "cell_type": "code",
   "execution_count": 2,
   "metadata": {},
   "outputs": [],
   "source": [
    "bcl2_abe = pd.read_csv('BCL2-NG-ABE_LFC.csv')\n",
    "bcl2_cbe = pd.read_csv('BCL2-NG-CBE_LFC.csv')\n",
    "\n",
    "gpp.set_aesthetics(context='paper', palette='Set2')"
   ]
  },
  {
   "cell_type": "code",
   "execution_count": 3,
   "metadata": {},
   "outputs": [],
   "source": [
    "shared_ng = pd.merge(bcl2_cbe, bcl2_abe, on = 'sgRNA sequence', how= 'inner')"
   ]
  },
  {
   "cell_type": "code",
   "execution_count": 4,
   "metadata": {},
   "outputs": [],
   "source": [
    "shared_ng['Mutation bin_x'].fillna('No edit', inplace=True)\n",
    "shared_ng['Mutation bin_y'].fillna('No edit', inplace=True)"
   ]
  },
  {
   "cell_type": "code",
   "execution_count": 5,
   "metadata": {
    "scrolled": true
   },
   "outputs": [],
   "source": [
    "shared_ng[\"Both Mutation Types\"] = shared_ng['Mutation bin_x'] + \"/\" + shared_ng['Mutation bin_y']"
   ]
  },
  {
   "cell_type": "code",
   "execution_count": 6,
   "metadata": {},
   "outputs": [],
   "source": [
    "shared_ng_filtered = shared_ng.copy()"
   ]
  },
  {
   "cell_type": "code",
   "execution_count": 11,
   "metadata": {},
   "outputs": [],
   "source": [
    "shared_ng_filtered = shared_ng_filtered[shared_ng_filtered['Both Mutation Types'].str.contains(\"UTR\") == False]\n",
    "shared_ng_filtered = shared_ng_filtered[shared_ng_filtered['Both Mutation Types'].str.contains(\"Nonsense\") == False]\n",
    "shared_ng_filtered = shared_ng_filtered[shared_ng_filtered['Both Mutation Types'].str.contains(\"Missense\") == True]\n",
    "\n"
   ]
  },
  {
   "cell_type": "code",
   "execution_count": 12,
   "metadata": {
    "scrolled": true
   },
   "outputs": [
    {
     "data": {
      "text/plain": [
       "Missense/No edits    184\n",
       "Missense/Missense    154\n",
       "Silent/Missense       98\n",
       "No edits/Missense     74\n",
       "Missense/Silent       29\n",
       "Name: Both Mutation Types, dtype: int64"
      ]
     },
     "execution_count": 12,
     "metadata": {},
     "output_type": "execute_result"
    }
   ],
   "source": [
    "shared_ng_filtered[\"Both Mutation Types\"].value_counts()"
   ]
  },
  {
   "cell_type": "code",
   "execution_count": 13,
   "metadata": {},
   "outputs": [],
   "source": [
    "validation = {'ACTTCTCCCGCCGCTACCGC' : 'sg19',\n",
    "    'ACGACTTCTCCCGCCGCTAC':  'sg20',\n",
    "    'AGAAGTCGTCGCCGGCCTGG' : 'sg21',\n",
    "    'GAAGGCCACAATCCTCCCCC' : 'sg22',\n",
    "    'CACCAGGGGCGACATCTCCC' : 'sg23'}"
   ]
  },
  {
   "cell_type": "code",
   "execution_count": 14,
   "metadata": {
    "scrolled": false
   },
   "outputs": [
    {
     "data": {
      "image/png": "[encoded data removed]",
      "text/plain": [
       "<Figure size 432x288 with 1 Axes>"
      ]
     },
     "metadata": {},
     "output_type": "display_data"
    }
   ],
   "source": [
    "ax= sns.scatterplot(x='MOLM13_Venetoclax_RepABC;z-score_y', y='MOLM13_Venetoclax_RepABC;z-score_x',\n",
    "               data = shared_ng_filtered, color = \"#e78ac3\", linewidth=0)\n",
    "\n",
    "gpp.add_correlation(x='MOLM13_Venetoclax_RepABC;z-score_y', y='MOLM13_Venetoclax_RepABC;z-score_x',\n",
    "               data = shared_ng_filtered)\n",
    "sns.set(rc={'figure.figsize':(3,3)})\n",
    "sns.set_style(\"white\")\n",
    "plt.xlabel('NG-ABE Venetoclax \\n z-scored LFC from Dropout')\n",
    "plt.ylabel ('NG-CBE Venetoclax \\n z-scored LFC from Dropout')\n",
    "\n",
    "for k in validation.keys():\n",
    "    name = validation[k]\n",
    "    x = shared_ng_filtered.loc[shared_ng_filtered['sgRNA sequence'] == k,'MOLM13_Venetoclax_RepABC;z-score_y'].item()\n",
    "    y = shared_ng_filtered.loc[shared_ng_filtered['sgRNA sequence'] == k,'MOLM13_Venetoclax_RepABC;z-score_x'].item()\n",
    "    if ~np.isnan(x):\n",
    "        ax.plot([x,x+.5], [y,y+.5],c='black',zorder=4,linewidth=.5)\n",
    "        ax.text(x+.6,y+.6,name,fontsize=6)\n",
    "        ax.scatter(x,y,s=30,color = \"#a6d854\",zorder=3,linewidths=0.1,\n",
    "                    edgecolors='#a6d854')\n",
    "plt.xlim(-5,10)\n",
    "plt.ylim(-5,10)\n",
    "plt.savefig('ng cbe vs ng abe venetoclax.pdf',bbox_inches='tight', dpi=1000, transparent=True)\n"
   ]
  }
 ],
 "metadata": {
  "hide_input": false,
  "kernelspec": {
   "display_name": "Python 3",
   "language": "python",
   "name": "python3"
  },
  "language_info": {
   "codemirror_mode": {
    "name": "ipython",
    "version": 3
   },
   "file_extension": ".py",
   "mimetype": "text/x-python",
   "name": "python",
   "nbconvert_exporter": "python",
   "pygments_lexer": "ipython3",
   "version": "3.8.5"
  },
  "toc": {
   "base_numbering": 1,
   "nav_menu": {},
   "number_sections": false,
   "sideBar": true,
   "skip_h1_title": false,
   "title_cell": "Table of Contents",
   "title_sidebar": "Contents",
   "toc_cell": false,
   "toc_position": {
    "height": "calc(100% - 180px)",
    "left": "10px",
    "top": "150px",
    "width": "288px"
   },
   "toc_section_display": true,
   "toc_window_display": true
  },
  "varInspector": {
   "cols": {
    "lenName": 16,
    "lenType": 16,
    "lenVar": 40
   },
   "kernels_config": {
    "python": {
     "delete_cmd_postfix": "",
     "delete_cmd_prefix": "del ",
     "library": "var_list.py",
     "varRefreshCmd": "print(var_dic_list())"
    },
    "r": {
     "delete_cmd_postfix": ") ",
     "delete_cmd_prefix": "rm(",
     "library": "var_list.r",
     "varRefreshCmd": "cat(var_dic_list()) "
    }
   },
   "types_to_exclude": [
    "module",
    "function",
    "builtin_function_or_method",
    "instance",
    "_Feature"
   ],
   "window_display": false
  }
 },
 "nbformat": 4,
 "nbformat_minor": 4
}
