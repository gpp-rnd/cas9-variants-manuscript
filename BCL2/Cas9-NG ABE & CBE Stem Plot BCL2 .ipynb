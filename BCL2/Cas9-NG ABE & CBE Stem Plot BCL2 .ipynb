{
 "cells": [
  {
   "cell_type": "markdown",
   "metadata": {},
   "source": [
    "# Generate Stem Plot with ABE and CBE Tiling Data"
   ]
  },
  {
   "cell_type": "markdown",
   "metadata": {},
   "source": [
    "The purpose of this notebook is to generate the stem plot in Figure 7b. This notebook was also used to generate stem plots in Figure 5e and 5f."
   ]
  },
  {
   "cell_type": "markdown",
   "metadata": {},
   "source": [
    "This notebook plots the z-scored average LFC for each guide along the length of the protein. Guides are represented twice (once with the ABE and once with the CBE), and colored by mutation type (missense, nonsense, silent). All guides that were chosen for validation are individually labelled."
   ]
  },
  {
   "cell_type": "markdown",
   "metadata": {},
   "source": [
    "A bar plot is also generated with the same y-axis. The bar plot shows guides targeting introns/UTRs, guides predicted to make no edit, guides predicted to target a splice site, as well as all intergenic and non-targeting control guides."
   ]
  },
  {
   "cell_type": "code",
   "execution_count": 1,
   "metadata": {},
   "outputs": [],
   "source": [
    "import pandas as pd \n",
    "import seaborn as sns\n",
    "import matplotlib.pyplot as plt\n",
    "import matplotlib as mpl\n",
    "import warnings, os\n",
    "import numpy as np\n",
    "import gpplot as gpp\n",
    "from matplotlib import rc\n",
    "#color_dict = colors.get_colors()\n",
    "\n",
    "# Set default settings for plotting\n",
    "warnings.filterwarnings('ignore')\n",
    "sns.set(style='ticks',context='paper')\n",
    "mpl.rc('pdf', fonttype=42)\n",
    "mpl.rcParams['font.sans-serif'] = \"Arial\"\n",
    "mpl.rcParams['font.family'] = \"sans-serif\""
   ]
  },
  {
   "cell_type": "code",
   "execution_count": 2,
   "metadata": {},
   "outputs": [],
   "source": [
    "def get_colors():\n",
    "\tcolor_dict = {\n",
    "\t\t'Nonsense':sns.color_palette('Set2')[5],\n",
    "\t\t'Splice site':sns.color_palette('Set2')[4],\n",
    "\t\t'Missense':sns.color_palette('Set2')[3],\n",
    "\t\t'Intron':sns.color_palette('Set2')[6],\n",
    "\t\t'Silent':sns.color_palette('Set2')[2],\n",
    "\t\t'UTR':'#a45ab0',\n",
    "\t\t'No edits':sns.color_palette('Set2')[1],\n",
    "\t\t'orange':'#fc8d62',\n",
    "\t\t'teal':'#66c2a5',\n",
    "\t\t'lime':'#a6d854',\n",
    "\t\t'pink':'#e78ac3',\n",
    "\t\t'purple':'#8da0cb',\n",
    "\t\t'Targeting control':sns.color_palette('Set2')[7],\n",
    "\t}\n",
    "\treturn color_dict\n"
   ]
  },
  {
   "cell_type": "code",
   "execution_count": 3,
   "metadata": {},
   "outputs": [],
   "source": [
    "color_dict = get_colors()"
   ]
  },
  {
   "cell_type": "code",
   "execution_count": 4,
   "metadata": {},
   "outputs": [],
   "source": [
    "bcl2_abe = pd.read_csv('BCL2-NG-ABE_LFC.csv')\n",
    "\n",
    "bcl2_cbe = pd.read_csv('BCL2-NG-CBE_LFC.csv')"
   ]
  },
  {
   "cell_type": "code",
   "execution_count": 5,
   "metadata": {},
   "outputs": [
    {
     "data": {
      "text/plain": [
       "871"
      ]
     },
     "execution_count": 5,
     "metadata": {},
     "output_type": "execute_result"
    }
   ],
   "source": [
    "len(bcl2_abe)"
   ]
  },
  {
   "cell_type": "code",
   "execution_count": 6,
   "metadata": {},
   "outputs": [],
   "source": [
    "bcl2_abe['BE'] = 'ABE'"
   ]
  },
  {
   "cell_type": "code",
   "execution_count": 7,
   "metadata": {
    "scrolled": true
   },
   "outputs": [
    {
     "data": {
      "text/plain": [
       "873"
      ]
     },
     "execution_count": 7,
     "metadata": {},
     "output_type": "execute_result"
    }
   ],
   "source": [
    "len(bcl2_cbe)"
   ]
  },
  {
   "cell_type": "code",
   "execution_count": 8,
   "metadata": {
    "scrolled": true
   },
   "outputs": [],
   "source": [
    "bcl2_cbe['BE'] = 'CBE'"
   ]
  },
  {
   "cell_type": "code",
   "execution_count": 9,
   "metadata": {},
   "outputs": [],
   "source": [
    "bcl2 = bcl2_abe.append(bcl2_cbe)"
   ]
  },
  {
   "cell_type": "code",
   "execution_count": 10,
   "metadata": {},
   "outputs": [
    {
     "data": {
      "text/plain": [
       "1744"
      ]
     },
     "execution_count": 10,
     "metadata": {},
     "output_type": "execute_result"
    }
   ],
   "source": [
    "len(bcl2)"
   ]
  },
  {
   "cell_type": "code",
   "execution_count": 11,
   "metadata": {
    "scrolled": false
   },
   "outputs": [
    {
     "name": "stdout",
     "output_type": "stream",
     "text": [
      "Python version: 3.8.5 (default, Sep  4 2020, 02:22:02) \n",
      "[Clang 10.0.0 ]\n",
      "pandas 1.1.3\n",
      "scipy 1.5.2\n",
      "matplotlib 3.3.2\n",
      "numpy 1.20.3\n",
      "seaborn 0.11.0\n"
     ]
    }
   ],
   "source": [
    "import sys\n",
    "print('Python version: ' + sys.version)\n",
    "modules = ['pandas', 'scipy','matplotlib','numpy','seaborn']\n",
    "for module in modules:\n",
    "    try:\n",
    "        print(module + ' ' + sys.modules[module].__version__)\n",
    "    except:\n",
    "        print(module + ' has no __version__ attribute')"
   ]
  },
  {
   "cell_type": "code",
   "execution_count": 12,
   "metadata": {},
   "outputs": [],
   "source": [
    "# This function is used to plot z-scores along the length of the AA in a protein in a scatter plot.\n",
    "# Missense, silent, and nosense mutations are split up by color. \n",
    "# Another axis shows z-scores of controls and guides that don't target the exon of the gene. \n",
    "\n",
    "def stem_box_plot(ycol,df,xcol,ylabel,title,linepos,xlims,ylims,xlabel,xticks,yticks,n_position,d1,label_points):\n",
    "\n",
    "    #Set style/parameters for plot\n",
    "    sns.set_context(\"paper\",font_scale=1)\n",
    "    sns.set_style('ticks')\n",
    "    fig,ax = plt.subplots(figsize=(5,2), sharex=True, sharey=True)\n",
    "    gs = fig.add_gridspec(1, 5)\n",
    "    ax = plt.subplot(gs[:3])\n",
    "    ax2 = plt.subplot(gs[3:],sharey=ax)\n",
    "    boxprops = {'edgecolor': 'black','linewidth':0.5}\n",
    "    lineprops = {'color': 'black','linewidth':0.5}\n",
    "    noprops = {'linewidth': 0.000001}\n",
    "    fig.suptitle(title, fontsize=8)\n",
    "    sns.despine()\n",
    "    ax.tick_params(length=2, width=0.5,labelsize=6)\n",
    "    ax2.tick_params(length=2, width=0.5,labelsize=6)\n",
    "    for _,s in ax.spines.items():\n",
    "        s.set_linewidth(0.5)\n",
    "    for _,s in ax2.spines.items():\n",
    "        s.set_linewidth(0.5)\n",
    "    boxplot_kwargs = dict({'boxprops': boxprops, 'medianprops': lineprops,  \n",
    "                       'whiskerprops': lineprops, 'capprops': lineprops,\n",
    "                       'width': 0.75})\n",
    "    median_kwargs = dict({'boxprops': noprops, 'medianprops': lineprops,\n",
    "                       'whiskerprops': noprops, 'capprops': noprops,\n",
    "                       'width': 0.75})\n",
    "    color_dict['Intergenic control'] = sns.color_palette('Set2')[7]\n",
    "    color_dict['Non-targeting control'] = sns.color_palette('Set2')[7]\n",
    "    color_dict['Intron/UTR'] = color_dict['Intron']\n",
    "    \n",
    "    # Draw shaded area on scatter plot to span x1 and x2 values\n",
    "    ax.axvspan(d1[0],d1[1],facecolor=sns.color_palette('Set2')[7],alpha=0.5,edgecolor=None)\n",
    "    #ax.axvspan(d2[0],d2[1],facecolor=sns.color_palette('Set2')[7],alpha=0.2,edgecolor=None)\n",
    "\n",
    "    \n",
    "    # Adds a dashed line to plots at y = 'linepos'\n",
    "    for pos in linepos:\n",
    "        ax.axhline(pos,color='black',linestyle='dashed',zorder=3,linewidth=0.5)\n",
    "        ax2.axhline(pos,color='black',linestyle='dashed',zorder=3,linewidth=0.5)\n",
    "\n",
    "    #Make stem plot\n",
    "    mut_types=['Silent','Missense','Nonsense']\n",
    "    count = 0\n",
    "    for mut_type in mut_types: \n",
    "        data = df[(df['Mutation bin'] == mut_type) & (df['Gene symbol'] == title)].dropna(subset=[xcol])\n",
    "        count = count + len(data)\n",
    "        ax.scatter(data[xcol],data[ycol],c=[color_dict[mut_type]],label = mut_type, s=15,zorder=3,alpha=1,linewidths=0.01)\n",
    "    \n",
    "    #Label validation guides\n",
    "    if label_points != {}:\n",
    "        for k in label_points.keys():\n",
    "            for BE in df['BE'].unique():\n",
    "                name = label_points[k]\n",
    "                df_2 = df[(df['BE'] == BE)]\n",
    "                x = df_2.loc[df_2['sgRNA sequence'] == k,xcol].item()\n",
    "                y = df_2.loc[df_2['sgRNA sequence'] == k,ycol].item()\n",
    "                c = color_dict[df_2.loc[df_2['sgRNA sequence'] == k,'Mutation bin'].item()]\n",
    "                if ~np.isnan(x):\n",
    "                    ax.plot([x,x+5], [y,y+1],c='black',zorder=5,linewidth=.5)\n",
    "                    ax.text(x+5,y+1,name,fontsize=6)\n",
    "                    ax.scatter(x,y,color=c,s=15,zorder=4,linewidths=0.1,\n",
    "                              edgecolors='black')\n",
    "    \n",
    "    #Stem plot formating\n",
    "    ax.set_xlabel('Amino acid residue',fontsize=8,color='black')\n",
    "    ax.set_ylabel(ylabel,fontsize=8,color='black')\n",
    "    ax.text(n_position, ylims[0]+0.5, 'n: ' + str(count),fontsize=6,color='black')\n",
    "    ax.set_xlim(xlims)\n",
    "    ax.set_ylim(ylims)\n",
    "    ax.set_xticks(xticks)\n",
    "    ax.set_yticks(yticks)\n",
    "    \n",
    "    #Plot guides not along exon, exlcuding controls\n",
    "    small = df.loc[(df['Gene symbol'] == title) & df['Mutation bin'].str.contains('site|Intron|UTR|edit'),['Mutation bin',ycol]]\n",
    "    small.loc[small['Mutation bin'] == 'UTR','Mutation bin'] = 'Intron/UTR'\n",
    "    small.loc[small['Mutation bin'] == 'Intron','Mutation bin'] = 'Intron/UTR'\n",
    "    small.sort_values(by=['Mutation bin'],inplace=True)\n",
    "    controls = df.loc[df['Mutation bin'].str.contains('control',na=False),['Mutation bin',ycol]]\n",
    "    #print(controls)\n",
    "    controls.sort_values(by=['Mutation bin'],inplace=True)\n",
    "    #print(controls)\n",
    "    small = pd.concat([small,controls])\n",
    "    categories = small['Mutation bin'].unique().tolist()\n",
    "    strip = pd.DataFrame(columns=['Mutation bin',ycol])\n",
    "    outliers = pd.DataFrame(columns=['Mutation bin',ycol])\n",
    "    bar = pd.DataFrame(columns=['Mutation bin',ycol])\n",
    "    \n",
    "    for cat in categories:\n",
    "        #For sample sizes larger than 20, add to swarm df and then set equal to 0\n",
    "        strip = strip.append(small.loc[small['Mutation bin'].str.contains(cat)],sort=False, ignore_index=True)\n",
    "        bar = bar.append(small.loc[small['Mutation bin'].str.contains(cat)],sort=False, ignore_index=True)\n",
    "        outliers = outliers.append(small.loc[small['Mutation bin'].str.contains(cat)],sort=False, ignore_index=True)\n",
    "        if len(small.loc[small['Mutation bin'].str.contains(cat)].index) >20 :\n",
    "            strip.loc[strip['Mutation bin'].str.contains(cat),ycol] = np.nan\n",
    "            [q1,q3] = outliers.loc[outliers['Mutation bin'].str.contains(cat),ycol].quantile([0.25,0.75])\n",
    "            IQR = q3-q1\n",
    "            w1 = q1-1.5*IQR\n",
    "            w3 = q3+1.5*IQR\n",
    "            outliers.loc[outliers['Mutation bin'].str.contains(cat) & (outliers[ycol] > w1) & (outliers[ycol] < w3), ycol] = np.nan\n",
    "        #For data sets <=20, add to swarm dataset & bar data set & then set bar data to NaN\n",
    "        else: \n",
    "            bar.loc[bar['Mutation bin'].str.contains(cat),ycol] = np.nan \n",
    "\n",
    "    sns.boxplot(x='Mutation bin',y=ycol,data=bar,palette=color_dict,ax=ax2,\n",
    "               showfliers=False,**boxplot_kwargs)\n",
    "    sns.boxplot(x='Mutation bin',y=ycol,data=strip,color='white',ax=ax2,\n",
    "               showfliers=False,**median_kwargs,showbox=False,showcaps=False,\n",
    "               whis=0)\n",
    "    sns.stripplot(x='Mutation bin',y=ycol,data=outliers,palette=color_dict,ax=ax2,s=3.5)\n",
    "\n",
    "    #Box plot formatting (Axis 2)\n",
    "    ax2.set_xlabel('')\n",
    "    ax2.set_ylabel('')\n",
    "    plt.setp(ax2.get_yticklabels(), visible=False)\n",
    "    ax2.set_xticklabels(['Intron/\\nUTR','No\\nEdits','Splice\\nsite','Intergenic',\n",
    "                        'Non-\\ntargeting'],fontsize=6)\n",
    "    \n",
    "    \n",
    "    # Calculate number of obs per group for position labels\n",
    "    nobs = []\n",
    "    for cat in categories:\n",
    "        nobs.append(len(bar.loc[bar['Mutation bin'] == cat].index))\n",
    "    nobs_sum = sum(nobs)\n",
    "    nobs = [str(integer) for integer in nobs]\n",
    "    nobs = [\"n: \" + i for i in nobs]\n",
    "\n",
    "    #Add it to the plot\n",
    "    pos = range(len(nobs))\n",
    "    for tick,label in zip(pos,ax2.get_xticklabels()):\n",
    "        ax2.text(pos[tick], ylims[0]+0.5, nobs[tick],\n",
    "               horizontalalignment='center', size='x-small', color='black',fontsize=6) \n",
    "\n",
    "     \n",
    "    plt.tight_layout()\n",
    "    plt.show()\n",
    "    pan_lethal = len(df.loc[df['Mutation bin'].str.contains('lethal',na=False)]) \n",
    "    print('Stem plot: ' + str(count))\n",
    "    print('Box plot: ' + str(len(small)))\n",
    "    print('Pan lethal: ' + str(pan_lethal))\n",
    "    print('Unaccounted for: ' + str(len(df)-count-len(small)-pan_lethal))\n",
    "\n",
    "    return fig,ax"
   ]
  },
  {
   "cell_type": "code",
   "execution_count": 13,
   "metadata": {},
   "outputs": [],
   "source": [
    "validation = {'ACTTCTCCCGCCGCTACCGC' : 'sg19',\n",
    "    'ACGACTTCTCCCGCCGCTAC':  'sg20',\n",
    "    'AGAAGTCGTCGCCGGCCTGG' : 'sg21',\n",
    "    'GAAGGCCACAATCCTCCCCC' : 'sg22',\n",
    "    'CACCAGGGGCGACATCTCCC' : 'sg23'}"
   ]
  },
  {
   "cell_type": "code",
   "execution_count": 14,
   "metadata": {
    "scrolled": true
   },
   "outputs": [
    {
     "data": {
      "image/png": "[encoded data removed]",
      "text/plain": [
       "<Figure size 360x144 with 2 Axes>"
      ]
     },
     "metadata": {},
     "output_type": "display_data"
    },
    {
     "name": "stdout",
     "output_type": "stream",
     "text": [
      "Stem plot: 931\n",
      "Box plot: 749\n",
      "Pan lethal: 64\n",
      "Unaccounted for: 0\n"
     ]
    }
   ],
   "source": [
    "col = 'MOLM13_Venetoclax_RepABC;z-score'\n",
    "fig,ax = stem_box_plot(\n",
    "    ycol=col,\n",
    "    df=bcl2,\n",
    "    xcol='Median Residues',\n",
    "    ylabel='MOLM-13 Venetoclax \\n z-scored avg LFC',\n",
    "    title='BCL2',\n",
    "    linepos=[3],\n",
    "    xlims=[0,250],\n",
    "    ylims=[-5,10],\n",
    "    xlabel='Amino acid residue',\n",
    "    xticks=[0,50,100,150,200,250],\n",
    "    yticks=[-5,0,5,10],\n",
    "    n_position = 200,\n",
    "    d1 = [0,1],\n",
    "    label_points=validation)\n",
    "\n",
    "    \n",
    "fig.savefig('Stem_plot_BCL2_ngABE&CBE.pdf', dpi=1000, bbox_inches='tight', transparent=True)"
   ]
  },
  {
   "cell_type": "code",
   "execution_count": 15,
   "metadata": {},
   "outputs": [
    {
     "name": "stdout",
     "output_type": "stream",
     "text": [
      "Targeting control: 150\n",
      "Missense: 720\n",
      "No edits: 382\n",
      "Non-targeting control: 150\n",
      "Silent: 185\n",
      "Splice site: 7\n",
      "Intron: 34\n",
      "Pan-lethal: 64\n",
      "UTR: 26\n",
      "Nonsense: 26\n",
      "UTR/Intron: 60\n",
      "Stem plot: 931\n"
     ]
    }
   ],
   "source": [
    "numberOfMutations = {}\n",
    "stem_plot = ['Silent','Missense','Nonsense']\n",
    "utr_intron = ['UTR','Intron']\n",
    "utr_intron_count = 0\n",
    "stem_plot_count = 0\n",
    "\n",
    "for mutation in bcl2['Mutation bin'].unique():\n",
    "    x = len(bcl2[bcl2['Mutation bin'] == mutation])\n",
    "    numberOfMutations[mutation] = x\n",
    "    print(mutation + ': ' + str(x))\n",
    "    if mutation in stem_plot:\n",
    "        stem_plot_count = stem_plot_count + x\n",
    "    if mutation in utr_intron:\n",
    "        utr_intron_count = utr_intron_count + x\n",
    "\n",
    "print('UTR/Intron: ' + str(utr_intron_count))\n",
    "print('Stem plot: ' + str(stem_plot_count))"
   ]
  }
 ],
 "metadata": {
  "kernelspec": {
   "display_name": "Python 3",
   "language": "python",
   "name": "python3"
  },
  "language_info": {
   "codemirror_mode": {
    "name": "ipython",
    "version": 3
   },
   "file_extension": ".py",
   "mimetype": "text/x-python",
   "name": "python",
   "nbconvert_exporter": "python",
   "pygments_lexer": "ipython3",
   "version": "3.8.5"
  },
  "toc": {
   "base_numbering": 1,
   "nav_menu": {},
   "number_sections": false,
   "sideBar": true,
   "skip_h1_title": false,
   "title_cell": "Table of Contents",
   "title_sidebar": "Contents",
   "toc_cell": false,
   "toc_position": {},
   "toc_section_display": true,
   "toc_window_display": true
  },
  "varInspector": {
   "cols": {
    "lenName": 16,
    "lenType": 16,
    "lenVar": 40
   },
   "kernels_config": {
    "python": {
     "delete_cmd_postfix": "",
     "delete_cmd_prefix": "del ",
     "library": "var_list.py",
     "varRefreshCmd": "print(var_dic_list())"
    },
    "r": {
     "delete_cmd_postfix": ") ",
     "delete_cmd_prefix": "rm(",
     "library": "var_list.r",
     "varRefreshCmd": "cat(var_dic_list()) "
    }
   },
   "types_to_exclude": [
    "module",
    "function",
    "builtin_function_or_method",
    "instance",
    "_Feature"
   ],
   "window_display": false
  }
 },
 "nbformat": 4,
 "nbformat_minor": 4
}
