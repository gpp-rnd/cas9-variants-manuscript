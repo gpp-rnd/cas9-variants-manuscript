{
 "cells": [
  {
   "cell_type": "markdown",
   "metadata": {},
   "source": [
    "# BCL2 Read Counts Processing"
   ]
  },
  {
   "cell_type": "markdown",
   "metadata": {},
   "source": [
    "The purpose of this notebook is to process the BCL2 tiling data from Supplementary Data 7 to annotated files with lognorms, LFC, and z-scores."
   ]
  },
  {
   "cell_type": "markdown",
   "metadata": {},
   "source": [
    "This notebook was also used to process the BRCA1 tiling data from Supplementary Data 5 and 6."
   ]
  },
  {
   "cell_type": "markdown",
   "metadata": {},
   "source": [
    "This notebook describes and performs the calculations used to \"preprocess\" all BCL2 data, starting from raw read counts and ending with LFC values. The following steps are performed for each screen:\n",
    "\n",
    "- Calculate lognorms\n",
    "- Filter out any sgRNAs for which the lognorm of pDNA is > 3 SD from the mean\n",
    "- Filter out any sgRNAs with > 5 Match Bin I off-targets\n",
    "    - Note: only the WT library was designed without these guides prefiltered (BRCA1 only). \n",
    "- Calculate log-fold-change from pDNA or un-treated arm\n",
    "- Average log-fold-change across replicates of the same condition\n",
    "- Calculate z-score for averaged log-fold-change\n",
    "- Merge data with annotations file\n",
    "- Calculate Mutation bin, Residues, and Median Residues\n",
    "\n",
    "\n",
    "\n",
    "Returns two files: (1) unfiltered lognorm file and (2) filtered LFC file with annotations, averaged replicates, and z-scores (for use in all downstream calculations)"
   ]
  },
  {
   "cell_type": "code",
   "execution_count": 1,
   "metadata": {
    "scrolled": true
   },
   "outputs": [],
   "source": [
    "import pandas as pd\n",
    "from poola import core as pool\n",
    "import seaborn as sns\n",
    "import gpplot\n",
    "import matplotlib.pyplot as plt\n",
    "import matplotlib as mpl\n",
    "import numpy as np\n",
    "import re"
   ]
  },
  {
   "cell_type": "code",
   "execution_count": 2,
   "metadata": {},
   "outputs": [
    {
     "name": "stdout",
     "output_type": "stream",
     "text": [
      "Python version: 3.8.5 (default, Sep  4 2020, 02:22:02) \n",
      "[Clang 10.0.0 ]\n",
      "pandas 1.1.3\n",
      "poola 0.0.13\n",
      "seaborn 0.11.0\n",
      "gpplot 0.5.0\n",
      "matplotlib 3.3.2\n",
      "numpy 1.20.3\n"
     ]
    }
   ],
   "source": [
    "import sys\n",
    "print('Python version: ' + sys.version)\n",
    "modules = ['pandas','poola','seaborn','gpplot','matplotlib','numpy']\n",
    "for module in modules:\n",
    "    try:\n",
    "        print(module + ' ' + sys.modules[module].__version__)\n",
    "    except:\n",
    "        print(module + ' has no __version__ attribute')"
   ]
  },
  {
   "cell_type": "markdown",
   "metadata": {},
   "source": [
    "## Functions"
   ]
  },
  {
   "cell_type": "code",
   "execution_count": 3,
   "metadata": {},
   "outputs": [],
   "source": [
    "def get_z_score(data,col,control_category,control_col):\n",
    "    mean = data.loc[data[control_col].str.contains(control_category),col].mean()\n",
    "    std = data.loc[data[control_col].str.contains(control_category),col].std()\n",
    "    data[str(col + ';z-score')] = data[col].apply(lambda x: (x-mean)/std)\n",
    "    return data\n",
    "\n",
    "\n",
    "def GetMostSevereMutationType(string):\n",
    "    if type(string) == float:\n",
    "        return 'No edits'\n",
    "    elif 'Nonsense' in string:\n",
    "        return 'Nonsense'\n",
    "    elif 'Splice-acceptor' in string or 'Splice-donor' in string:\n",
    "        return 'Splice site'\n",
    "    elif 'Missense' in string:\n",
    "        return 'Missense'\n",
    "    elif 'Intron' in string:\n",
    "        return 'Intron'        \n",
    "    elif 'Silent' in string:\n",
    "        return 'Silent'\n",
    "    elif 'UTR' in string:\n",
    "        return 'UTR'\n",
    "   \n",
    "    \n",
    "def GetResidues(string):\n",
    "    new_string = ''\n",
    "    if type(string) != float:\n",
    "        edits = [x.strip() for x in re.split(';|,', string)]\n",
    "        for edit in edits:\n",
    "            if edit.startswith('Exon'):\n",
    "                new_string += 'intron;'\n",
    "            elif edit == 'utr':\n",
    "                new_string += 'utr;'\n",
    "            elif edit == '':\n",
    "                continue\n",
    "            else:\n",
    "                # Strip off all non-digit characters\n",
    "                for character in edit:\n",
    "                    if character.isdigit():        \n",
    "                        new_string += character\n",
    "                new_string += ';'\n",
    "    return new_string\n",
    "\n",
    "\n",
    "'''\n",
    "GetMedianResidues_v2 is updated so that sgRNAs that are binned as \"Missense\" but contain\n",
    "intronic (not splice site!) edits still get a \"median residue\" and can appear on a protein plot. This\n",
    "is consistent with the ordering of GetMostSevereMutationType, in which Missense > Intron.\n",
    "\n",
    "Note that sgRNAs with 'Mutation bin' == 'Splice site' still do NOT receive a \"median residue,\" consistent\n",
    "with Splice site > Missense in mutation bin ordering.\n",
    "'''\n",
    "    \n",
    "def GetMedianResidues_v2(row):\n",
    "    residues = row['Residues'].split(';')\n",
    "    if (row['Mutation bin'] == 'Splice site') or (row['Mutation bin'] == 'UTR'):\n",
    "        return np.nan\n",
    "    residues = [int(res) for res in residues if res not in ['','intron','utr']]\n",
    "    if len(residues) != 0:\n",
    "        return np.median(residues)\n",
    "    else:\n",
    "        return np.nan\n",
    "    \n",
    "\n",
    "    \n",
    "def getAddedAnnotations(df):\n",
    "    df['Mutation bin'] = df['Mutation category'].apply(GetMostSevereMutationType)\n",
    "    df['Residues'] = df['Amino acid edits'].apply(GetResidues)\n",
    "    df['Median Residues'] = df.apply(GetMedianResidues_v2,axis=1)\n",
    "    #Add \"Non-targeting control\" annotation for NO_SITE Constructs\n",
    "    df.loc[df['Gene symbol'].str.contains('NO_SITE'),'Mutation bin'] = 'Non-targeting control'\n",
    "    #Add \"Targeting control\" annotation for ONE_NON-GENE_SITE Constructs\n",
    "    df.loc[df['Gene symbol'].str.contains('ONE_NON-GENE_SITE'),'Mutation bin'] = 'Targeting control'\n",
    "    #Add \"pan-lethal control\" annotation\n",
    "    panlethal_list = ['EEF2','HNRNPU','KPNB1','PELP1','RPS20','SF3B1','SNRPD1','TFRC']\n",
    "    df.loc[df['Gene symbol'].isin(panlethal_list),'Mutation bin'] = 'Pan-lethal'\n",
    "    \n",
    "    \n",
    "def processData(df,replicates,annotations,zscore_controls,zscore_control_col,Match_bin_filter=False):\n",
    "    if replicates == 3:\n",
    "        cols = ['pDNA','MOLM13_Dropout_RepA', 'MOLM13_Dropout_RepB','MOLM13_Dropout_RepC',\n",
    "                'MOLM13_Venetoclax_RepA', 'MOLM13_Venetoclax_RepB','MOLM13_Venetoclax_RepC']\n",
    "    #Calculate lognorms\n",
    "    lognorm = pool.lognorm_columns(reads_df=df, columns=cols)\n",
    "    #Filter lognorms\n",
    "    filtered_lognorm = pool.filter_pdna(lognorm_df=lognorm, pdna_cols=['pDNA'], z_low=-3)\n",
    "    pdna_filtered = lognorm.shape[0] - filtered_lognorm.shape[0]\n",
    "    print('Filtered ' + str(lognorm.shape[0] - filtered_lognorm.shape[0]) + ' guides due to low pDNA abundance')\n",
    "    \n",
    "    if Match_bin_filter:\n",
    "        counts = ['0','1','2','3','4','5']\n",
    "        filtered_on_target = annotations[annotations['Match Bin I counts'].isin(counts)]\n",
    "        filtered_lognorm = filtered_lognorm.merge(filtered_on_target['sgRNA sequence'],how='inner',on='sgRNA sequence')\n",
    "        filtered_lognorm.drop(labels='sgRNA sequence',axis=1,inplace=True)\n",
    "        print('Filtered ' + str(lognorm.shape[0] - pdna_filtered - filtered_lognorm.shape[0]) + ' additional guides due a Match Bin I count >5.') \n",
    "    \n",
    "    #calculate log-fold changes\n",
    "    lfc = pool.calculate_lfcs(filtered_lognorm, ref_map = {'MOLM13_Dropout_RepA': 'pDNA', 'MOLM13_Dropout_RepB': 'pDNA',\n",
    "                                                    'MOLM13_Dropout_RepC': 'pDNA','MOLM13_Venetoclax_RepA': 'MOLM13_Dropout_RepA',\n",
    "                                                    'MOLM13_Venetoclax_RepB': 'MOLM13_Dropout_RepB','MOLM13_Venetoclax_RepC': 'MOLM13_Dropout_RepC'}) \n",
    "       \n",
    "    #average lfcs for each conditions\n",
    "    condition_list = ['MOLM13_Dropout', 'MOLM13_Venetoclax']\n",
    "    construct_cols = ['sgRNA sequence', 'Gene symbol']\n",
    "    for condition in condition_list:\n",
    "        # selecting columns for that condition\n",
    "        condition_reps = [col for col in lfc.columns if condition in col]\n",
    "        condition_df = lfc[condition_reps]\n",
    "        avg_lfc_col = condition + '_RepABC'\n",
    "        # storing average lfc in new column in old dataframe \n",
    "        lfc[avg_lfc_col] = condition_df.mean(axis = 1)\n",
    "   \n",
    "    #merge with annotations\n",
    "    lfc = lfc.merge(annotations,on='sgRNA sequence')\n",
    "    #calculate z-score\n",
    "    get_z_score(lfc,'MOLM13_Venetoclax_RepABC',zscore_controls,zscore_control_col);\n",
    "    getAddedAnnotations(lfc)\n",
    "    return lognorm, lfc   "
   ]
  },
  {
   "cell_type": "markdown",
   "metadata": {},
   "source": [
    "## NG"
   ]
  },
  {
   "cell_type": "markdown",
   "metadata": {},
   "source": [
    "### CBE"
   ]
  },
  {
   "cell_type": "code",
   "execution_count": 4,
   "metadata": {
    "scrolled": true
   },
   "outputs": [],
   "source": [
    "ng_cbe = pd.read_excel('Supplementary_Data7_v2.xlsx', \"NG CBE\",\n",
    "                      skiprows=2, names = ['sgRNA sequence', 'pDNA', 'MOLM13_Dropout_RepA', 'MOLM13_Dropout_RepB',\n",
    "                                        'MOLM13_Dropout_RepC', 'MOLM13_Venetoclax_RepA', 'MOLM13_Venetoclax_RepB',\n",
    "                                        'MOLM13_Venetoclax_RepC'])"
   ]
  },
  {
   "cell_type": "code",
   "execution_count": 5,
   "metadata": {},
   "outputs": [],
   "source": [
    "ng_cbe_annot = pd.read_excel('Supplementary_Data7_v2.xlsx', \"NG CBE Library Annotation\")"
   ]
  },
  {
   "cell_type": "code",
   "execution_count": 6,
   "metadata": {
    "scrolled": true
   },
   "outputs": [
    {
     "name": "stdout",
     "output_type": "stream",
     "text": [
      "Filtered 1 guides due to low pDNA abundance\n"
     ]
    }
   ],
   "source": [
    "ng_cbe_lognorm, lfc_ng_cbe = processData(df=ng_cbe,\n",
    "                                         replicates=3,\n",
    "                                         annotations=ng_cbe_annot,\n",
    "                                         zscore_controls='ONE_NON-GENE_SITE',\n",
    "                                         zscore_control_col='Gene symbol')"
   ]
  },
  {
   "cell_type": "code",
   "execution_count": 7,
   "metadata": {},
   "outputs": [],
   "source": [
    "ng_cbe_lognorm.to_csv('BCL2-NG-CBE_lognorm.csv',index=False)\n",
    "lfc_ng_cbe.to_csv('BCL2-NG-CBE_LFC.csv',index=False)"
   ]
  },
  {
   "cell_type": "markdown",
   "metadata": {},
   "source": [
    "### ABE"
   ]
  },
  {
   "cell_type": "code",
   "execution_count": 8,
   "metadata": {
    "scrolled": false
   },
   "outputs": [],
   "source": [
    "ng_abe = pd.read_excel('Supplementary_Data7_v2.xlsx', \"NG ABE\",\n",
    "                      skiprows=2, names = ['sgRNA sequence', 'pDNA', 'MOLM13_Dropout_RepA', 'MOLM13_Dropout_RepB',\n",
    "                                        'MOLM13_Dropout_RepC', 'MOLM13_Venetoclax_RepA', 'MOLM13_Venetoclax_RepB',\n",
    "                                        'MOLM13_Venetoclax_RepC'])"
   ]
  },
  {
   "cell_type": "code",
   "execution_count": 9,
   "metadata": {},
   "outputs": [],
   "source": [
    "ng_abe_annot = pd.read_excel('Supplementary_Data7_v2.xlsx', \"NG ABE Library Annotation\")"
   ]
  },
  {
   "cell_type": "code",
   "execution_count": 10,
   "metadata": {},
   "outputs": [
    {
     "name": "stdout",
     "output_type": "stream",
     "text": [
      "Filtered 3 guides due to low pDNA abundance\n"
     ]
    }
   ],
   "source": [
    "ng_abe_lognorm, lfc_ng_abe = processData(df=ng_abe,\n",
    "                                         replicates=3,\n",
    "                                         annotations=ng_abe_annot,\n",
    "                                         zscore_controls='ONE_NON-GENE_SITE',\n",
    "                                         zscore_control_col='Gene symbol')"
   ]
  },
  {
   "cell_type": "code",
   "execution_count": 11,
   "metadata": {},
   "outputs": [],
   "source": [
    "ng_abe_lognorm.to_csv('BCL2-NG-ABE_lognorm.csv',index=False)\n",
    "lfc_ng_abe.to_csv('BCL2-NG-ABE_LFC.csv',index=False)"
   ]
  },
  {
   "cell_type": "code",
   "execution_count": null,
   "metadata": {},
   "outputs": [],
   "source": []
  },
  {
   "cell_type": "code",
   "execution_count": null,
   "metadata": {},
   "outputs": [],
   "source": []
  }
 ],
 "metadata": {
  "hide_input": false,
  "kernelspec": {
   "display_name": "Python 3",
   "language": "python",
   "name": "python3"
  },
  "language_info": {
   "codemirror_mode": {
    "name": "ipython",
    "version": 3
   },
   "file_extension": ".py",
   "mimetype": "text/x-python",
   "name": "python",
   "nbconvert_exporter": "python",
   "pygments_lexer": "ipython3",
   "version": "3.8.5"
  },
  "toc": {
   "base_numbering": 1,
   "nav_menu": {},
   "number_sections": true,
   "sideBar": true,
   "skip_h1_title": true,
   "title_cell": "Table of Contents",
   "title_sidebar": "Contents",
   "toc_cell": false,
   "toc_position": {
    "height": "calc(100% - 180px)",
    "left": "10px",
    "top": "150px",
    "width": "227px"
   },
   "toc_section_display": true,
   "toc_window_display": true
  },
  "varInspector": {
   "cols": {
    "lenName": 16,
    "lenType": 16,
    "lenVar": 40
   },
   "kernels_config": {
    "python": {
     "delete_cmd_postfix": "",
     "delete_cmd_prefix": "del ",
     "library": "var_list.py",
     "varRefreshCmd": "print(var_dic_list())"
    },
    "r": {
     "delete_cmd_postfix": ") ",
     "delete_cmd_prefix": "rm(",
     "library": "var_list.r",
     "varRefreshCmd": "cat(var_dic_list()) "
    }
   },
   "types_to_exclude": [
    "module",
    "function",
    "builtin_function_or_method",
    "instance",
    "_Feature"
   ],
   "window_display": false
  }
 },
 "nbformat": 4,
 "nbformat_minor": 2
}
